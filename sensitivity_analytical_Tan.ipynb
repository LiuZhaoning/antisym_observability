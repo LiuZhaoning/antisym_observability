{
 "cells": [
  {
   "cell_type": "code",
   "execution_count": 234,
   "metadata": {},
   "outputs": [],
   "source": [
    "#for paper 3: computation of the sensitivity of the anstisymmetric power spectrum\n",
    "import numpy as np\n",
    "import matplotlib \n",
    "from matplotlib import pyplot as plt\n",
    "import time\n",
    "import sys\n",
    "import os\n",
    "import scipy\n",
    "from scipy.interpolate import interp1d, interp2d\n",
    "from multiprocessing import Pool, Manager\n",
    "import antisym_func\n",
    "import error_bar\n",
    "from importlib import reload\n",
    "reload(error_bar)\n",
    "\n",
    "#compute the sensitivity with analytical observables\n",
    "def read_model_data(DIR, zeta, T_vir, R_mfp, SMOOTHING_SCALE):\n",
    "    #read in the normalized zeta\n",
    "    DIR_zeta = DIR + '/zeta%05.5g_Tvir%05.5g_Rmfp%05.5g_SMO%03.3g/normalized_zeta.npz'%(zeta, T_vir, R_mfp, SMOOTHING_SCALE)\n",
    "    if os.path.exists(DIR_zeta): \n",
    "        data = np.load(DIR_zeta)\n",
    "        z_zeta_interp_array = data['z']; zeta_z_interp_array = data['zeta_z']\n",
    "        zeta_z_func = interp1d(z_zeta_interp_array, zeta_z_interp_array, kind = 'cubic')\n",
    "    else:\n",
    "        print('file %s not found'%DIR_zeta); sys.exit()\n",
    "        \n",
    "    #read in the history of HI fraction and dx_HI/dz\n",
    "    DIR_history = DIR + '/zeta%05.5g_Tvir%05.5g_Rmfp%05.5g_SMO%03.3g/history.npz'%(zeta, T_vir, R_mfp, SMOOTHING_SCALE)\n",
    "    if os.path.exists(DIR_history):\n",
    "        data = np.load(DIR_history)\n",
    "        z_array_history = list(data['z_array_history']); HI_history = list(data['HI_history'])\n",
    "        z_dxHdz_history = list(data['z_dxHdz_history']); dxHdz_history = list(data['dxHdz_history'])\n",
    "    else:\n",
    "        print('file %s not found'%DIR_history); sys.exit()\n",
    "    \n",
    "    #read in the average density of the neutral region\n",
    "    DIR_rhoHI = DIR + '/zeta%05.5g_Tvir%05.5g_Rmfp%05.5g_SMO%03.3g/rhoHI_over_rho0.npz'%(zeta, T_vir, R_mfp, SMOOTHING_SCALE)\n",
    "    if os.path.exists(DIR_rhoHI):\n",
    "        data = np.load(DIR_rhoHI)\n",
    "        z_array_HIrho = list(data['z_array_HIrho']); rhoHI_over_rho0_array = list(data['rhoHI_over_rho0_array'])\n",
    "        HIrho_over_rho0_interp = interp1d(z_array_HIrho, rhoHI_over_rho0_array, kind = 'cubic')\n",
    "    else:\n",
    "        print('file %s not found'%DIR_rhoHI); sys.exit()\n",
    "    \n",
    "    #load in the Bubble mass functions\n",
    "    DIR_BMF = DIR + '/zeta%05.5g_Tvir%05.5g_Rmfp%05.5g_SMO%03.3g/BMF_map.npz'%(zeta, T_vir, R_mfp, SMOOTHING_SCALE)\n",
    "    if os.path.exists(DIR_BMF):\n",
    "        data = np.load(DIR_BMF)\n",
    "        z_grid = list(data['z_grid']); m_grid = list(data['m_grid']); BMF_map = list(data['BMF_map'])       \n",
    "        BMF_interp = interp2d(m_grid, z_grid, BMF_map, kind = 'cubic')\n",
    "    else:\n",
    "        print('file %s not found'%DIR_BMF); sys.exit()\n",
    "    \n",
    "    #load in the unsmoothed antisymmetric cross-correlation data\n",
    "    DIR_xiHICO = DIR + '/zeta%05.5g_Tvir%05.5g_Rmfp%05.5g_SMO%03.3g/xi_A_HICO_unsmoothed_map.npz'%(zeta, T_vir, R_mfp, SMOOTHING_SCALE)\n",
    "    if os.path.exists(DIR_xiHICO):\n",
    "        data = np.load(DIR_xiHICO)\n",
    "        z_grid = list(data['z_grid']); r12_grid = list(data['r12_grid']); xi_A_HICO_map = list(data['xi_A_HICO_map'])       \n",
    "        xi_A_HICO_unsmoothed_interp = interp2d(r12_grid, z_grid, xi_A_HICO_map, kind = 'cubic')\n",
    "    else:\n",
    "        print('file %s not found'%DIR_xiHICO); sys.exit()\n",
    "    return zeta_z_func, z_array_history, HI_history, z_dxHdz_history, dxHdz_history, HIrho_over_rho0_interp, \\\n",
    "            BMF_interp, xi_A_HICO_unsmoothed_interp\n",
    "\n",
    "#compute the HI-CO antisymmetric power spectrum\n",
    "def Pk_A_HICO_computation(z_array, kh_array, SMOOTHING_Pk, xi_A_HICO_unsmoothed_interp):\n",
    "    tick = time.time()\n",
    "    #smooth the antisymmetric cross-correlation\n",
    "    r12_limit = 150\n",
    "    r12_smoothed_grid = np.zeros(100); r12_smoothed_grid[0:30] = np.linspace(0.1, 5, 30)\n",
    "    r12_smoothed_grid[30:100] = np.linspace(5, r12_limit, 71)[1:71]\n",
    "    xi_A_HICO_smoothed_func_array = [] #[z](r12)\n",
    "    for z in z_array:\n",
    "        xi_A_HICO_smoothed_array = []\n",
    "        for r12 in r12_smoothed_grid:\n",
    "            xi_A_HICO_smoothed_array.append(antisym_func.xi_A_HICO_smoothing(z, r12, xi_A_HICO_unsmoothed_interp, SMOOTHING_Pk)[0])\n",
    "        xi_A_HICO_smoothed_func_array.append(interp1d(r12_smoothed_grid, xi_A_HICO_smoothed_array, kind = 'cubic'))\n",
    "    \n",
    "    #Fourier transformation to compute the smoothed antisymmetric power spectrum\n",
    "    k_array = kh_array * antisym_func.hlittle\n",
    "    Pk_A_map = [] #[z][kh]\n",
    "    for ct in range(len(z_array)):\n",
    "        Pk_A_map.append([])\n",
    "        for k in k_array:\n",
    "            Pk_A_map[-1].append(antisym_func.Pk_A_cal(k, xi_A_HICO_smoothed_func_array[ct], min(r12_smoothed_grid), max(r12_smoothed_grid)))\n",
    "    print('Pk_A_HICO computation cost %3.3g mins'%((time.time() - tick) / 60))\n",
    "    return Pk_A_map #[z_array][kh_array] #in muK^2 h^-3 Mpc^3\n",
    "\n",
    "#compute the HI-CO symmetric power spectrum\n",
    "def Pk_S_HICO_computation(z_array, kh_array, BMF_func):\n",
    "    tick = time.time()\n",
    "    #compute the symmetric cross-correlation betwwen 21cm and CO line\n",
    "    r12_limit = 150\n",
    "    r12_grid = np.zeros(100); r12_grid[0:30] = np.linspace(0.1, 5, 30)\n",
    "    r12_grid[30:100] = np.linspace(5, r12_limit, 71)[1:71]\n",
    "    xi_S_HICO_func_array = [] #[z](r12)\n",
    "    for z in z_array:\n",
    "        xi_S_HICO_array = []\n",
    "        BMF_func_z = lambda m: BMF_func(m, z)\n",
    "        for r12 in r12_grid:\n",
    "            xi_S_HICO_array.append(antisym_func.xi_S_HICO(z, r12, zeta_z_func, HIrho_over_rho0_interp, BMF_func_z, M_max, T_vir, mu))\n",
    "        xi_S_HICO_func_array.append(interp1d(r12_grid, xi_S_HICO_array, kind = 'cubic'))\n",
    "    \n",
    "    #compute the correspondent power spectrum\n",
    "    k_array = kh_array * antisym_func.hlittle\n",
    "    Pk_S_map = []\n",
    "    for ct in range(len(z_array)):\n",
    "        Pk_S_map.append([])\n",
    "        for k in k_array:\n",
    "            Pk_S_map[-1].append(antisym_func.Pk_S(k, xi_S_HICO_func_array[ct], min(r12_grid), max(r12_grid)))\n",
    "    print('Pk_S_HICO computation cost %3.3g mins'%((time.time() - tick) / 60))\n",
    "    return Pk_S_map\n",
    "\n",
    "def Pk_auto_21_computation(z_array, kh_array, zeta_z_func, HIrho_over_rho0_func, BMF_func, M_max, T_vir, mu):\n",
    "    tick = time.time()\n",
    "    #compute the symmetric cross-correlation betwwen 21cm and CO line\n",
    "    r12_limit = 150\n",
    "    r12_grid = np.zeros(100); r12_grid[0:30] = np.linspace(0.1, 5, 30)\n",
    "    r12_grid[30:100] = np.linspace(5, r12_limit, 71)[1:71]\n",
    "    xi_auto_21_func_array = [] #[z](r12)\n",
    "    for z in z_array:\n",
    "        xi_auto_21_array = []\n",
    "        BMF_func_z = lambda m: BMF_func(m, z)\n",
    "        for r12 in r12_grid:\n",
    "            xi_auto_21_array.append(antisym_func.xi_auto_21(z, r12, zeta_z_func, HIrho_over_rho0_func, BMF_func_z, M_max, T_vir, mu))\n",
    "        xi_auto_21_func_array.append(interp1d(r12_grid, xi_auto_21_array, kind = 'cubic'))\n",
    "    \n",
    "    #compute the correspondent power spectrum\n",
    "    k_array = kh_array * antisym_func.hlittle\n",
    "    Pk_auto_21_map = []\n",
    "    for ct in range(len(z_array)):\n",
    "        Pk_auto_21_map.append([])\n",
    "        for k in k_array:\n",
    "            Pk_auto_21_map[-1].append(antisym_func.Pk_S(k, xi_auto_21_func_array[ct], min(r12_grid), max(r12_grid)))\n",
    "    print('Pk_auto_21 computation cost %3.3g mins'%((time.time() - tick) / 60))\n",
    "    return Pk_auto_21_map\n",
    "\n",
    "def Pk_auto_CO_computation(z_array, kh_array, T_vir, mu):\n",
    "    tick = time.time()\n",
    "    k_array = kh_array * antisym_func.hlittle\n",
    "    Pk_auto_CO_map = []\n",
    "    for ct in range(len(z_array)):\n",
    "        z = z_array[ct]\n",
    "        Pk_auto_CO_map.append([])\n",
    "        for k in k_array:\n",
    "            Pk_auto_CO_map[-1].append(antisym_func.Pk_auto_CO(z, k, T_vir, mu))\n",
    "    print('Pk_auto_CO computation cost %3.3g mins'%((time.time() - tick) / 60))\n",
    "    return Pk_auto_CO_map\n",
    "\n",
    "def error_PkA_HICO_computation(t_int, z_array, kh_array, SMOOTHING_Pk, NUM_PATCH, MEASUREMENT, Pk_auto_CO_map, Pk_auto_21_map, Pk_A_HICO_map, Pk_S_HICO_map):\n",
    "    \"\"\"\n",
    "    t_int : s, the observation time of each redshift\n",
    "    z_array : the array of the redshifts we are interested\n",
    "    kh_array : h/Mpc, the array of the measured scales\n",
    "    SMOOTHING_Pk : Mpc, the computation box size\n",
    "    NUM_PATCH : the number of boxes in a survey\n",
    "    P_CO_array : [muK]^2[Mpc/h]^3, the array of CO auto power spectrums\n",
    "    P_21_array : [muK]^2[Mpc/h]^3, the array of 21 auto power spectrums\n",
    "    Pk_S_array : [muK]^2[Mpc/h]^3, the array of 21-CO cross power spectrums\n",
    "    Pk_A_array : [muK]^2[Mpc/h]^3, the array of 21-CO antisymmetric cross power spectrums\n",
    "    \"\"\"\n",
    "    \n",
    "    #set the parameters\n",
    "    delta_nu_21 = 5.4e-3; delta_nu_CO = 79.3e-3 #MHz\n",
    "    \n",
    "    if MEASUREMENT == 0: #parameters of SKA1 \n",
    "        N_feeds_21 = 2 # num of polarizations\n",
    "        N_feeds_CO = 197 * 2 # num of antennas * num of polarizations\n",
    "        L_min_21 = 60 ; L_max_21 = 1000 #m\n",
    "    elif MEASUREMENT == 1: #parameters of SKA2\n",
    "        N_feeds_21 = 2 * 4 # fourtimes of the antennas than SKA1-low\n",
    "        N_feeds_CO = 1970 * 2 # num of antennas * num of polarizations\n",
    "        L_min_21 = 34; L_max_21 = 1000 #m\n",
    "    elif MEASUREMENT == 2: #parameters of SKA2-advanced\n",
    "        N_feeds_21 = 2 * 4 # fourtimes of the antennas than SKA1-low\n",
    "        N_feeds_CO = 4925 * 2 # num of antennas * num of polarizations\n",
    "        L_min_21 = 34; L_max_21 = 1000 #m\n",
    "    \n",
    "    error_auto_CO_map = []; error_auto_21_map = []\n",
    "    error_PkA_HICO_map = []; error_PkS_HICO_map = []\n",
    "    VAR_PkA_map = []; S_over_N_map = []\n",
    "    kh_min_array = []; kh_max_array = []; confidence_array = [];#for each redshift\n",
    "    \n",
    "    for i in range(len(z_array)):\n",
    "        z = z_array[i]\n",
    "        Tsys_21 = 280. * ( (1. + z) / 7.4 )**(2.3) * 1e6; Tsys_CO = 25 * 1e6 # muK\n",
    "        D_21 = 35; D_CO = 15 # meter \n",
    "        Omega_beam_21 = (1.22 * error_bar.lambda_21 * (1 + z) / D_21 ) ** 2\n",
    "        Omega_beam_CO = (1.22 * error_bar.lambda_CO * (1 + z) / D_CO ) ** 2 # radians\n",
    "        Tsys_21 = 280. * ( (1. + z) / 7.4 )**(2.3) * 1e6; Tsys_CO = 25 * 1e6 #muK\n",
    "        Omega_patch = (SMOOTHING_Pk * antisym_func.hlittle / error_bar.X(z)) ** 2 #radians\n",
    "        Omega_survey = NUM_PATCH * Omega_patch\n",
    "        B_21 = SMOOTHING_Pk * antisym_func.hlittle / error_bar.Y(z, error_bar.nu_21) # Mhz\n",
    "        B_CO = SMOOTHING_Pk * antisym_func.hlittle / error_bar.Y(z, error_bar.nu_CO) # Mhz\n",
    "        delta_D = SMOOTHING_Pk * antisym_func.hlittle # Mpc/h\n",
    "        k_limits = error_bar.reliable_k_range(z, Omega_beam_CO, Omega_patch, delta_nu_CO, delta_D, L_min_21, L_max_21, delta_nu_21)\n",
    "        #print(k_limits)\n",
    "        error_auto_CO_map.append([]); error_auto_21_map.append([])\n",
    "        error_PkA_HICO_map.append([]); error_PkS_HICO_map.append([])\n",
    "        VAR_PkA_map.append([]); S_over_N_map.append([])\n",
    "        for j in range(len(kh_array)):\n",
    "            kh = kh_array[j]\n",
    "            delta_kh = kh * ((kh_array[1] / kh_array[0]) - 1)\n",
    "            error_auto_CO_map[-1].append(error_bar.error_CO_auto(kh, delta_kh, k_limits, Pk_auto_CO_map[i][j], z, Tsys_CO, \\\n",
    "                                        Omega_patch, NUM_PATCH, B_CO, Omega_beam_CO, delta_nu_CO, N_feeds_CO, t_int))\n",
    "            error_auto_21_map[-1].append(error_bar.error_21_auto(kh, delta_kh, k_limits, Pk_auto_21_map[i][j], z, Tsys_21, \\\n",
    "                                        Omega_patch, NUM_PATCH, Omega_beam_21, B_21, N_feeds_21, t_int))\n",
    "            error_PkA_HICO_map[-1].append(error_bar.error_21_CO_cross(kh, delta_kh, k_limits, Pk_A_HICO_map[i][j], z, Omega_patch, NUM_PATCH, delta_D))\n",
    "            error_PkS_HICO_map[-1].append(error_bar.error_21_CO_cross(kh, delta_kh, k_limits, Pk_S_HICO_map[i][j], z, Omega_patch, NUM_PATCH, delta_D))\n",
    "            VAR_PkA_map[-1].append(9/20/np.pi * error_PkA_HICO_map[-1][-1][0] ** 2 + error_auto_21_map[-1][-1][0] * \\\n",
    "                                  error_auto_CO_map[-1][-1][0] - error_PkS_HICO_map[-1][-1][0] ** 2)\n",
    "            S_over_N_map[-1].append(abs(Pk_A_HICO_map[i][j]) / VAR_PkA_map[i][j]**0.5)\n",
    "            #print(error_auto_CO_map[-1][-1], error_auto_21_map[-1][-1])\n",
    "            print('%03.3g, %03.3g, %03.3g, %03.3g, %03.3g, %03.3g, %03.3g'%(z, kh, error_auto_CO_map[-1][-1][0], error_auto_21_map[-1][-1][0], error_PkA_HICO_map[-1][-1][0], error_PkS_HICO_map[-1][-1][0], VAR_PkA_map[-1][-1]))\n",
    "            #compute the confidence\n",
    "        square_sum = np.sum(np.array(S_over_N_map[-1])**2)\n",
    "        free_degree = len(S_over_N_map[-1])-1\n",
    "        confidence = error_bar.significance_level(square_sum, free_degree)\n",
    "        kh_min = kh_array[0]\n",
    "        kh_max = kh_array[free_degree]\n",
    "        while free_degree > 1:\n",
    "            square_sum -= S_over_N_map[-1][free_degree]**2\n",
    "            free_degree -= 1 \n",
    "            temp_confidence = error_bar.significance_level(square_sum, free_degree)\n",
    "            #print(square_sum, free_degree, temp_confidence)\n",
    "            if (temp_confidence > confidence):\n",
    "                confidence = temp_confidence\n",
    "                kh_max = kh_array[free_degree]\n",
    "        kh_min_array.append(kh_min); kh_max_array.append(kh_max); confidence_array.append(confidence)\n",
    "    return VAR_PkA_map, S_over_N_map, kh_min_array, kh_max_array, confidence_array"
   ]
  },
  {
   "cell_type": "code",
   "execution_count": 230,
   "metadata": {},
   "outputs": [
    {
     "data": {
      "text/plain": [
       "'1.032e+09, 4.847e+12, 5.522e+12'"
      ]
     },
     "execution_count": 230,
     "metadata": {},
     "output_type": "execute_result"
    }
   ],
   "source": [
    "'%4.4g, %4.4g, %4.4g'%(9/20/np.pi* 8.49e+04 ** 2, 677 * 7.16e+09, (-2.35e+06) ** 2)"
   ]
  },
  {
   "cell_type": "code",
   "execution_count": 226,
   "metadata": {},
   "outputs": [
    {
     "data": {
      "text/plain": [
       "-674147528620.7793"
      ]
     },
     "execution_count": 226,
     "metadata": {},
     "output_type": "execute_result"
    }
   ],
   "source": [
    "9/20/np.pi* 8.49e+04 ** 2 + 677 * 7.16e+09 - (-2.35e+06) ** 2"
   ]
  },
  {
   "cell_type": "code",
   "execution_count": 235,
   "metadata": {},
   "outputs": [
    {
     "name": "stderr",
     "output_type": "stream",
     "text": [
      "<ipython-input-234-3d582fe14465>:212: RuntimeWarning: invalid value encountered in double_scalars\n",
      "  S_over_N_map[-1].append(abs(Pk_A_HICO_map[i][j]) / VAR_PkA_map[i][j]**0.5)\n"
     ]
    },
    {
     "name": "stdout",
     "output_type": "stream",
     "text": [
      "7.88, 0.1, 677, 7.16e+09, 8.49e+04, -2.35e+06, -6.68e+11\n",
      "7.88, 0.113, 488, 4.81e+09, 6.06e+04, -1.49e+06, 1.16e+11\n",
      "7.88, 0.127, 351, 2.66e+09, 3.85e+04, -9.17e+05, 9.41e+10\n",
      "7.88, 0.143, 252, 1.89e+09, 2.1e+04, -5.5e+05, 1.73e+11\n",
      "7.88, 0.161, 181, 9.92e+08, 1e+04, -3.28e+05, 7.25e+10\n",
      "7.88, 0.182, 131, 5.32e+08, 4.96e+03, -1.95e+05, 3.17e+10\n",
      "7.88, 0.205, 95.5, 3.36e+08, 3.27e+03, -1.14e+05, 1.92e+10\n",
      "7.88, 0.231, 70.4, 2.21e+08, 2.1e+03, -6.53e+04, 1.13e+10\n",
      "7.88, 0.26, 52.7, 1.24e+08, 870, -3.75e+04, 5.11e+09\n",
      "7.88, 0.293, 40.2, 7.79e+07, 415, -2.17e+04, 2.66e+09\n",
      "7.88, 0.33, 31.5, 5.3e+07, 312, -1.23e+04, 1.51e+09\n",
      "7.88, 0.372, 25.4, 3.93e+07, 96.4, -7.05e+03, 9.47e+08\n",
      "7.88, 0.419, 21.2, 3.04e+07, 84.1, -3.99e+03, 6.28e+08\n",
      "7.88, 0.472, 18.4, 2.52e+07, 22.5, -2.28e+03, 4.6e+08\n",
      "7.88, 0.532, 16.9, 2.23e+07, 022, -1.29e+03, 3.74e+08\n",
      "7.88, 0.6, 017, 1.92e+07, 13.5, 981, 3.26e+08\n",
      "8.57, 0.1, 371, 2.61e+09, 2.6e+03, -5.71e+05, 6.42e+11\n",
      "8.57, 0.113, 274, 2.12e+09, 2.58e+03, -4.36e+05, 3.9e+11\n",
      "8.57, 0.127, 203, 1.44e+09, 2.43e+03, -3.27e+05, 1.86e+11\n",
      "8.57, 0.143, 151, 1.26e+09, 2.18e+03, -2.39e+05, 1.33e+11\n",
      "8.57, 0.161, 113, 8.01e+08, 1.83e+03, -1.7e+05, 6.12e+10\n",
      "8.57, 0.182, 085, 5.06e+08, 1.44e+03, -1.18e+05, 2.91e+10\n",
      "8.57, 0.205, 065, 3.72e+08, 1.07e+03, -7.96e+04, 1.79e+10\n",
      "8.57, 0.231, 50.5, 2.82e+08, 743, -5.22e+04, 1.15e+10\n",
      "8.57, 0.26, 040, 1.77e+08, 489, -3.34e+04, 5.96e+09\n",
      "8.57, 0.293, 32.5, 1.21e+08, 305, -2.09e+04, 3.48e+09\n",
      "8.57, 0.33, 027, 8.89e+07, 184, -1.29e+04, 2.24e+09\n",
      "8.57, 0.372, 23.2, 6.98e+07, 107, -7.81e+03, 1.56e+09\n",
      "8.57, 0.419, 20.7, 5.61e+07, 60.3, -4.68e+03, 1.14e+09\n",
      "8.57, 0.472, 19.2, 4.67e+07, 33.5, -2.78e+03, 8.9e+08\n",
      "8.57, 0.532, 19.5, 4.04e+07, 23.5, 2.11e+03, 7.82e+08\n",
      "8.57, 0.6, 18.7, 3.43e+07, 15.1, 1.48e+03, 6.39e+08\n"
     ]
    }
   ],
   "source": [
    "#compute the uncertainties\n",
    "NUM_PATCH = 300\n",
    "MEASUREMENT = 2 #SKA2\n",
    "VAR_PkA_map_2, S_over_N_2, kh_min_array_2, kh_max_array_2, confidence_array_2 = error_PkA_HICO_computation(t_int, z_array_observe, kh_array, SMOOTHING_Pk, NUM_PATCH, MEASUREMENT, Pk_auto_CO_map, Pk_auto_21_map, Pk_A_HICO_map, Pk_S_HICO_map)\n",
    "\n"
   ]
  },
  {
   "cell_type": "code",
   "execution_count": 237,
   "metadata": {},
   "outputs": [
    {
     "name": "stdout",
     "output_type": "stream",
     "text": [
      "7.88, 0.1, 478, 3.67e+09, 4.24e+04, -1.17e+06, 3.73e+11\n",
      "7.88, 0.113, 361, 2.49e+09, 3.03e+04, -7.47e+05, 3.4e+11\n",
      "7.88, 0.127, 274, 1.4e+09, 1.92e+04, -4.58e+05, 1.73e+11\n",
      "7.88, 0.143, 209, 1.01e+09, 1.05e+04, -2.75e+05, 1.36e+11\n",
      "7.88, 0.161, 161, 5.48e+08, 5e+03, -1.64e+05, 6.15e+10\n",
      "7.88, 0.182, 125, 3.08e+08, 2.48e+03, -9.75e+04, 2.91e+10\n",
      "7.88, 0.205, 98.9, 2.08e+08, 1.64e+03, -5.7e+04, 1.73e+10\n",
      "7.88, 0.231, 79.1, 1.5e+08, 1.05e+03, -3.26e+04, 1.08e+10\n",
      "7.88, 0.26, 64.3, 9.55e+07, 435, -1.88e+04, 5.79e+09\n",
      "7.88, 0.293, 53.2, 6.95e+07, 208, -1.09e+04, 3.58e+09\n",
      "7.88, 0.33, 045, 5.55e+07, 156, -6.15e+03, 2.46e+09\n",
      "7.88, 0.372, 039, 4.77e+07, 48.2, -3.52e+03, 1.85e+09\n",
      "7.88, 0.419, 34.7, 4.14e+07, 42.1, -2e+03, 1.43e+09\n",
      "7.88, 0.472, 31.9, 3.73e+07, 11.2, -1.14e+03, 1.19e+09\n",
      "7.88, 0.532, 30.6, 3.54e+07, 011, -643, 1.08e+09\n",
      "7.88, 0.6, 31.2, 3.26e+07, 6.76, 490, 1.02e+09\n",
      "8.57, 0.1, 331, 1.44e+09, 1.3e+03, -2.86e+05, 3.94e+11\n",
      "8.57, 0.113, 259, 1.18e+09, 1.29e+03, -2.18e+05, 2.59e+11\n",
      "8.57, 0.127, 204, 8.2e+08, 1.22e+03, -1.63e+05, 1.41e+11\n",
      "8.57, 0.143, 163, 7.32e+08, 1.09e+03, -1.19e+05, 1.05e+11\n",
      "8.57, 0.161, 130, 4.8e+08, 915, -8.51e+04, 5.53e+10\n",
      "8.57, 0.182, 106, 3.17e+08, 722, -5.9e+04, 3e+10\n",
      "8.57, 0.205, 86.7, 2.47e+08, 534, -3.98e+04, 1.99e+10\n",
      "8.57, 0.231, 072, 2.03e+08, 372, -2.61e+04, 1.39e+10\n",
      "8.57, 0.26, 60.8, 1.42e+08, 244, -1.67e+04, 8.34e+09\n",
      "8.57, 0.293, 52.1, 1.1e+08, 153, -1.05e+04, 5.61e+09\n",
      "8.57, 0.33, 45.6, 9.21e+07, 91.8, -6.43e+03, 4.16e+09\n",
      "8.57, 0.372, 40.9, 8.15e+07, 53.3, -3.9e+03, 3.32e+09\n",
      "8.57, 0.419, 37.8, 7.16e+07, 30.2, -2.34e+03, 2.7e+09\n",
      "8.57, 0.472, 36.1, 6.4e+07, 16.7, -1.39e+03, 2.31e+09\n",
      "8.57, 0.532, 037, 5.98e+07, 11.8, 1.06e+03, 2.21e+09\n",
      "8.57, 0.6, 35.9, 5.44e+07, 7.56, 742, 1.95e+09\n"
     ]
    }
   ],
   "source": [
    "#compute the uncertainties\n",
    "NUM_PATCH = 1200\n",
    "MEASUREMENT = 2 #SKA2\n",
    "VAR_PkA_map_2, S_over_N_2, kh_min_array_2, kh_max_array_2, confidence_array_2 = error_PkA_HICO_computation(t_int, z_array_observe, kh_array, SMOOTHING_Pk, NUM_PATCH, MEASUREMENT, Pk_auto_CO_map, Pk_auto_21_map, Pk_A_HICO_map, Pk_S_HICO_map)\n",
    "\n"
   ]
  },
  {
   "cell_type": "code",
   "execution_count": null,
   "metadata": {},
   "outputs": [],
   "source": []
  },
  {
   "cell_type": "code",
   "execution_count": null,
   "metadata": {},
   "outputs": [],
   "source": []
  },
  {
   "cell_type": "code",
   "execution_count": 146,
   "metadata": {},
   "outputs": [
    {
     "name": "stdout",
     "output_type": "stream",
     "text": [
      "z_max: 0.3495164360100269 z: [7.88371508 8.56667752] \n",
      " HI_fraction: [array(0.24886933), array(0.45379152)] \n",
      " dxHdz: [array(0.34002283), array(0.26044226)]\n"
     ]
    }
   ],
   "source": [
    "#the fiducial parameters\n",
    "zeta = 25; T_vir = 3e4; R_mfp = 50; SMOOTHING_SCALE = 384\n",
    "mu = 1.22 if T_vir < 9.99999e3 else 0.6\n",
    "M_max = antisym_func.RtoM(R_mfp)\n",
    "\n",
    "#read in the fiducial model\n",
    "DIR = '/Users/liuzhaoning/Desktop/Today/antisym_observability/data/antisym_observability/xi_A_HICO'\n",
    "zeta_z_func, z_array_history, HI_history, z_dxHdz_history, dxHdz_history, HIrho_over_rho0_interp, \\\n",
    "BMF_func, xi_A_HICO_unsmoothed_interp = read_model_data(DIR, zeta, T_vir, R_mfp, SMOOTHING_SCALE)\n",
    "\n",
    "#choose the redshift we are observing\n",
    "z_floor = antisym_func.dxHdz_To_z(0.34, M_max, zeta_z_func, T_vir, mu, z_dxHdz_history, dxHdz_history)[1]\n",
    "z_top = antisym_func.dxHdz_To_z(0.26, M_max, zeta_z_func, T_vir, mu, z_dxHdz_history, dxHdz_history)[1]\n",
    "z_array_observe = np.linspace(z_floor, z_top, 2); dxHdz_array_observe = []; xH_array_observe = []\n",
    "for z in z_array_observe:\n",
    "    dxHdz_array_observe.append(interp1d(z_dxHdz_history, dxHdz_history, kind='cubic')(z))\n",
    "    xH_array_observe.append(interp1d(z_array_history, HI_history, kind='cubic')(z))\n",
    "\n",
    "#set the power spectrum we want to observe\n",
    "kh_array = np.logspace(np.log10(0.1),np.log10(0.6), 16)\n",
    "#set the Smoothing scale of Pk_A computation\n",
    "SMOOTHING_Pk = 384 #a similar comving distance with the frequency bandwidth\n",
    "print('z_max:', max(dxHdz_history), 'z:',z_array_observe,'\\n HI_fraction:', xH_array_observe, '\\n dxHdz:',dxHdz_array_observe)"
   ]
  },
  {
   "cell_type": "code",
   "execution_count": 147,
   "metadata": {},
   "outputs": [
    {
     "name": "stdout",
     "output_type": "stream",
     "text": [
      "Pk_A_HICO computation cost 0.523 mins\n",
      "Pk_S_HICO computation cost 0.312 mins\n",
      "Pk_auto_21 computation cost 0.295 mins\n",
      "Pk_auto_CO computation cost 0.00303 mins\n"
     ]
    }
   ],
   "source": [
    "#compute the statistics\n",
    "Pk_A_HICO_map = Pk_A_HICO_computation(z_array_observe, kh_array, SMOOTHING_Pk, xi_A_HICO_unsmoothed_interp)\n",
    "Pk_S_HICO_map = Pk_S_HICO_computation(z_array_observe, kh_array, BMF_func)\n",
    "Pk_auto_21_map = Pk_auto_21_computation(z_array_observe, kh_array, zeta_z_func, HIrho_over_rho0_interp, BMF_func, M_max, T_vir, mu)\n",
    "Pk_auto_CO_map = Pk_auto_CO_computation(z_array_observe, kh_array, T_vir, mu)\n",
    "\n",
    "#compute the uncertainties\n",
    "t_int = 3000 * 3600 #seconds #10000 hour each\n",
    "NUM_PATCH = 75\n",
    "MEASUREMENT = 0 #SKA1\n",
    "VAR_PkA_map_0, S_over_N_0, kh_min_array_0, kh_max_array_0, confidence_array_0 = error_PkA_HICO_computation(t_int, z_array_observe, kh_array, SMOOTHING_Pk, NUM_PATCH, MEASUREMENT, Pk_auto_CO_map, Pk_auto_21_map, Pk_A_HICO_map, Pk_S_HICO_map)\n",
    "\n",
    "#compute the uncertainties\n",
    "NUM_PATCH = 200\n",
    "MEASUREMENT = 1 #SKA2\n",
    "VAR_PkA_map_1, S_over_N_1, kh_min_array_1, kh_max_array_1, confidence_array_1 = error_PkA_HICO_computation(t_int, z_array_observe, kh_array, SMOOTHING_Pk, NUM_PATCH, MEASUREMENT, Pk_auto_CO_map, Pk_auto_21_map, Pk_A_HICO_map, Pk_S_HICO_map)\n",
    "\n",
    "#compute the uncertainties\n",
    "NUM_PATCH = 300\n",
    "MEASUREMENT = 2 #SKA2\n",
    "VAR_PkA_map_2, S_over_N_2, kh_min_array_2, kh_max_array_2, confidence_array_2 = error_PkA_HICO_computation(t_int, z_array_observe, kh_array, SMOOTHING_Pk, NUM_PATCH, MEASUREMENT, Pk_auto_CO_map, Pk_auto_21_map, Pk_A_HICO_map, Pk_S_HICO_map)"
   ]
  },
  {
   "cell_type": "code",
   "execution_count": 148,
   "metadata": {},
   "outputs": [
    {
     "data": {
      "image/png": "[encoded data removed]",
      "text/plain": [
       "<Figure size 432x288 with 1 Axes>"
      ]
     },
     "metadata": {
      "needs_background": "light"
     },
     "output_type": "display_data"
    },
    {
     "data": {
      "image/png": "[encoded data removed]",
      "text/plain": [
       "<Figure size 432x288 with 1 Axes>"
      ]
     },
     "metadata": {
      "needs_background": "light"
     },
     "output_type": "display_data"
    }
   ],
   "source": [
    "INDEX_Z = 0\n",
    "fig, axs = plt.subplots(1, 1, sharex=True, figsize=(6,4))\n",
    "fig.subplots_adjust(hspace=0)\n",
    "axs.loglog(kh_array, np.array(Pk_A_HICO_map[INDEX_Z]), color = 'black', label = 'signal')\n",
    "axs.loglog(kh_array, np.array(VAR_PkA_map_0[INDEX_Z])**0.5, ls = '--', color = 'blue', label = 'SKA1 (%3.3g$\\sigma$)'%confidence_array_0[INDEX_Z])\n",
    "axs.loglog(kh_array, np.array(VAR_PkA_map_1[INDEX_Z])**0.5, ls = '--', color = 'green', label = 'SKA2 (%3.3g$\\sigma$)'%confidence_array_1[INDEX_Z])\n",
    "axs.loglog(kh_array, np.array(VAR_PkA_map_2[INDEX_Z])**0.5, ls = '--', color = 'red', label = 'SKA2-advanced (%3.3g$\\sigma$)'%confidence_array_2[INDEX_Z])\n",
    "axs.vlines(x=kh_max_array_2[INDEX_Z],ymin = 1e1,ymax = 1e7, color = 'grey', lw=0.8)\n",
    "axs.legend(loc = 3, fontsize = 11)\n",
    "#axs.set_ylim(0.0,0.46); axs.set_xlim(6,11)\n",
    "axs.set_ylabel(r'$P^A\\ [\\mu K^2\\ h^{-3} \\mathrm{Mpc}^3]$',fontsize=14)\n",
    "axs.set_xlabel(r'$k\\ [h\\ Mpc^{-1}]$',fontsize=14)\n",
    "axs.tick_params(direction='in',length=3)\n",
    "axs.set_ylim(3e3, 8e6)\n",
    "axs.set_xticks([0.1, kh_max_array_2[INDEX_Z],0.2, 0.3,0.4, 0.6])\n",
    "axs.set_xticklabels(['$0.1$', '$%2.2g$'%kh_max_array_2[INDEX_Z], '$0.2$', '$0.3$', '$0.4$','$0.6$'], fontsize=12)\n",
    "#axs[1].text(8.3, 0.31,'accel.',fontsize=12); axs[1].text(6.7, 0.3, 'decel.', fontsize = 12)\n",
    "plt.savefig('../figures/sensitivity_t%05.5ghour_analytical_zeta%03.3g_Tvir%3.3g_Rmfp%03.3g_HI%2.2g_Time%f.png'%(t_int / 3600, zeta, T_vir, R_mfp, xH_array_observe[INDEX_Z], time.time()), bbox_inches='tight', dpi=200)\n",
    "\n",
    "INDEX_Z = 1\n",
    "fig, axs = plt.subplots(1, 1, sharex=True, figsize=(6,4))\n",
    "fig.subplots_adjust(hspace=0)\n",
    "axs.loglog(kh_array, np.array(Pk_A_HICO_map[INDEX_Z]), color = 'black', label = 'signal')\n",
    "axs.loglog(kh_array, np.array(VAR_PkA_map_0[INDEX_Z])**0.5, ls = '--', color = 'blue', label = 'SKA1 (%3.3g$\\sigma$)'%confidence_array_0[INDEX_Z])\n",
    "axs.loglog(kh_array, np.array(VAR_PkA_map_1[INDEX_Z])**0.5, ls = '--', color = 'green', label = 'SKA2 (%3.3g$\\sigma$)'%confidence_array_1[INDEX_Z])\n",
    "axs.loglog(kh_array, np.array(VAR_PkA_map_2[INDEX_Z])**0.5, ls = '--', color = 'red', label = 'SKA2-advanced (%3.3g$\\sigma$)'%confidence_array_2[INDEX_Z])\n",
    "axs.vlines(x=kh_max_array_2[INDEX_Z],ymin = 1e1,ymax = 1e7, color = 'grey', lw=0.8)\n",
    "axs.legend(loc = 3, fontsize = 11)\n",
    "#axs.set_ylim(0.0,0.46); axs.set_xlim(6,11)\n",
    "axs.set_ylabel(r'$P^A\\ [\\mu K^2\\ h^{-3} \\mathrm{Mpc}^3]$',fontsize=14)\n",
    "axs.set_xlabel(r'$k\\ [h\\ Mpc^{-1}]$',fontsize=14)\n",
    "axs.tick_params(direction='in',length=3)\n",
    "axs.set_ylim(3e3, 8e6)\n",
    "axs.set_xticks([0.1, kh_max_array_2[INDEX_Z],0.2, 0.3,0.4, 0.6])\n",
    "axs.set_xticklabels(['$0.1$', '$%2.2g$'%kh_max_array_2[INDEX_Z], '$0.2$', '$0.3$', '$0.4$','$0.6$'], fontsize=12)\n",
    "#axs[1].text(8.3, 0.31,'accel.',fontsize=12); axs[1].text(6.7, 0.3, 'decel.', fontsize = 12)\n",
    "plt.savefig('../figures/sensitivity_t%05.5ghour_analytical_zeta%03.3g_Tvir%3.3g_Rmfp%03.3g_HI%2.2g_Time%f.png'%(t_int / 3600, zeta, T_vir, R_mfp, xH_array_observe[INDEX_Z], time.time()), bbox_inches='tight', dpi=200)"
   ]
  },
  {
   "cell_type": "code",
   "execution_count": null,
   "metadata": {},
   "outputs": [],
   "source": []
  },
  {
   "cell_type": "code",
   "execution_count": 149,
   "metadata": {},
   "outputs": [
    {
     "name": "stdout",
     "output_type": "stream",
     "text": [
      "z: [7.88371508 7.97058311 8.05745114 8.14431917 8.2311872  8.31805523\n",
      " 8.40492326 8.49179129 8.57865931 8.66552734] \n",
      " HI_fraction: [array(0.24886933), array(0.27801176), array(0.30629049), array(0.33364729), array(0.36007932), array(0.3855952), array(0.41022115), array(0.43398214), array(0.45690424), array(0.47901292)] \n",
      " dxHdz: [array(0.34002283), array(0.33061254), array(0.32028077), array(0.30961071), array(0.29895274), array(0.28857324), array(0.27846402), array(0.26866009), array(0.2591476), array(0.24993217)]\n"
     ]
    },
    {
     "name": "stderr",
     "output_type": "stream",
     "text": [
      "/Users/liuzhaoning/opt/anaconda3/lib/python3.8/site-packages/scipy/integrate/quadpack.py:880: IntegrationWarning: The maximum number of subdivisions (50) has been achieved.\n",
      "  If increasing the limit yields no improvement it is advised to analyze \n",
      "  the integrand in order to determine the difficulties.  If the position of a \n",
      "  local difficulty can be determined (singularity, discontinuity) one will \n",
      "  probably gain from splitting up the interval and calling the integrator \n",
      "  on the subranges.  Perhaps a special-purpose integrator should be used.\n",
      "  quad_r = quad(f, low, high, args=args, full_output=self.full_output,\n"
     ]
    },
    {
     "name": "stdout",
     "output_type": "stream",
     "text": [
      "Pk_A_HICO computation cost 2.63 mins\n",
      "Pk_S_HICO computation cost 1.58 mins\n",
      "Pk_auto_21 computation cost 1.49 mins\n",
      "Pk_auto_CO computation cost 0.0155 mins\n"
     ]
    }
   ],
   "source": [
    "'''\n",
    "the relation between the significance and the redshift\n",
    "'''\n",
    "#the fiducial parameters\n",
    "zeta = 25; T_vir = 3e4; R_mfp = 50; SMOOTHING_SCALE = 384\n",
    "mu = 1.22 if T_vir < 9.99999e3 else 0.6\n",
    "M_max = antisym_func.RtoM(R_mfp)\n",
    "\n",
    "#read in the fiducial model\n",
    "DIR = '/Users/liuzhaoning/Desktop/Today/antisym_observability/data/antisym_observability/xi_A_HICO'\n",
    "zeta_z_func, z_array_history, HI_history, z_dxHdz_history, dxHdz_history, HIrho_over_rho0_interp, \\\n",
    "BMF_func, xi_A_HICO_unsmoothed_interp = read_model_data(DIR, zeta, T_vir, R_mfp, SMOOTHING_SCALE)\n",
    "\n",
    "#choose the redshift we are observing\n",
    "z_floor = antisym_func.dxHdz_To_z(0.34, M_max, zeta_z_func, T_vir, mu, z_dxHdz_history, dxHdz_history)[1]\n",
    "z_top = antisym_func.dxHdz_To_z(0.25, M_max, zeta_z_func, T_vir, mu, z_dxHdz_history, dxHdz_history)[1]\n",
    "z_array_observe = np.linspace(z_floor, z_top, 10); dxHdz_array_observe = []; xH_array_observe = []\n",
    "for z in z_array_observe:\n",
    "    dxHdz_array_observe.append(interp1d(z_dxHdz_history, dxHdz_history, kind='cubic')(z))\n",
    "    xH_array_observe.append(interp1d(z_array_history, HI_history, kind='cubic')(z))\n",
    "\n",
    "#set the power spectrum we want to observe\n",
    "kh_array = np.logspace(np.log10(0.1),np.log10(0.6), 16)\n",
    "#set the Smoothing scale of Pk_A computation\n",
    "SMOOTHING_Pk = 384 #a similar comving distance with the frequency bandwidth\n",
    "print('z:',z_array_observe,'\\n HI_fraction:', xH_array_observe, '\\n dxHdz:',dxHdz_array_observe)\n",
    "\n",
    "#compute the statistics\n",
    "Pk_A_HICO_map = Pk_A_HICO_computation(z_array_observe, kh_array, SMOOTHING_Pk, xi_A_HICO_unsmoothed_interp)\n",
    "Pk_S_HICO_map = Pk_S_HICO_computation(z_array_observe, kh_array, BMF_func)\n",
    "Pk_auto_21_map = Pk_auto_21_computation(z_array_observe, kh_array, zeta_z_func, HIrho_over_rho0_interp, BMF_func, M_max, T_vir, mu)\n",
    "Pk_auto_CO_map = Pk_auto_CO_computation(z_array_observe, kh_array, T_vir, mu)\n",
    "\n",
    "#compute the uncertainties\n",
    "t_int = 3000 * 3600 #seconds #10000 hour each\n",
    "NUM_PATCH = 75\n",
    "MEASUREMENT = 0 #SKA1\n",
    "VAR_PkA_map_0, S_over_N_0, kh_min_array_0, kh_max_array_0, confidence_array_0 = error_PkA_HICO_computation(t_int, z_array_observe, kh_array, SMOOTHING_Pk, NUM_PATCH, MEASUREMENT, Pk_auto_CO_map, Pk_auto_21_map, Pk_A_HICO_map, Pk_S_HICO_map)\n",
    "\n",
    "#compute the uncertainties\n",
    "NUM_PATCH = 150\n",
    "MEASUREMENT = 1 #SKA2\n",
    "VAR_PkA_map_1, S_over_N_1, kh_min_array_1, kh_max_array_1, confidence_array_1 = error_PkA_HICO_computation(t_int, z_array_observe, kh_array, SMOOTHING_Pk, NUM_PATCH, MEASUREMENT, Pk_auto_CO_map, Pk_auto_21_map, Pk_A_HICO_map, Pk_S_HICO_map)\n",
    "\n",
    "#compute the uncertainties\n",
    "NUM_PATCH = 200\n",
    "MEASUREMENT = 2 #SKA2\n",
    "VAR_PkA_map_2, S_over_N_2, kh_min_array_2, kh_max_array_2, confidence_array_2 = error_PkA_HICO_computation(t_int, z_array_observe, kh_array, SMOOTHING_Pk, NUM_PATCH, MEASUREMENT, Pk_auto_CO_map, Pk_auto_21_map, Pk_A_HICO_map, Pk_S_HICO_map)"
   ]
  },
  {
   "cell_type": "code",
   "execution_count": 150,
   "metadata": {},
   "outputs": [
    {
     "data": {
      "image/png": "[encoded data removed]",
      "text/plain": [
       "<Figure size 432x288 with 1 Axes>"
      ]
     },
     "metadata": {
      "needs_background": "light"
     },
     "output_type": "display_data"
    }
   ],
   "source": [
    "fig, axs = plt.subplots(1, 1, sharex=True, figsize=(6,4))\n",
    "axs.plot(dxHdz_array_observe, confidence_array_0, color = 'black', label = 'SKA1')\n",
    "axs.plot(dxHdz_array_observe, confidence_array_1, color = 'green', label = 'SKA2')\n",
    "axs.plot(dxHdz_array_observe, confidence_array_2, color = 'red', label = 'SKA2-advanced')\n",
    "\n",
    "axs.hlines(y=1,xmin = 0.24,xmax = 0.35, color = 'grey', lw=0.8)\n",
    "axs.set_yscale('log')\n",
    "axs.legend(loc = 4, fontsize = 13)\n",
    "axs.set_ylim(0.09,22); axs.set_xlim(0.24,0.35)\n",
    "axs.set_ylabel(r'significance',fontsize=14)\n",
    "axs.set_xlabel(r'$dx_\\mathrm{HI}/dz \\ (x_\\mathrm{HI},\\ z)$',fontsize=14)\n",
    "axs.tick_params(direction='in',length=3)\n",
    "#axs.set_ylim(3e3, 8e6)\n",
    "axs.set_xticks([0.25, 0.3, 0.34])\n",
    "axs.set_xticklabels(['0.25 (0.48, 8.66)','0.3 (0.36, 8.23)','0.34 (0.25, 7.88)'], fontsize=12)\n",
    "#axs[1].text(8.3, 0.31,'accel.',fontsize=12); axs[1].text(6.7, 0.3, 'decel.', fontsize = 12)\n",
    "plt.savefig('../figures/significance_redshift_Time%f.png'%(time.time()), bbox_inches='tight', dpi=200)"
   ]
  },
  {
   "cell_type": "code",
   "execution_count": null,
   "metadata": {},
   "outputs": [],
   "source": []
  },
  {
   "cell_type": "code",
   "execution_count": 151,
   "metadata": {},
   "outputs": [
    {
     "name": "stdout",
     "output_type": "stream",
     "text": [
      "z_max: 0.3495164360100269 z: [7.88371508 8.56667752] \n",
      " HI_fraction: [array(0.24886933), array(0.45379152)] \n",
      " dxHdz: [array(0.34002283), array(0.26044226)]\n"
     ]
    }
   ],
   "source": [
    "'''\n",
    "Two redshift bins without overlapping\n",
    "'''\n",
    "#the fiducial parameters\n",
    "zeta = 25; T_vir = 3e4; R_mfp = 50; SMOOTHING_SCALE = 384\n",
    "mu = 1.22 if T_vir < 9.99999e3 else 0.6\n",
    "M_max = antisym_func.RtoM(R_mfp)\n",
    "\n",
    "#read in the fiducial model\n",
    "DIR = '/Users/liuzhaoning/Desktop/Today/antisym_observability/data/antisym_observability/xi_A_HICO'\n",
    "zeta_z_func, z_array_history, HI_history, z_dxHdz_history, dxHdz_history, HIrho_over_rho0_interp, \\\n",
    "BMF_func, xi_A_HICO_unsmoothed_interp = read_model_data(DIR, zeta, T_vir, R_mfp, SMOOTHING_SCALE)\n",
    "\n",
    "#choose the redshift we are observing\n",
    "z_floor = antisym_func.dxHdz_To_z(0.34, M_max, zeta_z_func, T_vir, mu, z_dxHdz_history, dxHdz_history)[1]\n",
    "z_top = antisym_func.dxHdz_To_z(0.26, M_max, zeta_z_func, T_vir, mu, z_dxHdz_history, dxHdz_history)[1]\n",
    "z_array_observe = np.linspace(z_floor, z_top, 2); dxHdz_array_observe = []; xH_array_observe = []\n",
    "for z in z_array_observe:\n",
    "    dxHdz_array_observe.append(interp1d(z_dxHdz_history, dxHdz_history, kind='cubic')(z))\n",
    "    xH_array_observe.append(interp1d(z_array_history, HI_history, kind='cubic')(z))\n",
    "\n",
    "#set the power spectrum we want to observe\n",
    "kh_array = np.logspace(np.log10(0.1),np.log10(0.6), 16)\n",
    "\n",
    "print('z_max:', max(dxHdz_history), 'z:',z_array_observe,'\\n HI_fraction:', xH_array_observe, '\\n dxHdz:',dxHdz_array_observe)"
   ]
  },
  {
   "cell_type": "code",
   "execution_count": 152,
   "metadata": {},
   "outputs": [
    {
     "name": "stdout",
     "output_type": "stream",
     "text": [
      "[7.569643067819268, 8.207483755029235] [8.219422317739824, 8.932458809146322]\n",
      "Pk_A_HICO computation cost 0.429 mins\n",
      "Pk_S_HICO computation cost 0.333 mins\n",
      "Pk_auto_21 computation cost 0.309 mins\n",
      "Pk_auto_CO computation cost 0.0031 mins\n"
     ]
    }
   ],
   "source": [
    "#set the smoothing scale and the redshift to make sure they don't overlap\n",
    "print(antisym_func.cal_z1_z2(7.88, 192, 0), antisym_func.cal_z1_z2(8.566, 192, 0))\n",
    "#set the Smoothing scale of Pk_A computation\n",
    "SMOOTHING_Pk = 192 #a similar comving distance with the frequency bandwidth\n",
    "\n",
    "#compute the statistics\n",
    "Pk_A_HICO_map = Pk_A_HICO_computation(z_array_observe, kh_array, SMOOTHING_Pk, xi_A_HICO_unsmoothed_interp)\n",
    "Pk_S_HICO_map = Pk_S_HICO_computation(z_array_observe, kh_array, BMF_func)\n",
    "Pk_auto_21_map = Pk_auto_21_computation(z_array_observe, kh_array, zeta_z_func, HIrho_over_rho0_interp, BMF_func, M_max, T_vir, mu)\n",
    "Pk_auto_CO_map = Pk_auto_CO_computation(z_array_observe, kh_array, T_vir, mu)"
   ]
  },
  {
   "cell_type": "code",
   "execution_count": 209,
   "metadata": {},
   "outputs": [
    {
     "data": {
      "text/plain": [
       "[4.189709731377831, 0.13949176997523588]"
      ]
     },
     "execution_count": 209,
     "metadata": {},
     "output_type": "execute_result"
    }
   ],
   "source": [
    "#set the smoothing volume to achieve the smallest error\n",
    "t_int = 1000 * 3600 #seconds #10000 hour each\n",
    "\n",
    "NUM_PATCH = 600\n",
    "MEASUREMENT = 2 #SKA2\n",
    "VAR_PkA_map_2, S_over_N_2, kh_min_array_2, kh_max_array_2, confidence_array_2 = error_PkA_HICO_computation(t_int, z_array_observe, kh_array, SMOOTHING_Pk, NUM_PATCH, MEASUREMENT, Pk_auto_CO_map, Pk_auto_21_map, Pk_A_HICO_map, Pk_S_HICO_map)\n",
    "\n",
    "confidence_array_2 "
   ]
  },
  {
   "cell_type": "code",
   "execution_count": 238,
   "metadata": {},
   "outputs": [
    {
     "name": "stdout",
     "output_type": "stream",
     "text": [
      "7.88, 0.1, 2.38e+03, 1.75e+10, 2.08e+05, -5.75e+06, 8.48e+12\n",
      "7.88, 0.113, 1.8e+03, 1.17e+10, 1.48e+05, -3.66e+06, 7.73e+12\n",
      "7.88, 0.127, 1.37e+03, 6.48e+09, 9.42e+04, -2.25e+06, 3.84e+12\n",
      "7.88, 0.143, 1.05e+03, 4.58e+09, 5.15e+04, -1.35e+06, 2.99e+12\n",
      "7.88, 0.161, 809, 2.4e+09, 2.45e+04, -8.03e+05, 1.3e+12\n",
      "7.88, 0.182, 631, 1.28e+09, 1.22e+04, -4.78e+05, 5.79e+11\n",
      "7.88, 0.205, 498, 8.02e+08, 8.02e+03, -2.79e+05, 3.22e+11\n",
      "7.88, 0.231, 399, 5.19e+08, 5.14e+03, -1.6e+05, 1.82e+11\n",
      "7.88, 0.26, 325, 2.84e+08, 2.13e+03, -9.2e+04, 8.41e+10\n",
      "7.88, 0.293, 270, 1.74e+08, 1.02e+03, -5.32e+04, 4.4e+10\n",
      "7.88, 0.33, 229, 1.13e+08, 763, -3.01e+04, 2.49e+10\n",
      "7.88, 0.372, 198, 8e+07, 236, -1.73e+04, 1.56e+10\n",
      "7.88, 0.419, 177, 5.94e+07, 206, -9.78e+03, 1.04e+10\n",
      "7.88, 0.472, 163, 4.78e+07, 55.1, -5.58e+03, 7.73e+09\n",
      "7.88, 0.532, 156, 4.1e+07, 53.8, -3.15e+03, 6.38e+09\n",
      "7.88, 0.6, 159, 3.45e+07, 33.1, 2.4e+03, 5.48e+09\n",
      "8.57, 0.1, 1.66e+03, 6.31e+09, 6.38e+03, -1.4e+06, 8.52e+12\n",
      "8.57, 0.113, 1.3e+03, 5.12e+09, 6.31e+03, -1.07e+06, 5.53e+12\n",
      "8.57, 0.127, 1.03e+03, 3.48e+09, 5.96e+03, -8e+05, 2.94e+12\n",
      "8.57, 0.143, 820, 3.03e+09, 5.33e+03, -5.85e+05, 2.14e+12\n",
      "8.57, 0.161, 659, 1.92e+09, 4.48e+03, -4.17e+05, 1.09e+12\n",
      "8.57, 0.182, 535, 1.2e+09, 3.54e+03, -2.89e+05, 5.6e+11\n",
      "8.57, 0.205, 439, 8.78e+08, 2.62e+03, -1.95e+05, 3.48e+11\n",
      "8.57, 0.231, 366, 6.57e+08, 1.82e+03, -1.28e+05, 2.24e+11\n",
      "8.57, 0.26, 309, 4.03e+08, 1.2e+03, -8.17e+04, 1.18e+11\n",
      "8.57, 0.293, 265, 2.68e+08, 748, -5.12e+04, 6.84e+10\n",
      "8.57, 0.33, 232, 1.9e+08, 450, -3.15e+04, 4.31e+10\n",
      "8.57, 0.372, 208, 1.43e+08, 261, -1.91e+04, 2.95e+10\n",
      "8.57, 0.419, 193, 1.12e+08, 148, -1.15e+04, 2.14e+10\n",
      "8.57, 0.472, 184, 9.09e+07, 81.9, -6.82e+03, 1.67e+10\n",
      "8.57, 0.532, 189, 7.67e+07, 57.6, 5.18e+03, 1.44e+10\n",
      "8.57, 0.6, 183, 6.33e+07, 037, 3.64e+03, 1.16e+10\n",
      "7.88, 0.1, 905, 8.74e+09, 1.04e+05, -2.88e+06, -3.6e+11\n",
      "7.88, 0.113, 662, 5.87e+09, 7.42e+04, -1.83e+06, 5.33e+11\n",
      "7.88, 0.127, 483, 3.24e+09, 4.71e+04, -1.12e+06, 3.07e+11\n",
      "7.88, 0.143, 354, 2.29e+09, 2.57e+04, -6.73e+05, 3.58e+11\n",
      "7.88, 0.161, 261, 1.2e+09, 1.22e+04, -4.02e+05, 1.52e+11\n",
      "7.88, 0.182, 193, 6.4e+08, 6.08e+03, -2.39e+05, 6.66e+10"
     ]
    },
    {
     "name": "stderr",
     "output_type": "stream",
     "text": [
      "<ipython-input-234-3d582fe14465>:212: RuntimeWarning: invalid value encountered in double_scalars\n",
      "  S_over_N_map[-1].append(abs(Pk_A_HICO_map[i][j]) / VAR_PkA_map[i][j]**0.5)\n"
     ]
    },
    {
     "name": "stdout",
     "output_type": "stream",
     "text": [
      "\n",
      "7.88, 0.205, 145, 4.01e+08, 4.01e+03, -1.4e+05, 3.86e+10\n",
      "7.88, 0.231, 110, 2.6e+08, 2.57e+03, -7.99e+04, 2.22e+10\n",
      "7.88, 0.26, 85.2, 1.42e+08, 1.07e+03, -4.6e+04, 1e+10\n",
      "7.88, 0.293, 67.3, 8.68e+07, 508, -2.66e+04, 5.14e+09\n",
      "7.88, 0.33, 54.5, 5.66e+07, 382, -1.51e+04, 2.85e+09\n",
      "7.88, 0.372, 45.4, 4e+07, 118, -8.63e+03, 1.74e+09\n",
      "7.88, 0.419, 39.1, 2.97e+07, 103, -4.89e+03, 1.14e+09\n",
      "7.88, 0.472, 34.9, 2.39e+07, 27.5, -2.79e+03, 8.27e+08\n",
      "7.88, 0.532, 32.7, 2.05e+07, 26.9, -1.57e+03, 6.68e+08\n",
      "7.88, 0.6, 33.1, 1.72e+07, 16.6, 1.2e+03, 5.7e+08\n",
      "8.57, 0.1, 534, 3.16e+09, 3.19e+03, -7e+05, 1.2e+12\n",
      "8.57, 0.113, 402, 2.56e+09, 3.16e+03, -5.34e+05, 7.44e+11\n",
      "8.57, 0.127, 304, 1.74e+09, 2.98e+03, -4e+05, 3.7e+11\n",
      "8.57, 0.143, 232, 1.51e+09, 2.66e+03, -2.93e+05, 2.66e+11\n",
      "8.57, 0.161, 178, 9.59e+08, 2.24e+03, -2.09e+05, 1.27e+11\n",
      "8.57, 0.182, 138, 6.02e+08, 1.77e+03, -1.45e+05, 6.25e+10\n",
      "8.57, 0.205, 109, 4.39e+08, 1.31e+03, -9.74e+04, 3.84e+10\n",
      "8.57, 0.231, 87.3, 3.28e+08, 910, -6.39e+04, 2.46e+10\n",
      "8.57, 0.26, 71.2, 2.02e+08, 598, -4.09e+04, 1.27e+10\n",
      "8.57, 0.293, 59.3, 1.34e+08, 374, -2.56e+04, 7.28e+09\n",
      "8.57, 0.33, 50.6, 9.49e+07, 225, -1.58e+04, 4.56e+09\n",
      "8.57, 0.372, 44.4, 7.16e+07, 131, -9.56e+03, 3.09e+09\n",
      "8.57, 0.419, 40.3, 5.58e+07, 73.9, -5.74e+03, 2.21e+09\n",
      "8.57, 0.472, 038, 4.54e+07, 041, -3.41e+03, 1.72e+09\n",
      "8.57, 0.532, 38.7, 3.84e+07, 28.8, 2.59e+03, 1.48e+09\n",
      "8.57, 0.6, 37.4, 3.16e+07, 18.5, 1.82e+03, 1.18e+09\n",
      "7.88, 0.1, 677, 7.16e+09, 8.49e+04, -2.35e+06, -6.68e+11\n",
      "7.88, 0.113, 488, 4.81e+09, 6.06e+04, -1.49e+06, 1.16e+11\n",
      "7.88, 0.127, 351, 2.66e+09, 3.85e+04, -9.17e+05, 9.41e+10\n",
      "7.88, 0.143, 252, 1.89e+09, 2.1e+04, -5.5e+05, 1.73e+11\n",
      "7.88, 0.161, 181, 9.92e+08, 1e+04, -3.28e+05, 7.25e+10\n",
      "7.88, 0.182, 131, 5.32e+08, 4.96e+03, -1.95e+05, 3.17e+10\n",
      "7.88, 0.205, 95.5, 3.36e+08, 3.27e+03, -1.14e+05, 1.92e+10\n",
      "7.88, 0.231, 70.4, 2.21e+08, 2.1e+03, -6.53e+04, 1.13e+10\n",
      "7.88, 0.26, 52.7, 1.24e+08, 870, -3.75e+04, 5.11e+09\n",
      "7.88, 0.293, 40.2, 7.79e+07, 415, -2.17e+04, 2.66e+09\n",
      "7.88, 0.33, 31.5, 5.3e+07, 312, -1.23e+04, 1.51e+09\n",
      "7.88, 0.372, 25.4, 3.93e+07, 96.4, -7.05e+03, 9.47e+08\n",
      "7.88, 0.419, 21.2, 3.04e+07, 84.1, -3.99e+03, 6.28e+08\n",
      "7.88, 0.472, 18.4, 2.52e+07, 22.5, -2.28e+03, 4.6e+08\n",
      "7.88, 0.532, 16.9, 2.23e+07, 022, -1.29e+03, 3.74e+08\n",
      "7.88, 0.6, 017, 1.92e+07, 13.5, 981, 3.26e+08\n",
      "8.57, 0.1, 371, 2.61e+09, 2.6e+03, -5.71e+05, 6.42e+11\n",
      "8.57, 0.113, 274, 2.12e+09, 2.58e+03, -4.36e+05, 3.9e+11\n",
      "8.57, 0.127, 203, 1.44e+09, 2.43e+03, -3.27e+05, 1.86e+11\n",
      "8.57, 0.143, 151, 1.26e+09, 2.18e+03, -2.39e+05, 1.33e+11\n",
      "8.57, 0.161, 113, 8.01e+08, 1.83e+03, -1.7e+05, 6.12e+10\n",
      "8.57, 0.182, 085, 5.06e+08, 1.44e+03, -1.18e+05, 2.91e+10\n",
      "8.57, 0.205, 065, 3.72e+08, 1.07e+03, -7.96e+04, 1.79e+10\n",
      "8.57, 0.231, 50.5, 2.82e+08, 743, -5.22e+04, 1.15e+10\n",
      "8.57, 0.26, 040, 1.77e+08, 489, -3.34e+04, 5.96e+09\n",
      "8.57, 0.293, 32.5, 1.21e+08, 305, -2.09e+04, 3.48e+09\n",
      "8.57, 0.33, 027, 8.89e+07, 184, -1.29e+04, 2.24e+09\n",
      "8.57, 0.372, 23.2, 6.98e+07, 107, -7.81e+03, 1.56e+09\n",
      "8.57, 0.419, 20.7, 5.61e+07, 60.3, -4.68e+03, 1.14e+09\n",
      "8.57, 0.472, 19.2, 4.67e+07, 33.5, -2.78e+03, 8.9e+08\n",
      "8.57, 0.532, 19.5, 4.04e+07, 23.5, 2.11e+03, 7.82e+08\n",
      "8.57, 0.6, 18.7, 3.43e+07, 15.1, 1.48e+03, 6.39e+08\n"
     ]
    },
    {
     "name": "stderr",
     "output_type": "stream",
     "text": [
      "<ipython-input-238-649350da42db>:22: RuntimeWarning: invalid value encountered in sqrt\n",
      "  axs.loglog(kh_array, np.array(VAR_PkA_map_1[INDEX_Z])**0.5, ls = '--', color = 'green', label = 'SKA2 (%3.3g$\\sigma$)'%confidence_array_1[INDEX_Z])\n",
      "<ipython-input-238-649350da42db>:23: RuntimeWarning: invalid value encountered in sqrt\n",
      "  axs.loglog(kh_array, np.array(VAR_PkA_map_2[INDEX_Z])**0.5, ls = '--', color = 'red', label = 'SKA2-advanced (%3.3g$\\sigma$)'%confidence_array_2[INDEX_Z])\n"
     ]
    },
    {
     "data": {
      "image/png": "[encoded data removed]",
      "text/plain": [
       "<Figure size 432x288 with 1 Axes>"
      ]
     },
     "metadata": {
      "needs_background": "light"
     },
     "output_type": "display_data"
    },
    {
     "data": {
      "image/png": "[encoded data removed]",
      "text/plain": [
       "<Figure size 432x288 with 1 Axes>"
      ]
     },
     "metadata": {
      "needs_background": "light"
     },
     "output_type": "display_data"
    }
   ],
   "source": [
    "#compute the uncertainties\n",
    "t_int = 3000 * 3600 #seconds #10000 hour each\n",
    "NUM_PATCH = 50\n",
    "MEASUREMENT = 0 #SKA1\n",
    "VAR_PkA_map_0, S_over_N_0, kh_min_array_0, kh_max_array_0, confidence_array_0 = error_PkA_HICO_computation(t_int, z_array_observe, kh_array, SMOOTHING_Pk, NUM_PATCH, MEASUREMENT, Pk_auto_CO_map, Pk_auto_21_map, Pk_A_HICO_map, Pk_S_HICO_map)\n",
    "\n",
    "#compute the uncertainties\n",
    "NUM_PATCH = 200\n",
    "MEASUREMENT = 1 #SKA2\n",
    "VAR_PkA_map_1, S_over_N_1, kh_min_array_1, kh_max_array_1, confidence_array_1 = error_PkA_HICO_computation(t_int, z_array_observe, kh_array, SMOOTHING_Pk, NUM_PATCH, MEASUREMENT, Pk_auto_CO_map, Pk_auto_21_map, Pk_A_HICO_map, Pk_S_HICO_map)\n",
    "\n",
    "#compute the uncertainties\n",
    "NUM_PATCH = 300\n",
    "MEASUREMENT = 2 #SKA2\n",
    "VAR_PkA_map_2, S_over_N_2, kh_min_array_2, kh_max_array_2, confidence_array_2 = error_PkA_HICO_computation(t_int, z_array_observe, kh_array, SMOOTHING_Pk, NUM_PATCH, MEASUREMENT, Pk_auto_CO_map, Pk_auto_21_map, Pk_A_HICO_map, Pk_S_HICO_map)\n",
    "\n",
    "INDEX_Z = 0\n",
    "fig, axs = plt.subplots(1, 1, sharex=True, figsize=(6,4))\n",
    "fig.subplots_adjust(hspace=0)\n",
    "axs.loglog(kh_array, np.array(Pk_A_HICO_map[INDEX_Z]), color = 'black', label = 'signal')\n",
    "axs.loglog(kh_array, np.array(VAR_PkA_map_0[INDEX_Z])**0.5, ls = '--', color = 'blue', label = 'SKA1 (%3.3g$\\sigma$)'%confidence_array_0[INDEX_Z])\n",
    "axs.loglog(kh_array, np.array(VAR_PkA_map_1[INDEX_Z])**0.5, ls = '--', color = 'green', label = 'SKA2 (%3.3g$\\sigma$)'%confidence_array_1[INDEX_Z])\n",
    "axs.loglog(kh_array, np.array(VAR_PkA_map_2[INDEX_Z])**0.5, ls = '--', color = 'red', label = 'SKA2-advanced (%3.3g$\\sigma$)'%confidence_array_2[INDEX_Z])\n",
    "axs.vlines(x=kh_max_array_2[INDEX_Z],ymin = 1e1,ymax = 1e7, color = 'grey', lw=0.8)\n",
    "axs.legend(loc = 3, fontsize = 11)\n",
    "#axs.set_ylim(0.0,0.46); axs.set_xlim(6,11)\n",
    "axs.set_ylabel(r'$P^A\\ [\\mu K^2\\ h^{-3} \\mathrm{Mpc}^3]$',fontsize=14)\n",
    "axs.set_xlabel(r'$k\\ [h\\ Mpc^{-1}]$',fontsize=14)\n",
    "axs.tick_params(direction='in',length=3)\n",
    "axs.set_ylim(3e3, 8e6)\n",
    "axs.set_xticks([0.1, kh_max_array_2[INDEX_Z],0.2, 0.3,0.4, 0.6])\n",
    "axs.set_xticklabels(['$0.1$', '$%2.2g$'%kh_max_array_2[INDEX_Z], '$0.2$', '$0.3$', '$0.4$','$0.6$'], fontsize=12)\n",
    "#axs[1].text(8.3, 0.31,'accel.',fontsize=12); axs[1].text(6.7, 0.3, 'decel.', fontsize = 12)\n",
    "plt.savefig('../figures/sensitivity_t%05.5ghour_analytical_zeta%03.3g_Tvir%3.3g_Rmfp%03.3g_HI%2.2g_Time%f.png'%(t_int / 3600, zeta, T_vir, R_mfp, xH_array_observe[INDEX_Z], time.time()), bbox_inches='tight', dpi=200)\n",
    "\n",
    "INDEX_Z = 1\n",
    "fig, axs = plt.subplots(1, 1, sharex=True, figsize=(6,4))\n",
    "fig.subplots_adjust(hspace=0)\n",
    "axs.loglog(kh_array, np.array(Pk_A_HICO_map[INDEX_Z]), color = 'black', label = 'signal')\n",
    "axs.loglog(kh_array, np.array(VAR_PkA_map_0[INDEX_Z])**0.5, ls = '--', color = 'blue', label = 'SKA1 (%3.3g$\\sigma$)'%confidence_array_0[INDEX_Z])\n",
    "axs.loglog(kh_array, np.array(VAR_PkA_map_1[INDEX_Z])**0.5, ls = '--', color = 'green', label = 'SKA2 (%3.3g$\\sigma$)'%confidence_array_1[INDEX_Z])\n",
    "axs.loglog(kh_array, np.array(VAR_PkA_map_2[INDEX_Z])**0.5, ls = '--', color = 'red', label = 'SKA2-advanced (%3.3g$\\sigma$)'%confidence_array_2[INDEX_Z])\n",
    "axs.vlines(x=kh_max_array_2[INDEX_Z],ymin = 1e1,ymax = 1e7, color = 'grey', lw=0.8)\n",
    "axs.legend(loc = 3, fontsize = 11)\n",
    "#axs.set_ylim(0.0,0.46); axs.set_xlim(6,11)\n",
    "axs.set_ylabel(r'$P^A\\ [\\mu K^2\\ h^{-3} \\mathrm{Mpc}^3]$',fontsize=14)\n",
    "axs.set_xlabel(r'$k\\ [h\\ Mpc^{-1}]$',fontsize=14)\n",
    "axs.tick_params(direction='in',length=3)\n",
    "axs.set_ylim(3e3, 8e6)\n",
    "axs.set_xticks([0.1, kh_max_array_2[INDEX_Z],0.2, 0.3,0.4, 0.6])\n",
    "axs.set_xticklabels(['$0.1$', '$%2.2g$'%kh_max_array_2[INDEX_Z], '$0.2$', '$0.3$', '$0.4$','$0.6$'], fontsize=12)\n",
    "#axs[1].text(8.3, 0.31,'accel.',fontsize=12); axs[1].text(6.7, 0.3, 'decel.', fontsize = 12)\n",
    "plt.savefig('../figures/sensitivity_t%05.5ghour_analytical_zeta%03.3g_Tvir%3.3g_Rmfp%03.3g_HI%2.2g_Time%f.png'%(t_int / 3600, zeta, T_vir, R_mfp, xH_array_observe[INDEX_Z], time.time()), bbox_inches='tight', dpi=200)"
   ]
  },
  {
   "cell_type": "code",
   "execution_count": 64,
   "metadata": {},
   "outputs": [
    {
     "data": {
      "text/plain": [
       "[7.569643067819268, 8.207483755029235]"
      ]
     },
     "execution_count": 64,
     "metadata": {},
     "output_type": "execute_result"
    }
   ],
   "source": [
    "antisym_func.cal_z1_z2(7.88, 192, 0)"
   ]
  },
  {
   "cell_type": "code",
   "execution_count": 66,
   "metadata": {},
   "outputs": [
    {
     "data": {
      "text/plain": [
       "[8.219422317739824, 8.932458809146322]"
      ]
     },
     "execution_count": 66,
     "metadata": {},
     "output_type": "execute_result"
    }
   ],
   "source": [
    "antisym_func.cal_z1_z2(8.566, 192, 0)"
   ]
  },
  {
   "cell_type": "code",
   "execution_count": 96,
   "metadata": {},
   "outputs": [
    {
     "data": {
      "text/plain": [
       "[8.20167828427547, 0.8724832817123668]"
      ]
     },
     "execution_count": 96,
     "metadata": {},
     "output_type": "execute_result"
    }
   ],
   "source": [
    "#compute the uncertainties\n",
    "NUM_PATCH = 100\n",
    "MEASUREMENT = 1 #SKA2\n",
    "VAR_PkA_map_2, S_over_N_2, kh_min_array_2, kh_max_array_2, confidence_array_2 = error_PkA_HICO_computation(t_int, z_array_observe, kh_array, SMOOTHING_Pk, NUM_PATCH, MEASUREMENT, Pk_auto_CO_map, Pk_auto_21_map, Pk_A_HICO_map, Pk_S_HICO_map)\n",
    "confidence_array_2\n"
   ]
  },
  {
   "cell_type": "code",
   "execution_count": null,
   "metadata": {},
   "outputs": [],
   "source": []
  }
 ],
 "metadata": {
  "kernelspec": {
   "display_name": "Python 3",
   "language": "python",
   "name": "python3"
  },
  "language_info": {
   "codemirror_mode": {
    "name": "ipython",
    "version": 3
   },
   "file_extension": ".py",
   "mimetype": "text/x-python",
   "name": "python",
   "nbconvert_exporter": "python",
   "pygments_lexer": "ipython3",
   "version": "3.8.5"
  }
 },
 "nbformat": 4,
 "nbformat_minor": 4
}
