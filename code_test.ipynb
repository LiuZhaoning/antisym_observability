{
 "cells": [
  {
   "cell_type": "code",
   "execution_count": 120,
   "metadata": {},
   "outputs": [],
   "source": [
    "import numpy as np\n",
    "import time\n",
    "import sys\n",
    "import os\n",
    "from scipy.interpolate import interp1d, interp2d\n",
    "from multiprocessing import Pool, Manager\n",
    "import antisym_func\n",
    "import error_bar\n",
    "from importlib import reload"
   ]
  },
  {
   "cell_type": "code",
   "execution_count": 385,
   "metadata": {},
   "outputs": [],
   "source": [
    "#calculate the Pk_A for certain models at input redshift array\n",
    "def read_model_data(DIR, zeta, T_vir, R_mfp, SMOOTHING_SCALE):\n",
    "    #read in the normalized zeta\n",
    "    DIR_zeta = DIR + '/zeta%05.5g_Tvir%05.5g_Rmfp%05.5g_SMO%03.3g/normalized_zeta.npz'%(zeta, T_vir, R_mfp, SMOOTHING_SCALE)\n",
    "    if os.path.exists(DIR_zeta): \n",
    "        data = np.load(DIR_zeta)\n",
    "        z_zeta_interp_array = data['z']; zeta_z_interp_array = data['zeta_z']\n",
    "        zeta_z_func = interp1d(z_zeta_interp_array, zeta_z_interp_array, kind = 'cubic')\n",
    "    else:\n",
    "        print('file %s not found'%DIR_zeta); sys.exit()\n",
    "        \n",
    "    #read in the history of HI fraction and dx_HI/dz\n",
    "    DIR_history = DIR + '/zeta%05.5g_Tvir%05.5g_Rmfp%05.5g_SMO%03.3g/history.npz'%(zeta, T_vir, R_mfp, SMOOTHING_SCALE)\n",
    "    if os.path.exists(DIR_history):\n",
    "        data = np.load(DIR_history)\n",
    "        z_array_history = list(data['z_array_history']); HI_history = list(data['HI_history'])\n",
    "        z_dxHdz_history = list(data['z_dxHdz_history']); dxHdz_history = list(data['dxHdz_history'])\n",
    "    else:\n",
    "        print('file %s not found'%DIR_history); sys.exit()\n",
    "    \n",
    "    #read in the average density of the neutral region\n",
    "    DIR_rhoHI = DIR + '/zeta%05.5g_Tvir%05.5g_Rmfp%05.5g_SMO%03.3g/rhoHI_over_rho0.npz'%(zeta, T_vir, R_mfp, SMOOTHING_SCALE)\n",
    "    if os.path.exists(DIR_rhoHI):\n",
    "        data = np.load(DIR_rhoHI)\n",
    "        z_array_HIrho = list(data['z_array_HIrho']); rhoHI_over_rho0_array = list(data['rhoHI_over_rho0_array'])\n",
    "        HIrho_over_rho0_interp = interp1d(z_array_HIrho, rhoHI_over_rho0_array, kind = 'cubic')\n",
    "    else:\n",
    "        print('file %s not found'%DIR_rhoHI); sys.exit()\n",
    "    \n",
    "    #load in the Bubble mass functions\n",
    "    DIR_BMF = DIR + '/zeta%05.5g_Tvir%05.5g_Rmfp%05.5g_SMO%03.3g/BMF_map.npz'%(zeta, T_vir, R_mfp, SMOOTHING_SCALE)\n",
    "    if os.path.exists(DIR_BMF):\n",
    "        data = np.load(DIR_BMF)\n",
    "        z_grid = list(data['z_grid']); m_grid = list(data['m_grid']); BMF_map = list(data['BMF_map'])       \n",
    "        BMF_interp = interp2d(m_grid, z_grid, BMF_map, kind = 'cubic')\n",
    "    else:\n",
    "        print('file %s not found'%DIR_BMF); sys.exit()\n",
    "    \n",
    "    #load in the unsmoothed antisymmetric cross-correlation data\n",
    "    DIR_xiHICO = DIR + '/zeta%05.5g_Tvir%05.5g_Rmfp%05.5g_SMO%03.3g/xi_A_HICO_unsmoothed_map.npz'%(zeta, T_vir, R_mfp, SMOOTHING_SCALE)\n",
    "    if os.path.exists(DIR_xiHICO):\n",
    "        data = np.load(DIR_xiHICO)\n",
    "        z_grid = list(data['z_grid']); r12_grid = list(data['r12_grid']); xi_A_HICO_map = list(data['xi_A_HICO_map'])       \n",
    "        xi_A_HICO_unsmoothed_interp = interp2d(r12_grid, z_grid, xi_A_HICO_map, kind = 'cubic')\n",
    "    else:\n",
    "        print('file %s not found'%DIR_xiHICO); sys.exit()\n",
    "    return zeta_z_func, z_array_history, HI_history, z_dxHdz_history, dxHdz_history, HIrho_over_rho0_interp, \\\n",
    "            BMF_interp, xi_A_HICO_unsmoothed_interp\n",
    "\n",
    "#compute the HI-CO antisymmetric power spectrum\n",
    "def Pk_A_HICO_computation(z_array, kh_array, SMOOTHING_Pk, xi_A_HICO_unsmoothed_interp):\n",
    "    tick = time.time()\n",
    "    #smooth the antisymmetric cross-correlation\n",
    "    r12_limit = 150\n",
    "    r12_smoothed_grid = np.zeros(100); r12_smoothed_grid[0:30] = np.linspace(0.1, 5, 30)\n",
    "    r12_smoothed_grid[30:100] = np.linspace(5, r12_limit, 71)[1:71]\n",
    "    xi_A_HICO_smoothed_func_array = [] #[z](r12)\n",
    "    for z in z_array:\n",
    "        xi_A_HICO_smoothed_array = []\n",
    "        for r12 in r12_smoothed_grid:\n",
    "            xi_A_HICO_smoothed_array.append(antisym_func.xi_A_HICO_smoothing(z, r12, xi_A_HICO_unsmoothed_interp, SMOOTHING_Pk)[0])\n",
    "        xi_A_HICO_smoothed_func_array.append(interp1d(r12_smoothed_grid, xi_A_HICO_smoothed_array, kind = 'cubic'))\n",
    "    \n",
    "    #Fourier transformation to compute the smoothed antisymmetric power spectrum\n",
    "    k_array = kh_array * antisym_func.hlittle\n",
    "    Pk_A_map = [] #[z][kh]\n",
    "    for ct in range(len(z_array)):\n",
    "        Pk_A_map.append([])\n",
    "        for k in k_array:\n",
    "            Pk_A_map[-1].append(antisym_func.Pk_A_cal(k, xi_A_HICO_smoothed_func_array[ct], min(r12_smoothed_grid), max(r12_smoothed_grid)))\n",
    "    print('Pk_A_HICO computation cost %3.3g mins'%((time.time() - tick) / 60))\n",
    "    return Pk_A_map #[z_array][kh_array] #in muK^2 h^-3 Mpc^3\n",
    "\n",
    "#compute the HI-CO symmetric power spectrum\n",
    "def Pk_S_HICO_computation(z_array, kh_array, BMF_func):\n",
    "    tick = time.time()\n",
    "    #compute the symmetric cross-correlation betwwen 21cm and CO line\n",
    "    r12_limit = 150\n",
    "    r12_grid = np.zeros(100); r12_grid[0:30] = np.linspace(0.1, 5, 30)\n",
    "    r12_grid[30:100] = np.linspace(5, r12_limit, 71)[1:71]\n",
    "    xi_S_HICO_func_array = [] #[z](r12)\n",
    "    for z in z_array:\n",
    "        xi_S_HICO_array = []\n",
    "        BMF_func_z = lambda m: BMF_func(m, z)\n",
    "        for r12 in r12_grid:\n",
    "            xi_S_HICO_array.append(antisym_func.xi_S_HICO(z, r12, zeta_z_func, HIrho_over_rho0_interp, BMF_func_z, M_max, T_vir, mu))\n",
    "        xi_S_HICO_func_array.append(interp1d(r12_grid, xi_S_HICO_array, kind = 'cubic'))\n",
    "    \n",
    "    #compute the correspondent power spectrum\n",
    "    k_array = kh_array * antisym_func.hlittle\n",
    "    Pk_S_map = []\n",
    "    for ct in range(len(z_array)):\n",
    "        Pk_S_map.append([])\n",
    "        for k in k_array:\n",
    "            Pk_S_map[-1].append(antisym_func.Pk_S(k, xi_S_HICO_func_array[ct], min(r12_grid), max(r12_grid)))\n",
    "    print('Pk_S_HICO computation cost %3.3g mins'%((time.time() - tick) / 60))\n",
    "    return Pk_S_map\n",
    "\n",
    "def Pk_auto_21_computation(z_array, kh_array, zeta_z_func, HIrho_over_rho0_func, BMF_func, M_max, T_vir, mu):\n",
    "    tick = time.time()\n",
    "    #compute the symmetric cross-correlation betwwen 21cm and CO line\n",
    "    r12_limit = 150\n",
    "    r12_grid = np.zeros(100); r12_grid[0:30] = np.linspace(0.1, 5, 30)\n",
    "    r12_grid[30:100] = np.linspace(5, r12_limit, 71)[1:71]\n",
    "    xi_auto_21_func_array = [] #[z](r12)\n",
    "    for z in z_array:\n",
    "        xi_auto_21_array = []\n",
    "        BMF_func_z = lambda m: BMF_func(m, z)\n",
    "        for r12 in r12_grid:\n",
    "            xi_auto_21_array.append(antisym_func.xi_auto_21(z, r12, zeta_z_func, HIrho_over_rho0_func, BMF_func_z, M_max, T_vir, mu))\n",
    "        xi_auto_21_func_array.append(interp1d(r12_grid, xi_auto_21_array, kind = 'cubic'))\n",
    "    \n",
    "    #compute the correspondent power spectrum\n",
    "    k_array = kh_array * antisym_func.hlittle\n",
    "    Pk_auto_21_map = []\n",
    "    for ct in range(len(z_array)):\n",
    "        Pk_auto_21_map.append([])\n",
    "        for k in k_array:\n",
    "            Pk_auto_21_map[-1].append(antisym_func.Pk_S(k, xi_auto_21_func_array[ct], min(r12_grid), max(r12_grid)))\n",
    "    print('Pk_auto_21 computation cost %3.3g mins'%((time.time() - tick) / 60))\n",
    "    return Pk_auto_21_map\n",
    "\n",
    "def Pk_auto_CO_computation(z_array, kh_array, T_vir, mu):\n",
    "    tick = time.time()\n",
    "    k_array = kh_array * antisym_func.hlittle\n",
    "    Pk_auto_CO_map = []\n",
    "    for ct in range(len(z_array)):\n",
    "        z = z_array[ct]\n",
    "        Pk_auto_CO_map.append([])\n",
    "        for k in k_array:\n",
    "            Pk_auto_CO_map[-1].append(antisym_func.Pk_auto_CO(z, k, T_vir, mu))\n",
    "    print('Pk_auto_CO computation cost %3.3g mins'%((time.time() - tick) / 60))\n",
    "    return Pk_auto_CO_map\n",
    "\n",
    "def dPkA_dparameter(z_array, kh_array, zeta, T_vir, R_mfp, SMOOTHING_SCALE, PARA_NUM, Delta_parameter, SMOOTHING_Pk, DIR):\n",
    "    if PARA_NUM == 0:\n",
    "        PARA_1 = [zeta - 0.5 * Delta_parameter, T_vir, R_mfp]; PARA_2 = [zeta + 0.5 * Delta_parameter, T_vir, R_mfp]\n",
    "    elif PARA_NUM == 1:\n",
    "        PARA_1 = [zeta, T_vir - 0.5 * Delta_parameter, R_mfp]; PARA_2 = [zeta, T_vir + 0.5 * Delta_parameter, R_mfp]\n",
    "    elif PARA_NUM == 2:\n",
    "        PARA_1 = [zeta, T_vir, R_mfp - 0.5 * Delta_parameter]; PARA_2 = [zeta, T_vir, R_mfp + 0.5 * Delta_parameter]\n",
    "    \n",
    "    tick = time.time()\n",
    "    #read the data of model1 and compute its Pk_A_HICO\n",
    "    zeta_z_func, z_array_history, HI_history, z_dxHdz_history, dxHdz_history, HIrho_over_rho0_interp, \\\n",
    "    BMF_func, xi_A_HICO_unsmoothed_interp = read_model_data(DIR, PARA_1[0], PARA_1[1], PARA_1[2], SMOOTHING_SCALE)\n",
    "    Pk_A_HICO_map_1 = Pk_A_HICO_computation(z_array, kh_array, SMOOTHING_Pk, xi_A_HICO_unsmoothed_interp)\n",
    "    #read the data of model2 and compute its Pk_A_HICO\n",
    "    zeta_z_func, z_array_history, HI_history, z_dxHdz_history, dxHdz_history, HIrho_over_rho0_interp, \\\n",
    "    BMF_func, xi_A_HICO_unsmoothed_interp = read_model_data(DIR, PARA_2[0], PARA_2[1], PARA_2[2], SMOOTHING_SCALE)\n",
    "    Pk_A_HICO_map_2 = Pk_A_HICO_computation(z_array, kh_array, SMOOTHING_Pk, xi_A_HICO_unsmoothed_interp)\n",
    "    \n",
    "    dPkA_dpara_map = []\n",
    "    for z in z_array:\n",
    "        dPkA_dpara_map.append([])\n",
    "        for kh in kh_array:\n",
    "            dPkA_dpara_map[-1].append((Pk_A_HICO_map_2 - Pk_A_HICO_map_1) / (Delta_parameter))\n",
    "    print('dPkA_dPARA of PARA_INDEX %d cost %3.3g mins'%(PARA_NUM, (time.time() - tick) / 60))\n",
    "    return dPkA_dpara_map\n",
    "\n",
    "def error_PkA_HICO_computation(t_total, z_array, kh_array, Pk_auto_CO_map, Pk_auto_21_map, Pk_A_HICO_map, Pk_S_HICO_map):\n",
    "    #parameters of SKA1\n",
    "    Tsys_21 = 400 * 1e6; Tsys_CO = 25 * 1e6 #mK\n",
    "    Omega_beam_21 = 11.79 * (np.pi/180)**2; Omega_beam_CO = 0.011 * (np.pi/180)**2 \n",
    "    B_21 = 23; B_CO = 1.9e3 #MHz\n",
    "    delta_nu_21 = 3.9e-3; delta_nu_CO = 9.7e-3 #MHz\n",
    "    N_feeds = 2\n",
    "    t_int = t_total / len(z_array) #second #for each box\n",
    "    Lmin_21 = 60 #m\n",
    "    \n",
    "    error_auto_CO_map = []; error_auto_21_map = []\n",
    "    error_PkA_HICO_map = []; error_PkS_HICO_map = []\n",
    "    VAR_PkA_map = []\n",
    "    for i in range(len(z_array)):\n",
    "        z = z_array[i]\n",
    "        Omega_survey = 200 * (SMOOTHING_Pk / error_bar.X(z)) ** 2\n",
    "        error_auto_CO_map.append([]); error_auto_21_map.append([])\n",
    "        error_PkA_HICO_map.append([]); error_PkS_HICO_map.append([])\n",
    "        VAR_PkA_map.append([])\n",
    "        for j in range(len(k_array)):\n",
    "            kh = kh_array[j]\n",
    "            delta_kh = kh * ((kh_array[1] / kh_array[0]) ** 0.5 - (kh_array[1] / kh_array[0]) ** -0.5)\n",
    "            error_auto_CO_map[-1].append(error_bar.error_CO_auto(kh, Pk_auto_CO_map[i][j], z, Tsys_CO, delta_kh,\\\n",
    "                                        Omega_survey, Omega_beam_CO, B_CO, delta_nu_CO, N_feeds * 197, t_int))\n",
    "            error_auto_21_map[-1].append(error_bar.error_21_auto(kh, Pk_auto_21_map[i][j], z, Tsys_21, delta_kh,\\\n",
    "                                        Omega_survey, Omega_beam_21, B_21, delta_nu_21, N_feeds, t_int, Lmin_21))\n",
    "            error_PkA_HICO_map[-1].append(error_bar.error_21_CO_cross(kh, Pk_A_HICO_map[i][j], z, delta_kh, Omega_survey, B_21))\n",
    "            error_PkS_HICO_map[-1].append(error_bar.error_21_CO_cross(kh, Pk_S_HICO_map[i][j], z, delta_kh, Omega_survey, B_21))\n",
    "            VAR_PkA_map[-1].append(9/20/np.pi * error_PkA_HICO_map[-1][-1][0] ** 2 + error_auto_21_map[-1][-1][0] * \\\n",
    "                                  error_auto_CO_map[-1][-1][0] - error_PkS_HICO_map[-1][-1][0] ** 2)\n",
    "    return VAR_PkA_map, error_auto_CO_map, error_auto_21_map, error_PkS_HICO_map, error_PkA_HICO_map"
   ]
  },
  {
   "cell_type": "code",
   "execution_count": 386,
   "metadata": {},
   "outputs": [
    {
     "name": "stdout",
     "output_type": "stream",
     "text": [
      "4.792e+12\n"
     ]
    }
   ],
   "source": [
    "reload(error_bar)\n",
    "t_total = 16000 * 3600 \n",
    "print('%4.4g'%error_PkA_HICO_computation(t_total, z_array_observe[:1], kh_array, Pk_auto_CO_map, Pk_auto_21_map, Pk_A_HICO_map, Pk_S_HICO_map)[0][0][3])"
   ]
  },
  {
   "cell_type": "code",
   "execution_count": 387,
   "metadata": {},
   "outputs": [
    {
     "name": "stdout",
     "output_type": "stream",
     "text": [
      "Pk_auto_CO: 15521.09110828329\n",
      "error_auto_CO: (173.27890975167008, 133.48503544469594, 39.793874306974146, 2585903.9740088372)\n"
     ]
    }
   ],
   "source": [
    "print('Pk_auto_CO:', Pk_auto_CO_map[0][3])\n",
    "print('error_auto_CO:', error_PkA_HICO_computation(t_total, z_array_observe[:1], kh_array, Pk_auto_CO_map, Pk_auto_21_map, Pk_A_HICO_map, Pk_S_HICO_map)[1][0][3])"
   ]
  },
  {
   "cell_type": "code",
   "execution_count": 369,
   "metadata": {},
   "outputs": [
    {
     "name": "stdout",
     "output_type": "stream",
     "text": [
      "Pk_auto_21: 5.957e+12\n",
      "error_auto_21: (12563807512.157347, 51053162.114657864, 12512130143.812933, 226649.0946333644)\n"
     ]
    }
   ],
   "source": [
    "print('Pk_auto_21: %4.4g'%Pk_auto_21_map[0][3])\n",
    "print('error_auto_21:', error_PkA_HICO_computation(t_total, z_array_observe[:1], kh_array, Pk_auto_CO_map, Pk_auto_21_map, Pk_A_HICO_map, Pk_S_HICO_map)[2][0][3])"
   ]
  },
  {
   "cell_type": "code",
   "execution_count": 350,
   "metadata": {},
   "outputs": [
    {
     "data": {
      "text/plain": [
       "5.89511427411993e-05"
      ]
     },
     "execution_count": 350,
     "metadata": {},
     "output_type": "execute_result"
    }
   ],
   "source": []
  },
  {
   "cell_type": "code",
   "execution_count": 256,
   "metadata": {},
   "outputs": [
    {
     "data": {
      "text/plain": [
       "'-1.0973e+06'"
      ]
     },
     "execution_count": 256,
     "metadata": {},
     "output_type": "execute_result"
    }
   ],
   "source": [
    "'%5.5g'%error_PkA_HICO_computation(t_total, z_array_observe[:1], kh_array, Pk_auto_CO_map, Pk_auto_21_map, Pk_A_HICO_map, Pk_S_HICO_map)[3][0][3]"
   ]
  },
  {
   "cell_type": "code",
   "execution_count": 257,
   "metadata": {},
   "outputs": [
    {
     "data": {
      "text/plain": [
       "'31113'"
      ]
     },
     "execution_count": 257,
     "metadata": {},
     "output_type": "execute_result"
    }
   ],
   "source": [
    "'%5.5g'%error_PkA_HICO_computation(t_total, z_array_observe[:1], kh_array, Pk_auto_CO_map, Pk_auto_21_map, Pk_A_HICO_map, Pk_S_HICO_map)[4][0][3]"
   ]
  },
  {
   "cell_type": "code",
   "execution_count": 132,
   "metadata": {},
   "outputs": [
    {
     "name": "stdout",
     "output_type": "stream",
     "text": [
      "para depth: 259.75343170206474 264.41323400770534\n",
      "Pk_A_HICO computation cost 1.16 mins\n"
     ]
    },
    {
     "ename": "KeyboardInterrupt",
     "evalue": "",
     "output_type": "error",
     "traceback": [
      "\u001b[0;31m---------------------------------------------------------------------------\u001b[0m",
      "\u001b[0;31mKeyboardInterrupt\u001b[0m                         Traceback (most recent call last)",
      "\u001b[0;32m<ipython-input-132-ad774ee5f094>\u001b[0m in \u001b[0;36m<module>\u001b[0;34m\u001b[0m\n\u001b[1;32m     36\u001b[0m \u001b[0;34m\u001b[0m\u001b[0m\n\u001b[1;32m     37\u001b[0m \u001b[0;31m#compute the dPkA_dpara\u001b[0m\u001b[0;34m\u001b[0m\u001b[0;34m\u001b[0m\u001b[0;34m\u001b[0m\u001b[0m\n\u001b[0;32m---> 38\u001b[0;31m \u001b[0mdPkA_dzeta_map\u001b[0m \u001b[0;34m=\u001b[0m \u001b[0mdPkA_dparameter\u001b[0m\u001b[0;34m(\u001b[0m\u001b[0mz_array_observe\u001b[0m\u001b[0;34m,\u001b[0m \u001b[0mkh_array\u001b[0m\u001b[0;34m,\u001b[0m \u001b[0mzeta\u001b[0m\u001b[0;34m,\u001b[0m \u001b[0mT_vir\u001b[0m\u001b[0;34m,\u001b[0m \u001b[0mR_mfp\u001b[0m\u001b[0;34m,\u001b[0m \u001b[0mSMOOTHING_SCALE\u001b[0m\u001b[0;34m,\u001b[0m \u001b[0;36m0\u001b[0m\u001b[0;34m,\u001b[0m \u001b[0;36m2\u001b[0m\u001b[0;34m,\u001b[0m \u001b[0mSMOOTHING_Pk\u001b[0m\u001b[0;34m,\u001b[0m \u001b[0mDIR\u001b[0m\u001b[0;34m)\u001b[0m\u001b[0;34m\u001b[0m\u001b[0;34m\u001b[0m\u001b[0m\n\u001b[0m\u001b[1;32m     39\u001b[0m \u001b[0mdPkA_dTvir_map\u001b[0m \u001b[0;34m=\u001b[0m \u001b[0mdPkA_dparameter\u001b[0m\u001b[0;34m(\u001b[0m\u001b[0mz_array_observe\u001b[0m\u001b[0;34m,\u001b[0m \u001b[0mkh_array\u001b[0m\u001b[0;34m,\u001b[0m \u001b[0mzeta\u001b[0m\u001b[0;34m,\u001b[0m \u001b[0mT_vir\u001b[0m\u001b[0;34m,\u001b[0m \u001b[0mR_mfp\u001b[0m\u001b[0;34m,\u001b[0m \u001b[0mSMOOTHING_SCALE\u001b[0m\u001b[0;34m,\u001b[0m \u001b[0;36m1\u001b[0m\u001b[0;34m,\u001b[0m \u001b[0;36m0.2e4\u001b[0m\u001b[0;34m,\u001b[0m \u001b[0mSMOOTHING_Pk\u001b[0m\u001b[0;34m,\u001b[0m \u001b[0mDIR\u001b[0m\u001b[0;34m)\u001b[0m\u001b[0;34m\u001b[0m\u001b[0;34m\u001b[0m\u001b[0m\n\u001b[1;32m     40\u001b[0m \u001b[0mdPkA_dRmfp_map\u001b[0m \u001b[0;34m=\u001b[0m \u001b[0mdPkA_dparameter\u001b[0m\u001b[0;34m(\u001b[0m\u001b[0mz_array_observe\u001b[0m\u001b[0;34m,\u001b[0m \u001b[0mkh_array\u001b[0m\u001b[0;34m,\u001b[0m \u001b[0mzeta\u001b[0m\u001b[0;34m,\u001b[0m \u001b[0mT_vir\u001b[0m\u001b[0;34m,\u001b[0m \u001b[0mR_mfp\u001b[0m\u001b[0;34m,\u001b[0m \u001b[0mSMOOTHING_SCALE\u001b[0m\u001b[0;34m,\u001b[0m \u001b[0;36m2\u001b[0m\u001b[0;34m,\u001b[0m \u001b[0;36m2\u001b[0m\u001b[0;34m,\u001b[0m \u001b[0mSMOOTHING_Pk\u001b[0m\u001b[0;34m,\u001b[0m \u001b[0mDIR\u001b[0m\u001b[0;34m)\u001b[0m\u001b[0;34m\u001b[0m\u001b[0;34m\u001b[0m\u001b[0m\n",
      "\u001b[0;32m<ipython-input-131-1c978cde0be1>\u001b[0m in \u001b[0;36mdPkA_dparameter\u001b[0;34m(z_array, kh_array, zeta, T_vir, R_mfp, SMOOTHING_SCALE, PARA_NUM, Delta_parameter, SMOOTHING_Pk, DIR)\u001b[0m\n\u001b[1;32m    149\u001b[0m     \u001b[0mzeta_z_func\u001b[0m\u001b[0;34m,\u001b[0m \u001b[0mz_array_history\u001b[0m\u001b[0;34m,\u001b[0m \u001b[0mHI_history\u001b[0m\u001b[0;34m,\u001b[0m \u001b[0mz_dxHdz_history\u001b[0m\u001b[0;34m,\u001b[0m \u001b[0mdxHdz_history\u001b[0m\u001b[0;34m,\u001b[0m \u001b[0mHIrho_over_rho0_interp\u001b[0m\u001b[0;34m,\u001b[0m\u001b[0;31m \u001b[0m\u001b[0;31m\\\u001b[0m\u001b[0;34m\u001b[0m\u001b[0;34m\u001b[0m\u001b[0m\n\u001b[1;32m    150\u001b[0m     \u001b[0mBMF_func\u001b[0m\u001b[0;34m,\u001b[0m \u001b[0mxi_A_HICO_unsmoothed_interp\u001b[0m \u001b[0;34m=\u001b[0m \u001b[0mread_model_data\u001b[0m\u001b[0;34m(\u001b[0m\u001b[0mDIR\u001b[0m\u001b[0;34m,\u001b[0m \u001b[0mPARA_2\u001b[0m\u001b[0;34m[\u001b[0m\u001b[0;36m0\u001b[0m\u001b[0;34m]\u001b[0m\u001b[0;34m,\u001b[0m \u001b[0mPARA_2\u001b[0m\u001b[0;34m[\u001b[0m\u001b[0;36m1\u001b[0m\u001b[0;34m]\u001b[0m\u001b[0;34m,\u001b[0m \u001b[0mPARA_2\u001b[0m\u001b[0;34m[\u001b[0m\u001b[0;36m2\u001b[0m\u001b[0;34m]\u001b[0m\u001b[0;34m,\u001b[0m \u001b[0mSMOOTHING_SCALE\u001b[0m\u001b[0;34m)\u001b[0m\u001b[0;34m\u001b[0m\u001b[0;34m\u001b[0m\u001b[0m\n\u001b[0;32m--> 151\u001b[0;31m     \u001b[0mPk_A_HICO_map_2\u001b[0m \u001b[0;34m=\u001b[0m \u001b[0mPk_A_HICO_computation\u001b[0m\u001b[0;34m(\u001b[0m\u001b[0mz_array\u001b[0m\u001b[0;34m,\u001b[0m \u001b[0mkh_array\u001b[0m\u001b[0;34m,\u001b[0m \u001b[0mSMOOTHING_Pk\u001b[0m\u001b[0;34m,\u001b[0m \u001b[0mxi_A_HICO_unsmoothed_interp\u001b[0m\u001b[0;34m)\u001b[0m\u001b[0;34m\u001b[0m\u001b[0;34m\u001b[0m\u001b[0m\n\u001b[0m\u001b[1;32m    152\u001b[0m \u001b[0;34m\u001b[0m\u001b[0m\n\u001b[1;32m    153\u001b[0m     \u001b[0mdPkA_dpara_map\u001b[0m \u001b[0;34m=\u001b[0m \u001b[0;34m[\u001b[0m\u001b[0;34m]\u001b[0m\u001b[0;34m\u001b[0m\u001b[0;34m\u001b[0m\u001b[0m\n",
      "\u001b[0;32m<ipython-input-131-1c978cde0be1>\u001b[0m in \u001b[0;36mPk_A_HICO_computation\u001b[0;34m(z_array, kh_array, SMOOTHING_Pk, xi_A_HICO_unsmoothed_interp)\u001b[0m\n\u001b[1;32m     68\u001b[0m         \u001b[0mPk_A_map\u001b[0m\u001b[0;34m.\u001b[0m\u001b[0mappend\u001b[0m\u001b[0;34m(\u001b[0m\u001b[0;34m[\u001b[0m\u001b[0;34m]\u001b[0m\u001b[0;34m)\u001b[0m\u001b[0;34m\u001b[0m\u001b[0;34m\u001b[0m\u001b[0m\n\u001b[1;32m     69\u001b[0m         \u001b[0;32mfor\u001b[0m \u001b[0mk\u001b[0m \u001b[0;32min\u001b[0m \u001b[0mk_array\u001b[0m\u001b[0;34m:\u001b[0m\u001b[0;34m\u001b[0m\u001b[0;34m\u001b[0m\u001b[0m\n\u001b[0;32m---> 70\u001b[0;31m             \u001b[0mPk_A_map\u001b[0m\u001b[0;34m[\u001b[0m\u001b[0;34m-\u001b[0m\u001b[0;36m1\u001b[0m\u001b[0;34m]\u001b[0m\u001b[0;34m.\u001b[0m\u001b[0mappend\u001b[0m\u001b[0;34m(\u001b[0m\u001b[0mantisym_func\u001b[0m\u001b[0;34m.\u001b[0m\u001b[0mPk_A_cal\u001b[0m\u001b[0;34m(\u001b[0m\u001b[0mk\u001b[0m\u001b[0;34m,\u001b[0m \u001b[0mxi_A_HICO_smoothed_func_array\u001b[0m\u001b[0;34m[\u001b[0m\u001b[0mct\u001b[0m\u001b[0;34m]\u001b[0m\u001b[0;34m,\u001b[0m \u001b[0mmin\u001b[0m\u001b[0;34m(\u001b[0m\u001b[0mr12_smoothed_grid\u001b[0m\u001b[0;34m)\u001b[0m\u001b[0;34m,\u001b[0m \u001b[0mmax\u001b[0m\u001b[0;34m(\u001b[0m\u001b[0mr12_smoothed_grid\u001b[0m\u001b[0;34m)\u001b[0m\u001b[0;34m)\u001b[0m\u001b[0;34m)\u001b[0m\u001b[0;34m\u001b[0m\u001b[0;34m\u001b[0m\u001b[0m\n\u001b[0m\u001b[1;32m     71\u001b[0m     \u001b[0mprint\u001b[0m\u001b[0;34m(\u001b[0m\u001b[0;34m'Pk_A_HICO computation cost %3.3g mins'\u001b[0m\u001b[0;34m%\u001b[0m\u001b[0;34m(\u001b[0m\u001b[0;34m(\u001b[0m\u001b[0mtime\u001b[0m\u001b[0;34m.\u001b[0m\u001b[0mtime\u001b[0m\u001b[0;34m(\u001b[0m\u001b[0;34m)\u001b[0m \u001b[0;34m-\u001b[0m \u001b[0mtick\u001b[0m\u001b[0;34m)\u001b[0m \u001b[0;34m/\u001b[0m \u001b[0;36m60\u001b[0m\u001b[0;34m)\u001b[0m\u001b[0;34m)\u001b[0m\u001b[0;34m\u001b[0m\u001b[0;34m\u001b[0m\u001b[0m\n\u001b[1;32m     72\u001b[0m     \u001b[0;32mreturn\u001b[0m \u001b[0mPk_A_map\u001b[0m \u001b[0;31m#[z_array][kh_array] #in muK^2 h^-3 Mpc^3\u001b[0m\u001b[0;34m\u001b[0m\u001b[0;34m\u001b[0m\u001b[0m\n",
      "\u001b[0;32m~/Desktop/Today/antisym_observability/pycode/antisym_func.py\u001b[0m in \u001b[0;36mPk_A_cal\u001b[0;34m(k, xi_A_HICO_func1d, lower_limit, upper_limit)\u001b[0m\n\u001b[1;32m    666\u001b[0m         \u001b[0mintegrand\u001b[0m \u001b[0;34m=\u001b[0m \u001b[0mxi_A_HICO_func1d\u001b[0m\u001b[0;34m(\u001b[0m\u001b[0mr\u001b[0m\u001b[0;34m)\u001b[0m \u001b[0;34m*\u001b[0m \u001b[0mnp\u001b[0m\u001b[0;34m.\u001b[0m\u001b[0mcos\u001b[0m\u001b[0;34m(\u001b[0m\u001b[0mtheta\u001b[0m\u001b[0;34m)\u001b[0m \u001b[0;34m*\u001b[0m \u001b[0;34m(\u001b[0m\u001b[0mr\u001b[0m \u001b[0;34m**\u001b[0m \u001b[0;36m2\u001b[0m\u001b[0;34m)\u001b[0m \u001b[0;34m*\u001b[0m \u001b[0mnp\u001b[0m\u001b[0;34m.\u001b[0m\u001b[0msin\u001b[0m\u001b[0;34m(\u001b[0m\u001b[0mtheta\u001b[0m\u001b[0;34m)\u001b[0m \u001b[0;34m*\u001b[0m \u001b[0mnp\u001b[0m\u001b[0;34m.\u001b[0m\u001b[0msin\u001b[0m\u001b[0;34m(\u001b[0m\u001b[0mk\u001b[0m \u001b[0;34m*\u001b[0m \u001b[0mr\u001b[0m \u001b[0;34m*\u001b[0m \u001b[0mnp\u001b[0m\u001b[0;34m.\u001b[0m\u001b[0mcos\u001b[0m\u001b[0;34m(\u001b[0m\u001b[0mtheta\u001b[0m\u001b[0;34m)\u001b[0m\u001b[0;34m)\u001b[0m\u001b[0;34m\u001b[0m\u001b[0;34m\u001b[0m\u001b[0m\n\u001b[1;32m    667\u001b[0m         \u001b[0;32mreturn\u001b[0m \u001b[0mintegrand\u001b[0m\u001b[0;34m;\u001b[0m\u001b[0;34m\u001b[0m\u001b[0;34m\u001b[0m\u001b[0m\n\u001b[0;32m--> 668\u001b[0;31m     \u001b[0mresult\u001b[0m \u001b[0;34m=\u001b[0m \u001b[0mhlittle\u001b[0m\u001b[0;34m**\u001b[0m\u001b[0;36m3\u001b[0m \u001b[0;34m*\u001b[0m \u001b[0;34m(\u001b[0m\u001b[0;36m4\u001b[0m \u001b[0;34m*\u001b[0m \u001b[0mnp\u001b[0m\u001b[0;34m.\u001b[0m\u001b[0mpi\u001b[0m\u001b[0;34m)\u001b[0m \u001b[0;34m*\u001b[0m \u001b[0mintegrate\u001b[0m\u001b[0;34m.\u001b[0m\u001b[0mdblquad\u001b[0m\u001b[0;34m(\u001b[0m\u001b[0mintegrand\u001b[0m\u001b[0;34m,\u001b[0m \u001b[0;36m0\u001b[0m\u001b[0;34m,\u001b[0m \u001b[0mnp\u001b[0m\u001b[0;34m.\u001b[0m\u001b[0mpi\u001b[0m \u001b[0;34m/\u001b[0m \u001b[0;36m2\u001b[0m\u001b[0;34m,\u001b[0m \u001b[0mlower_limit\u001b[0m\u001b[0;34m,\u001b[0m \u001b[0mupper_limit\u001b[0m\u001b[0;34m,\u001b[0m \u001b[0mepsrel\u001b[0m \u001b[0;34m=\u001b[0m \u001b[0;36m1e-3\u001b[0m\u001b[0;34m)\u001b[0m\u001b[0;34m[\u001b[0m\u001b[0;36m0\u001b[0m\u001b[0;34m]\u001b[0m\u001b[0;34m\u001b[0m\u001b[0;34m\u001b[0m\u001b[0m\n\u001b[0m\u001b[1;32m    669\u001b[0m     \u001b[0mresult\u001b[0m \u001b[0;34m/=\u001b[0m \u001b[0mY10\u001b[0m\u001b[0;34m\u001b[0m\u001b[0;34m\u001b[0m\u001b[0m\n\u001b[1;32m    670\u001b[0m     \u001b[0mtick2\u001b[0m \u001b[0;34m=\u001b[0m \u001b[0mtime\u001b[0m\u001b[0;34m.\u001b[0m\u001b[0mtime\u001b[0m\u001b[0;34m(\u001b[0m\u001b[0;34m)\u001b[0m\u001b[0;34m\u001b[0m\u001b[0;34m\u001b[0m\u001b[0m\n",
      "\u001b[0;32m~/opt/anaconda3/lib/python3.8/site-packages/scipy/integrate/quadpack.py\u001b[0m in \u001b[0;36mdblquad\u001b[0;34m(func, a, b, gfun, hfun, args, epsabs, epsrel)\u001b[0m\n\u001b[1;32m    599\u001b[0m                 hfun(args[0]) if callable(hfun) else hfun]\n\u001b[1;32m    600\u001b[0m \u001b[0;34m\u001b[0m\u001b[0m\n\u001b[0;32m--> 601\u001b[0;31m     return nquad(func, [temp_ranges, [a, b]], args=args,\n\u001b[0m\u001b[1;32m    602\u001b[0m             opts={\"epsabs\": epsabs, \"epsrel\": epsrel})\n\u001b[1;32m    603\u001b[0m \u001b[0;34m\u001b[0m\u001b[0m\n",
      "\u001b[0;32m~/opt/anaconda3/lib/python3.8/site-packages/scipy/integrate/quadpack.py\u001b[0m in \u001b[0;36mnquad\u001b[0;34m(func, ranges, args, opts, full_output)\u001b[0m\n\u001b[1;32m    824\u001b[0m     \u001b[0;32melse\u001b[0m\u001b[0;34m:\u001b[0m\u001b[0;34m\u001b[0m\u001b[0;34m\u001b[0m\u001b[0m\n\u001b[1;32m    825\u001b[0m         \u001b[0mopts\u001b[0m \u001b[0;34m=\u001b[0m \u001b[0;34m[\u001b[0m\u001b[0mopt\u001b[0m \u001b[0;32mif\u001b[0m \u001b[0mcallable\u001b[0m\u001b[0;34m(\u001b[0m\u001b[0mopt\u001b[0m\u001b[0;34m)\u001b[0m \u001b[0;32melse\u001b[0m \u001b[0m_OptFunc\u001b[0m\u001b[0;34m(\u001b[0m\u001b[0mopt\u001b[0m\u001b[0;34m)\u001b[0m \u001b[0;32mfor\u001b[0m \u001b[0mopt\u001b[0m \u001b[0;32min\u001b[0m \u001b[0mopts\u001b[0m\u001b[0;34m]\u001b[0m\u001b[0;34m\u001b[0m\u001b[0;34m\u001b[0m\u001b[0m\n\u001b[0;32m--> 826\u001b[0;31m     \u001b[0;32mreturn\u001b[0m \u001b[0m_NQuad\u001b[0m\u001b[0;34m(\u001b[0m\u001b[0mfunc\u001b[0m\u001b[0;34m,\u001b[0m \u001b[0mranges\u001b[0m\u001b[0;34m,\u001b[0m \u001b[0mopts\u001b[0m\u001b[0;34m,\u001b[0m \u001b[0mfull_output\u001b[0m\u001b[0;34m)\u001b[0m\u001b[0;34m.\u001b[0m\u001b[0mintegrate\u001b[0m\u001b[0;34m(\u001b[0m\u001b[0;34m*\u001b[0m\u001b[0margs\u001b[0m\u001b[0;34m)\u001b[0m\u001b[0;34m\u001b[0m\u001b[0;34m\u001b[0m\u001b[0m\n\u001b[0m\u001b[1;32m    827\u001b[0m \u001b[0;34m\u001b[0m\u001b[0m\n\u001b[1;32m    828\u001b[0m \u001b[0;34m\u001b[0m\u001b[0m\n",
      "\u001b[0;32m~/opt/anaconda3/lib/python3.8/site-packages/scipy/integrate/quadpack.py\u001b[0m in \u001b[0;36mintegrate\u001b[0;34m(self, *args, **kwargs)\u001b[0m\n\u001b[1;32m    878\u001b[0m         \u001b[0;32melse\u001b[0m\u001b[0;34m:\u001b[0m\u001b[0;34m\u001b[0m\u001b[0;34m\u001b[0m\u001b[0m\n\u001b[1;32m    879\u001b[0m             \u001b[0mf\u001b[0m \u001b[0;34m=\u001b[0m \u001b[0mpartial\u001b[0m\u001b[0;34m(\u001b[0m\u001b[0mself\u001b[0m\u001b[0;34m.\u001b[0m\u001b[0mintegrate\u001b[0m\u001b[0;34m,\u001b[0m \u001b[0mdepth\u001b[0m\u001b[0;34m=\u001b[0m\u001b[0mdepth\u001b[0m\u001b[0;34m+\u001b[0m\u001b[0;36m1\u001b[0m\u001b[0;34m)\u001b[0m\u001b[0;34m\u001b[0m\u001b[0;34m\u001b[0m\u001b[0m\n\u001b[0;32m--> 880\u001b[0;31m         quad_r = quad(f, low, high, args=args, full_output=self.full_output,\n\u001b[0m\u001b[1;32m    881\u001b[0m                       **opt)\n\u001b[1;32m    882\u001b[0m         \u001b[0mvalue\u001b[0m \u001b[0;34m=\u001b[0m \u001b[0mquad_r\u001b[0m\u001b[0;34m[\u001b[0m\u001b[0;36m0\u001b[0m\u001b[0;34m]\u001b[0m\u001b[0;34m\u001b[0m\u001b[0;34m\u001b[0m\u001b[0m\n",
      "\u001b[0;32m~/opt/anaconda3/lib/python3.8/site-packages/scipy/integrate/quadpack.py\u001b[0m in \u001b[0;36mquad\u001b[0;34m(func, a, b, args, full_output, epsabs, epsrel, limit, points, weight, wvar, wopts, maxp1, limlst)\u001b[0m\n\u001b[1;32m    349\u001b[0m \u001b[0;34m\u001b[0m\u001b[0m\n\u001b[1;32m    350\u001b[0m     \u001b[0;32mif\u001b[0m \u001b[0mweight\u001b[0m \u001b[0;32mis\u001b[0m \u001b[0;32mNone\u001b[0m\u001b[0;34m:\u001b[0m\u001b[0;34m\u001b[0m\u001b[0;34m\u001b[0m\u001b[0m\n\u001b[0;32m--> 351\u001b[0;31m         retval = _quad(func, a, b, args, full_output, epsabs, epsrel, limit,\n\u001b[0m\u001b[1;32m    352\u001b[0m                        points)\n\u001b[1;32m    353\u001b[0m     \u001b[0;32melse\u001b[0m\u001b[0;34m:\u001b[0m\u001b[0;34m\u001b[0m\u001b[0;34m\u001b[0m\u001b[0m\n",
      "\u001b[0;32m~/opt/anaconda3/lib/python3.8/site-packages/scipy/integrate/quadpack.py\u001b[0m in \u001b[0;36m_quad\u001b[0;34m(func, a, b, args, full_output, epsabs, epsrel, limit, points)\u001b[0m\n\u001b[1;32m    461\u001b[0m     \u001b[0;32mif\u001b[0m \u001b[0mpoints\u001b[0m \u001b[0;32mis\u001b[0m \u001b[0;32mNone\u001b[0m\u001b[0;34m:\u001b[0m\u001b[0;34m\u001b[0m\u001b[0;34m\u001b[0m\u001b[0m\n\u001b[1;32m    462\u001b[0m         \u001b[0;32mif\u001b[0m \u001b[0minfbounds\u001b[0m \u001b[0;34m==\u001b[0m \u001b[0;36m0\u001b[0m\u001b[0;34m:\u001b[0m\u001b[0;34m\u001b[0m\u001b[0;34m\u001b[0m\u001b[0m\n\u001b[0;32m--> 463\u001b[0;31m             \u001b[0;32mreturn\u001b[0m \u001b[0m_quadpack\u001b[0m\u001b[0;34m.\u001b[0m\u001b[0m_qagse\u001b[0m\u001b[0;34m(\u001b[0m\u001b[0mfunc\u001b[0m\u001b[0;34m,\u001b[0m\u001b[0ma\u001b[0m\u001b[0;34m,\u001b[0m\u001b[0mb\u001b[0m\u001b[0;34m,\u001b[0m\u001b[0margs\u001b[0m\u001b[0;34m,\u001b[0m\u001b[0mfull_output\u001b[0m\u001b[0;34m,\u001b[0m\u001b[0mepsabs\u001b[0m\u001b[0;34m,\u001b[0m\u001b[0mepsrel\u001b[0m\u001b[0;34m,\u001b[0m\u001b[0mlimit\u001b[0m\u001b[0;34m)\u001b[0m\u001b[0;34m\u001b[0m\u001b[0;34m\u001b[0m\u001b[0m\n\u001b[0m\u001b[1;32m    464\u001b[0m         \u001b[0;32melse\u001b[0m\u001b[0;34m:\u001b[0m\u001b[0;34m\u001b[0m\u001b[0;34m\u001b[0m\u001b[0m\n\u001b[1;32m    465\u001b[0m             \u001b[0;32mreturn\u001b[0m \u001b[0m_quadpack\u001b[0m\u001b[0;34m.\u001b[0m\u001b[0m_qagie\u001b[0m\u001b[0;34m(\u001b[0m\u001b[0mfunc\u001b[0m\u001b[0;34m,\u001b[0m\u001b[0mbound\u001b[0m\u001b[0;34m,\u001b[0m\u001b[0minfbounds\u001b[0m\u001b[0;34m,\u001b[0m\u001b[0margs\u001b[0m\u001b[0;34m,\u001b[0m\u001b[0mfull_output\u001b[0m\u001b[0;34m,\u001b[0m\u001b[0mepsabs\u001b[0m\u001b[0;34m,\u001b[0m\u001b[0mepsrel\u001b[0m\u001b[0;34m,\u001b[0m\u001b[0mlimit\u001b[0m\u001b[0;34m)\u001b[0m\u001b[0;34m\u001b[0m\u001b[0;34m\u001b[0m\u001b[0m\n",
      "\u001b[0;32m~/opt/anaconda3/lib/python3.8/site-packages/scipy/integrate/quadpack.py\u001b[0m in \u001b[0;36mintegrate\u001b[0;34m(self, *args, **kwargs)\u001b[0m\n\u001b[1;32m    878\u001b[0m         \u001b[0;32melse\u001b[0m\u001b[0;34m:\u001b[0m\u001b[0;34m\u001b[0m\u001b[0;34m\u001b[0m\u001b[0m\n\u001b[1;32m    879\u001b[0m             \u001b[0mf\u001b[0m \u001b[0;34m=\u001b[0m \u001b[0mpartial\u001b[0m\u001b[0;34m(\u001b[0m\u001b[0mself\u001b[0m\u001b[0;34m.\u001b[0m\u001b[0mintegrate\u001b[0m\u001b[0;34m,\u001b[0m \u001b[0mdepth\u001b[0m\u001b[0;34m=\u001b[0m\u001b[0mdepth\u001b[0m\u001b[0;34m+\u001b[0m\u001b[0;36m1\u001b[0m\u001b[0;34m)\u001b[0m\u001b[0;34m\u001b[0m\u001b[0;34m\u001b[0m\u001b[0m\n\u001b[0;32m--> 880\u001b[0;31m         quad_r = quad(f, low, high, args=args, full_output=self.full_output,\n\u001b[0m\u001b[1;32m    881\u001b[0m                       **opt)\n\u001b[1;32m    882\u001b[0m         \u001b[0mvalue\u001b[0m \u001b[0;34m=\u001b[0m \u001b[0mquad_r\u001b[0m\u001b[0;34m[\u001b[0m\u001b[0;36m0\u001b[0m\u001b[0;34m]\u001b[0m\u001b[0;34m\u001b[0m\u001b[0;34m\u001b[0m\u001b[0m\n",
      "\u001b[0;32m~/opt/anaconda3/lib/python3.8/site-packages/scipy/integrate/quadpack.py\u001b[0m in \u001b[0;36mquad\u001b[0;34m(func, a, b, args, full_output, epsabs, epsrel, limit, points, weight, wvar, wopts, maxp1, limlst)\u001b[0m\n\u001b[1;32m    349\u001b[0m \u001b[0;34m\u001b[0m\u001b[0m\n\u001b[1;32m    350\u001b[0m     \u001b[0;32mif\u001b[0m \u001b[0mweight\u001b[0m \u001b[0;32mis\u001b[0m \u001b[0;32mNone\u001b[0m\u001b[0;34m:\u001b[0m\u001b[0;34m\u001b[0m\u001b[0;34m\u001b[0m\u001b[0m\n\u001b[0;32m--> 351\u001b[0;31m         retval = _quad(func, a, b, args, full_output, epsabs, epsrel, limit,\n\u001b[0m\u001b[1;32m    352\u001b[0m                        points)\n\u001b[1;32m    353\u001b[0m     \u001b[0;32melse\u001b[0m\u001b[0;34m:\u001b[0m\u001b[0;34m\u001b[0m\u001b[0;34m\u001b[0m\u001b[0m\n",
      "\u001b[0;32m~/opt/anaconda3/lib/python3.8/site-packages/scipy/integrate/quadpack.py\u001b[0m in \u001b[0;36m_quad\u001b[0;34m(func, a, b, args, full_output, epsabs, epsrel, limit, points)\u001b[0m\n\u001b[1;32m    461\u001b[0m     \u001b[0;32mif\u001b[0m \u001b[0mpoints\u001b[0m \u001b[0;32mis\u001b[0m \u001b[0;32mNone\u001b[0m\u001b[0;34m:\u001b[0m\u001b[0;34m\u001b[0m\u001b[0;34m\u001b[0m\u001b[0m\n\u001b[1;32m    462\u001b[0m         \u001b[0;32mif\u001b[0m \u001b[0minfbounds\u001b[0m \u001b[0;34m==\u001b[0m \u001b[0;36m0\u001b[0m\u001b[0;34m:\u001b[0m\u001b[0;34m\u001b[0m\u001b[0;34m\u001b[0m\u001b[0m\n\u001b[0;32m--> 463\u001b[0;31m             \u001b[0;32mreturn\u001b[0m \u001b[0m_quadpack\u001b[0m\u001b[0;34m.\u001b[0m\u001b[0m_qagse\u001b[0m\u001b[0;34m(\u001b[0m\u001b[0mfunc\u001b[0m\u001b[0;34m,\u001b[0m\u001b[0ma\u001b[0m\u001b[0;34m,\u001b[0m\u001b[0mb\u001b[0m\u001b[0;34m,\u001b[0m\u001b[0margs\u001b[0m\u001b[0;34m,\u001b[0m\u001b[0mfull_output\u001b[0m\u001b[0;34m,\u001b[0m\u001b[0mepsabs\u001b[0m\u001b[0;34m,\u001b[0m\u001b[0mepsrel\u001b[0m\u001b[0;34m,\u001b[0m\u001b[0mlimit\u001b[0m\u001b[0;34m)\u001b[0m\u001b[0;34m\u001b[0m\u001b[0;34m\u001b[0m\u001b[0m\n\u001b[0m\u001b[1;32m    464\u001b[0m         \u001b[0;32melse\u001b[0m\u001b[0;34m:\u001b[0m\u001b[0;34m\u001b[0m\u001b[0;34m\u001b[0m\u001b[0m\n\u001b[1;32m    465\u001b[0m             \u001b[0;32mreturn\u001b[0m \u001b[0m_quadpack\u001b[0m\u001b[0;34m.\u001b[0m\u001b[0m_qagie\u001b[0m\u001b[0;34m(\u001b[0m\u001b[0mfunc\u001b[0m\u001b[0;34m,\u001b[0m\u001b[0mbound\u001b[0m\u001b[0;34m,\u001b[0m\u001b[0minfbounds\u001b[0m\u001b[0;34m,\u001b[0m\u001b[0margs\u001b[0m\u001b[0;34m,\u001b[0m\u001b[0mfull_output\u001b[0m\u001b[0;34m,\u001b[0m\u001b[0mepsabs\u001b[0m\u001b[0;34m,\u001b[0m\u001b[0mepsrel\u001b[0m\u001b[0;34m,\u001b[0m\u001b[0mlimit\u001b[0m\u001b[0;34m)\u001b[0m\u001b[0;34m\u001b[0m\u001b[0;34m\u001b[0m\u001b[0m\n",
      "\u001b[0;32m~/Desktop/Today/antisym_observability/pycode/antisym_func.py\u001b[0m in \u001b[0;36mintegrand\u001b[0;34m(r, theta)\u001b[0m\n\u001b[1;32m    664\u001b[0m     \u001b[0mtick1\u001b[0m \u001b[0;34m=\u001b[0m \u001b[0mtime\u001b[0m\u001b[0;34m.\u001b[0m\u001b[0mtime\u001b[0m\u001b[0;34m(\u001b[0m\u001b[0;34m)\u001b[0m\u001b[0;34m\u001b[0m\u001b[0;34m\u001b[0m\u001b[0m\n\u001b[1;32m    665\u001b[0m     \u001b[0;32mdef\u001b[0m \u001b[0mintegrand\u001b[0m\u001b[0;34m(\u001b[0m\u001b[0mr\u001b[0m\u001b[0;34m,\u001b[0m\u001b[0mtheta\u001b[0m\u001b[0;34m)\u001b[0m\u001b[0;34m:\u001b[0m\u001b[0;34m\u001b[0m\u001b[0;34m\u001b[0m\u001b[0m\n\u001b[0;32m--> 666\u001b[0;31m         \u001b[0mintegrand\u001b[0m \u001b[0;34m=\u001b[0m \u001b[0mxi_A_HICO_func1d\u001b[0m\u001b[0;34m(\u001b[0m\u001b[0mr\u001b[0m\u001b[0;34m)\u001b[0m \u001b[0;34m*\u001b[0m \u001b[0mnp\u001b[0m\u001b[0;34m.\u001b[0m\u001b[0mcos\u001b[0m\u001b[0;34m(\u001b[0m\u001b[0mtheta\u001b[0m\u001b[0;34m)\u001b[0m \u001b[0;34m*\u001b[0m \u001b[0;34m(\u001b[0m\u001b[0mr\u001b[0m \u001b[0;34m**\u001b[0m \u001b[0;36m2\u001b[0m\u001b[0;34m)\u001b[0m \u001b[0;34m*\u001b[0m \u001b[0mnp\u001b[0m\u001b[0;34m.\u001b[0m\u001b[0msin\u001b[0m\u001b[0;34m(\u001b[0m\u001b[0mtheta\u001b[0m\u001b[0;34m)\u001b[0m \u001b[0;34m*\u001b[0m \u001b[0mnp\u001b[0m\u001b[0;34m.\u001b[0m\u001b[0msin\u001b[0m\u001b[0;34m(\u001b[0m\u001b[0mk\u001b[0m \u001b[0;34m*\u001b[0m \u001b[0mr\u001b[0m \u001b[0;34m*\u001b[0m \u001b[0mnp\u001b[0m\u001b[0;34m.\u001b[0m\u001b[0mcos\u001b[0m\u001b[0;34m(\u001b[0m\u001b[0mtheta\u001b[0m\u001b[0;34m)\u001b[0m\u001b[0;34m)\u001b[0m\u001b[0;34m\u001b[0m\u001b[0;34m\u001b[0m\u001b[0m\n\u001b[0m\u001b[1;32m    667\u001b[0m         \u001b[0;32mreturn\u001b[0m \u001b[0mintegrand\u001b[0m\u001b[0;34m;\u001b[0m\u001b[0;34m\u001b[0m\u001b[0;34m\u001b[0m\u001b[0m\n\u001b[1;32m    668\u001b[0m     \u001b[0mresult\u001b[0m \u001b[0;34m=\u001b[0m \u001b[0mhlittle\u001b[0m\u001b[0;34m**\u001b[0m\u001b[0;36m3\u001b[0m \u001b[0;34m*\u001b[0m \u001b[0;34m(\u001b[0m\u001b[0;36m4\u001b[0m \u001b[0;34m*\u001b[0m \u001b[0mnp\u001b[0m\u001b[0;34m.\u001b[0m\u001b[0mpi\u001b[0m\u001b[0;34m)\u001b[0m \u001b[0;34m*\u001b[0m \u001b[0mintegrate\u001b[0m\u001b[0;34m.\u001b[0m\u001b[0mdblquad\u001b[0m\u001b[0;34m(\u001b[0m\u001b[0mintegrand\u001b[0m\u001b[0;34m,\u001b[0m \u001b[0;36m0\u001b[0m\u001b[0;34m,\u001b[0m \u001b[0mnp\u001b[0m\u001b[0;34m.\u001b[0m\u001b[0mpi\u001b[0m \u001b[0;34m/\u001b[0m \u001b[0;36m2\u001b[0m\u001b[0;34m,\u001b[0m \u001b[0mlower_limit\u001b[0m\u001b[0;34m,\u001b[0m \u001b[0mupper_limit\u001b[0m\u001b[0;34m,\u001b[0m \u001b[0mepsrel\u001b[0m \u001b[0;34m=\u001b[0m \u001b[0;36m1e-3\u001b[0m\u001b[0;34m)\u001b[0m\u001b[0;34m[\u001b[0m\u001b[0;36m0\u001b[0m\u001b[0;34m]\u001b[0m\u001b[0;34m\u001b[0m\u001b[0;34m\u001b[0m\u001b[0m\n",
      "\u001b[0;32m~/opt/anaconda3/lib/python3.8/site-packages/scipy/interpolate/polyint.py\u001b[0m in \u001b[0;36m__call__\u001b[0;34m(self, x)\u001b[0m\n\u001b[1;32m     72\u001b[0m         \"\"\"\n\u001b[1;32m     73\u001b[0m         \u001b[0mx\u001b[0m\u001b[0;34m,\u001b[0m \u001b[0mx_shape\u001b[0m \u001b[0;34m=\u001b[0m \u001b[0mself\u001b[0m\u001b[0;34m.\u001b[0m\u001b[0m_prepare_x\u001b[0m\u001b[0;34m(\u001b[0m\u001b[0mx\u001b[0m\u001b[0;34m)\u001b[0m\u001b[0;34m\u001b[0m\u001b[0;34m\u001b[0m\u001b[0m\n\u001b[0;32m---> 74\u001b[0;31m         \u001b[0my\u001b[0m \u001b[0;34m=\u001b[0m \u001b[0mself\u001b[0m\u001b[0;34m.\u001b[0m\u001b[0m_evaluate\u001b[0m\u001b[0;34m(\u001b[0m\u001b[0mx\u001b[0m\u001b[0;34m)\u001b[0m\u001b[0;34m\u001b[0m\u001b[0;34m\u001b[0m\u001b[0m\n\u001b[0m\u001b[1;32m     75\u001b[0m         \u001b[0;32mreturn\u001b[0m \u001b[0mself\u001b[0m\u001b[0;34m.\u001b[0m\u001b[0m_finish_y\u001b[0m\u001b[0;34m(\u001b[0m\u001b[0my\u001b[0m\u001b[0;34m,\u001b[0m \u001b[0mx_shape\u001b[0m\u001b[0;34m)\u001b[0m\u001b[0;34m\u001b[0m\u001b[0;34m\u001b[0m\u001b[0m\n\u001b[1;32m     76\u001b[0m \u001b[0;34m\u001b[0m\u001b[0m\n",
      "\u001b[0;32m~/opt/anaconda3/lib/python3.8/site-packages/scipy/interpolate/interpolate.py\u001b[0m in \u001b[0;36m_evaluate\u001b[0;34m(self, x_new)\u001b[0m\n\u001b[1;32m    655\u001b[0m         \u001b[0;31m#    The behavior is set by the bounds_error variable.\u001b[0m\u001b[0;34m\u001b[0m\u001b[0;34m\u001b[0m\u001b[0;34m\u001b[0m\u001b[0m\n\u001b[1;32m    656\u001b[0m         \u001b[0mx_new\u001b[0m \u001b[0;34m=\u001b[0m \u001b[0masarray\u001b[0m\u001b[0;34m(\u001b[0m\u001b[0mx_new\u001b[0m\u001b[0;34m)\u001b[0m\u001b[0;34m\u001b[0m\u001b[0;34m\u001b[0m\u001b[0m\n\u001b[0;32m--> 657\u001b[0;31m         \u001b[0my_new\u001b[0m \u001b[0;34m=\u001b[0m \u001b[0mself\u001b[0m\u001b[0;34m.\u001b[0m\u001b[0m_call\u001b[0m\u001b[0;34m(\u001b[0m\u001b[0mself\u001b[0m\u001b[0;34m,\u001b[0m \u001b[0mx_new\u001b[0m\u001b[0;34m)\u001b[0m\u001b[0;34m\u001b[0m\u001b[0;34m\u001b[0m\u001b[0m\n\u001b[0m\u001b[1;32m    658\u001b[0m         \u001b[0;32mif\u001b[0m \u001b[0;32mnot\u001b[0m \u001b[0mself\u001b[0m\u001b[0;34m.\u001b[0m\u001b[0m_extrapolate\u001b[0m\u001b[0;34m:\u001b[0m\u001b[0;34m\u001b[0m\u001b[0;34m\u001b[0m\u001b[0m\n\u001b[1;32m    659\u001b[0m             \u001b[0mbelow_bounds\u001b[0m\u001b[0;34m,\u001b[0m \u001b[0mabove_bounds\u001b[0m \u001b[0;34m=\u001b[0m \u001b[0mself\u001b[0m\u001b[0;34m.\u001b[0m\u001b[0m_check_bounds\u001b[0m\u001b[0;34m(\u001b[0m\u001b[0mx_new\u001b[0m\u001b[0;34m)\u001b[0m\u001b[0;34m\u001b[0m\u001b[0;34m\u001b[0m\u001b[0m\n",
      "\u001b[0;32m~/opt/anaconda3/lib/python3.8/site-packages/scipy/interpolate/interpolate.py\u001b[0m in \u001b[0;36m_call_spline\u001b[0;34m(self, x_new)\u001b[0m\n\u001b[1;32m    643\u001b[0m \u001b[0;34m\u001b[0m\u001b[0m\n\u001b[1;32m    644\u001b[0m     \u001b[0;32mdef\u001b[0m \u001b[0m_call_spline\u001b[0m\u001b[0;34m(\u001b[0m\u001b[0mself\u001b[0m\u001b[0;34m,\u001b[0m \u001b[0mx_new\u001b[0m\u001b[0;34m)\u001b[0m\u001b[0;34m:\u001b[0m\u001b[0;34m\u001b[0m\u001b[0;34m\u001b[0m\u001b[0m\n\u001b[0;32m--> 645\u001b[0;31m         \u001b[0;32mreturn\u001b[0m \u001b[0mself\u001b[0m\u001b[0;34m.\u001b[0m\u001b[0m_spline\u001b[0m\u001b[0;34m(\u001b[0m\u001b[0mx_new\u001b[0m\u001b[0;34m)\u001b[0m\u001b[0;34m\u001b[0m\u001b[0;34m\u001b[0m\u001b[0m\n\u001b[0m\u001b[1;32m    646\u001b[0m \u001b[0;34m\u001b[0m\u001b[0m\n\u001b[1;32m    647\u001b[0m     \u001b[0;32mdef\u001b[0m \u001b[0m_call_nan_spline\u001b[0m\u001b[0;34m(\u001b[0m\u001b[0mself\u001b[0m\u001b[0;34m,\u001b[0m \u001b[0mx_new\u001b[0m\u001b[0;34m)\u001b[0m\u001b[0;34m:\u001b[0m\u001b[0;34m\u001b[0m\u001b[0;34m\u001b[0m\u001b[0m\n",
      "\u001b[0;32m~/opt/anaconda3/lib/python3.8/site-packages/scipy/interpolate/_bsplines.py\u001b[0m in \u001b[0;36m__call__\u001b[0;34m(self, x, nu, extrapolate)\u001b[0m\n\u001b[1;32m    337\u001b[0m         \u001b[0mout\u001b[0m \u001b[0;34m=\u001b[0m \u001b[0mnp\u001b[0m\u001b[0;34m.\u001b[0m\u001b[0mempty\u001b[0m\u001b[0;34m(\u001b[0m\u001b[0;34m(\u001b[0m\u001b[0mlen\u001b[0m\u001b[0;34m(\u001b[0m\u001b[0mx\u001b[0m\u001b[0;34m)\u001b[0m\u001b[0;34m,\u001b[0m \u001b[0mprod\u001b[0m\u001b[0;34m(\u001b[0m\u001b[0mself\u001b[0m\u001b[0;34m.\u001b[0m\u001b[0mc\u001b[0m\u001b[0;34m.\u001b[0m\u001b[0mshape\u001b[0m\u001b[0;34m[\u001b[0m\u001b[0;36m1\u001b[0m\u001b[0;34m:\u001b[0m\u001b[0;34m]\u001b[0m\u001b[0;34m)\u001b[0m\u001b[0;34m)\u001b[0m\u001b[0;34m,\u001b[0m \u001b[0mdtype\u001b[0m\u001b[0;34m=\u001b[0m\u001b[0mself\u001b[0m\u001b[0;34m.\u001b[0m\u001b[0mc\u001b[0m\u001b[0;34m.\u001b[0m\u001b[0mdtype\u001b[0m\u001b[0;34m)\u001b[0m\u001b[0;34m\u001b[0m\u001b[0;34m\u001b[0m\u001b[0m\n\u001b[1;32m    338\u001b[0m         \u001b[0mself\u001b[0m\u001b[0;34m.\u001b[0m\u001b[0m_ensure_c_contiguous\u001b[0m\u001b[0;34m(\u001b[0m\u001b[0;34m)\u001b[0m\u001b[0;34m\u001b[0m\u001b[0;34m\u001b[0m\u001b[0m\n\u001b[0;32m--> 339\u001b[0;31m         \u001b[0mself\u001b[0m\u001b[0;34m.\u001b[0m\u001b[0m_evaluate\u001b[0m\u001b[0;34m(\u001b[0m\u001b[0mx\u001b[0m\u001b[0;34m,\u001b[0m \u001b[0mnu\u001b[0m\u001b[0;34m,\u001b[0m \u001b[0mextrapolate\u001b[0m\u001b[0;34m,\u001b[0m \u001b[0mout\u001b[0m\u001b[0;34m)\u001b[0m\u001b[0;34m\u001b[0m\u001b[0;34m\u001b[0m\u001b[0m\n\u001b[0m\u001b[1;32m    340\u001b[0m         \u001b[0mout\u001b[0m \u001b[0;34m=\u001b[0m \u001b[0mout\u001b[0m\u001b[0;34m.\u001b[0m\u001b[0mreshape\u001b[0m\u001b[0;34m(\u001b[0m\u001b[0mx_shape\u001b[0m \u001b[0;34m+\u001b[0m \u001b[0mself\u001b[0m\u001b[0;34m.\u001b[0m\u001b[0mc\u001b[0m\u001b[0;34m.\u001b[0m\u001b[0mshape\u001b[0m\u001b[0;34m[\u001b[0m\u001b[0;36m1\u001b[0m\u001b[0;34m:\u001b[0m\u001b[0;34m]\u001b[0m\u001b[0;34m)\u001b[0m\u001b[0;34m\u001b[0m\u001b[0;34m\u001b[0m\u001b[0m\n\u001b[1;32m    341\u001b[0m         \u001b[0;32mif\u001b[0m \u001b[0mself\u001b[0m\u001b[0;34m.\u001b[0m\u001b[0maxis\u001b[0m \u001b[0;34m!=\u001b[0m \u001b[0;36m0\u001b[0m\u001b[0;34m:\u001b[0m\u001b[0;34m\u001b[0m\u001b[0;34m\u001b[0m\u001b[0m\n",
      "\u001b[0;32m~/opt/anaconda3/lib/python3.8/site-packages/scipy/interpolate/_bsplines.py\u001b[0m in \u001b[0;36m_evaluate\u001b[0;34m(self, xp, nu, extrapolate, out)\u001b[0m\n\u001b[1;32m    347\u001b[0m \u001b[0;34m\u001b[0m\u001b[0m\n\u001b[1;32m    348\u001b[0m     \u001b[0;32mdef\u001b[0m \u001b[0m_evaluate\u001b[0m\u001b[0;34m(\u001b[0m\u001b[0mself\u001b[0m\u001b[0;34m,\u001b[0m \u001b[0mxp\u001b[0m\u001b[0;34m,\u001b[0m \u001b[0mnu\u001b[0m\u001b[0;34m,\u001b[0m \u001b[0mextrapolate\u001b[0m\u001b[0;34m,\u001b[0m \u001b[0mout\u001b[0m\u001b[0;34m)\u001b[0m\u001b[0;34m:\u001b[0m\u001b[0;34m\u001b[0m\u001b[0;34m\u001b[0m\u001b[0m\n\u001b[0;32m--> 349\u001b[0;31m         _bspl.evaluate_spline(self.t, self.c.reshape(self.c.shape[0], -1),\n\u001b[0m\u001b[1;32m    350\u001b[0m                 self.k, xp, nu, extrapolate, out)\n\u001b[1;32m    351\u001b[0m \u001b[0;34m\u001b[0m\u001b[0m\n",
      "\u001b[0;31mKeyboardInterrupt\u001b[0m: "
     ]
    }
   ],
   "source": [
    "#the fiducial parameters\n",
    "reload(antisym_func); reload(error_bar)\n",
    "\n",
    "zeta = 25; T_vir = 3e4; R_mfp = 50; SMOOTHING_SCALE = 384\n",
    "mu = 1.22 if T_vir < 9.99999e3 else 0.6\n",
    "M_max = antisym_func.RtoM(R_mfp)\n",
    "\n",
    "#read in the fiducial model\n",
    "DIR = '/Users/liuzhaoning/Desktop/Today/antisym_observability/data/antisym_observability/xi_A_HICO'\n",
    "zeta_z_func, z_array_history, HI_history, z_dxHdz_history, dxHdz_history, HIrho_over_rho0_interp, \\\n",
    "BMF_func, xi_A_HICO_unsmoothed_interp = read_model_data(DIR, zeta, T_vir, R_mfp, SMOOTHING_SCALE)\n",
    "\n",
    "#choose the redshift we are observing\n",
    "z_floor = antisym_func.dxHdz_To_z(0.34, M_max, zeta_z_func, T_vir, mu, z_dxHdz_history, dxHdz_history)[1]\n",
    "z_top = antisym_func.dxHdz_To_z(0.25, M_max, zeta_z_func, T_vir, mu, z_dxHdz_history, dxHdz_history)[1]\n",
    "z_array_observe = np.linspace(z_floor, z_top, 5); dxHdz_array_observe = []\n",
    "for z in z_array_observe:\n",
    "    dxHdz_array_observe.append(interp1d(z_dxHdz_history, dxHdz_history, kind='cubic')(z))\n",
    "\n",
    "#set the power spectrum we want to observe\n",
    "kh_array = np.logspace(np.log10(0.1),np.log10(0.6), 16)\n",
    "#set the Smoothing scale of Pk_A computation\n",
    "SMOOTHING_Pk = 260 #a similar comving distance with the frequency bandwidth \n",
    "\n",
    "#para distance\n",
    "B_21 = 23; B_CO = 1.9e3\n",
    "D_para_21 = error_bar.Y(7.8, error_bar.nu_21) * B_21\n",
    "D_para_CO = error_bar.Y(7.8, error_bar.nu_CO) * B_CO\n",
    "print('para depth:', D_para_21, D_para_CO)\n",
    "\n",
    "#compute the statistics\n",
    "Pk_A_HICO_map = Pk_A_HICO_computation(z_array_observe, kh_array, SMOOTHING_Pk, xi_A_HICO_unsmoothed_interp)\n",
    "Pk_S_HICO_map = Pk_S_HICO_computation(z_array_observe, kh_array, BMF_func)\n",
    "Pk_auto_21_map = Pk_auto_21_computation(z_array_observe, kh_array, zeta_z_func, HIrho_over_rho0_interp, BMF_func, M_max, T_vir, mu)\n",
    "Pk_auto_CO_map = Pk_auto_CO_computation(z_array_observe, kh_array, T_vir, mu)\n",
    "\n",
    "#compute the dPkA_dpara\n",
    "dPkA_dzeta_map = dPkA_dparameter(z_array_observe, kh_array, zeta, T_vir, R_mfp, SMOOTHING_SCALE, 0, 2, SMOOTHING_Pk, DIR)\n",
    "dPkA_dTvir_map = dPkA_dparameter(z_array_observe, kh_array, zeta, T_vir, R_mfp, SMOOTHING_SCALE, 1, 0.2e4, SMOOTHING_Pk, DIR)\n",
    "dPkA_dRmfp_map = dPkA_dparameter(z_array_observe, kh_array, zeta, T_vir, R_mfp, SMOOTHING_SCALE, 2, 2, SMOOTHING_Pk, DIR)\n"
   ]
  },
  {
   "cell_type": "code",
   "execution_count": 223,
   "metadata": {},
   "outputs": [
    {
     "data": {
      "text/plain": [
       "('5.9567e+12', '15521')"
      ]
     },
     "execution_count": 223,
     "metadata": {},
     "output_type": "execute_result"
    }
   ],
   "source": [
    "'%5.5g'%Pk_auto_21_map[0][3], '%5.5g'%Pk_auto_CO_map[0][3], "
   ]
  },
  {
   "cell_type": "code",
   "execution_count": 304,
   "metadata": {},
   "outputs": [
    {
     "data": {
      "text/plain": [
       "'1.2309e+06'"
      ]
     },
     "execution_count": 304,
     "metadata": {},
     "output_type": "execute_result"
    }
   ],
   "source": [
    "'%5.5g'%Pk_A_HICO_map[0][3]"
   ]
  },
  {
   "cell_type": "code",
   "execution_count": 183,
   "metadata": {},
   "outputs": [
    {
     "data": {
      "text/plain": [
       "0.14309690811052556"
      ]
     },
     "execution_count": 183,
     "metadata": {},
     "output_type": "execute_result"
    }
   ],
   "source": [
    "kh_array[3]"
   ]
  },
  {
   "cell_type": "code",
   "execution_count": 126,
   "metadata": {},
   "outputs": [
    {
     "data": {
      "text/plain": [
       "(259.75343170206474, 264.41323400770534)"
      ]
     },
     "execution_count": 126,
     "metadata": {},
     "output_type": "execute_result"
    }
   ],
   "source": [
    "#para distance\n",
    "B_21 = 23; B_CO = 1.9e3\n",
    "D_para_21 = error_bar.Y(7.8, error_bar.nu_21) * B_21\n",
    "D_para_CO = error_bar.Y(7.8, error_bar.nu_CO) * B_CO\n",
    "D_para_21, D_para_CO"
   ]
  },
  {
   "cell_type": "code",
   "execution_count": 124,
   "metadata": {},
   "outputs": [
    {
     "data": {
      "text/plain": [
       "array([7.88371508, 8.07916815, 8.27462121, 8.47007428, 8.66552734])"
      ]
     },
     "execution_count": 124,
     "metadata": {},
     "output_type": "execute_result"
    }
   ],
   "source": [
    "z_array_observe"
   ]
  },
  {
   "cell_type": "code",
   "execution_count": 134,
   "metadata": {},
   "outputs": [
    {
     "data": {
      "text/plain": [
       "0.0013"
      ]
     },
     "execution_count": 134,
     "metadata": {},
     "output_type": "execute_result"
    }
   ],
   "source": [
    "1.3e-3"
   ]
  },
  {
   "cell_type": "code",
   "execution_count": 186,
   "metadata": {},
   "outputs": [
    {
     "data": {
      "text/plain": [
       "1.7320508075688772"
      ]
     },
     "execution_count": 186,
     "metadata": {},
     "output_type": "execute_result"
    }
   ],
   "source": [
    "3**0.5"
   ]
  },
  {
   "cell_type": "code",
   "execution_count": 187,
   "metadata": {},
   "outputs": [
    {
     "data": {
      "text/plain": [
       "0.5773502691896257"
      ]
     },
     "execution_count": 187,
     "metadata": {},
     "output_type": "execute_result"
    }
   ],
   "source": [
    "3**-0.5"
   ]
  },
  {
   "cell_type": "code",
   "execution_count": 299,
   "metadata": {},
   "outputs": [
    {
     "data": {
      "text/plain": [
       "array([7.88371508, 8.07916815, 8.27462121, 8.47007428, 8.66552734])"
      ]
     },
     "execution_count": 299,
     "metadata": {},
     "output_type": "execute_result"
    }
   ],
   "source": [
    "z_array_observe"
   ]
  },
  {
   "cell_type": "code",
   "execution_count": null,
   "metadata": {},
   "outputs": [],
   "source": []
  }
 ],
 "metadata": {
  "kernelspec": {
   "display_name": "Python 3",
   "language": "python",
   "name": "python3"
  },
  "language_info": {
   "codemirror_mode": {
    "name": "ipython",
    "version": 3
   },
   "file_extension": ".py",
   "mimetype": "text/x-python",
   "name": "python",
   "nbconvert_exporter": "python",
   "pygments_lexer": "ipython3",
   "version": "3.8.5"
  }
 },
 "nbformat": 4,
 "nbformat_minor": 4
}
