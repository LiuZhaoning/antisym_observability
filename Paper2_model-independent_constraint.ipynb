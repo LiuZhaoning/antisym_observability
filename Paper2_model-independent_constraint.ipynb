{
 "cells": [
  {
   "cell_type": "code",
   "execution_count": 204,
   "metadata": {},
   "outputs": [
    {
     "data": {
      "text/plain": [
       "<module 'error' from '/Users/liuzhaoning/Desktop/Today/antisym_observability/pycode/error.py'>"
      ]
     },
     "execution_count": 204,
     "metadata": {},
     "output_type": "execute_result"
    }
   ],
   "source": [
    "#we constrain the reionization speed \"model-independe\"\n",
    "\n",
    "import numpy as np\n",
    "import matplotlib \n",
    "from matplotlib import pyplot as plt\n",
    "import time\n",
    "import os\n",
    "from scipy.interpolate import interp1d, interp2d\n",
    "from scipy import integrate\n",
    "from scipy.optimize import fsolve\n",
    "\n",
    "import antisym_func\n",
    "import error_bar #Tan\n",
    "import error #Zhou\n",
    "\n",
    "plt.rcParams['xtick.direction'] = 'in'\n",
    "plt.rcParams['ytick.direction'] = 'in'\n",
    "from importlib import reload\n",
    "reload(error_bar); reload(error)"
   ]
  },
  {
   "cell_type": "code",
   "execution_count": 162,
   "metadata": {},
   "outputs": [],
   "source": [
    "hlittle = (0.678)\n",
    "Ho = hlittle*3.2407e-18\n",
    "OMb  = (0.0492) \n",
    "G = (6.67259e-8)\n",
    "CMperMPC = (3.086e24)\n",
    "Msun = (1.989e33)\n",
    "Y_He = (0.245)\n",
    "m_p = (1.6726231e-24)\n",
    "RHOcrit = ( (3.0*Ho*Ho / (8.0*np.pi*G)) * (CMperMPC*CMperMPC*CMperMPC)/Msun)\n",
    "RHOcrit_cgs = (3.0*Ho*Ho / (8.0*np.pi*G))\n",
    "No  = (RHOcrit_cgs*OMb*(1-Y_He)/m_p)\n",
    "He_No = (RHOcrit_cgs*OMb*Y_He/(4.0*m_p))\n",
    "f_He = (He_No/(No)) "
   ]
  },
  {
   "cell_type": "code",
   "execution_count": 163,
   "metadata": {},
   "outputs": [
    {
     "data": {
      "text/plain": [
       "(1.9179530190806878e-07, 0.08112582781456953)"
      ]
     },
     "execution_count": 163,
     "metadata": {},
     "output_type": "execute_result"
    }
   ],
   "source": [
    "OMb*hlittle*hlittle"
   ]
  },
  {
   "cell_type": "code",
   "execution_count": 298,
   "metadata": {},
   "outputs": [],
   "source": [
    "def setting_models(zeta, T_vir, R_mfp):\n",
    "    \"\"\"\n",
    "    compute set the reionization model and gain its history\n",
    "    -----------\n",
    "    Parameters:\n",
    "    -----------\n",
    "    zeta : the ionizating efficiency\n",
    "    T_vir : K, the virial temperature\n",
    "    R_mfp : Mpc, the maximum radius of ionized bubbles\n",
    "    --------\n",
    "    Returns:\n",
    "    --------\n",
    "    zeta_z_func : the normalized zeta with respect to the redshift\n",
    "    z_history, HI_history: the neutral fraction with respect to the redshift\n",
    "    z_dxHdz_history, dxHdz_history : the reionization speed dx_HI/dz with respect to the redshift \n",
    "    max_speed : the maximum reionization speed\n",
    "    turning_redshift : the redshift when the reionization speed reaches its maximum\n",
    "    \"\"\"\n",
    "    tick = time.time()\n",
    "    M_max = antisym_func.RtoM(R_mfp)\n",
    "    mu = 1.22 if T_vir < 9.99999e3 else 0.6\n",
    "    NUM = 60; z_zeta_interp_array = np.linspace(5.5, 16, NUM); zeta_z_interp_array = []\n",
    "    for i in range(NUM):\n",
    "        zeta_z_interp_array.append(antisym_func.zeta_z(z_zeta_interp_array[i], zeta, T_vir, mu))\n",
    "    zeta_z_func = interp1d(z_zeta_interp_array, zeta_z_interp_array, kind = 'cubic')\n",
    "    z_history = np.linspace(5.5, 16, 200); HI_history = [];\n",
    "    for z in z_history:\n",
    "        HI_history.append(1 - antisym_func.bar_Q(z, M_max, zeta_z_func, T_vir, mu, antisym_func.PARA_z(z, M_max, zeta_z_func, T_vir, mu)))\n",
    "    [z_dxHdz_history, dxHdz_history] = antisym_func.dxH_dz_cal(z_history, HI_history)\n",
    "    max_speed = max(dxHdz_history)\n",
    "    turning_redshift = z_dxHdz_history[dxHdz_history.index(max_speed)]  \n",
    "    print('history comuputation at zeta=%3.3g T_vir=%3.3g cost %3.3g seconds'%(zeta, T_vir, time.time() - tick))\n",
    "    return zeta_z_func, z_history, HI_history, z_dxHdz_history, dxHdz_history, max_speed, turning_redshift\n",
    "\n",
    "def tau(z_ion_he2, Delta_z_he2, z_history, HI_history):\n",
    "    \"\"\"\n",
    "    compute the optical depth of elctron scattering (eqn 85 in Planck 2018:VI)\n",
    "    -----------\n",
    "    Parameters:\n",
    "    -----------\n",
    "    z : redshift we are interested in\n",
    "    z_ion1, z_ion2 : the first and second helium reionization redshift, presumebly 3.5 and 7\n",
    "    Delta_z1, Delta_z2 : the duaration of the helium reionization period, roughly 0.5\n",
    "    z_history, HI_history: the neutral fraction with respect to the redshift\n",
    "    --------\n",
    "    Returns:\n",
    "    --------\n",
    "    x_e : the number density ratio of free electrons and hydrogen nuclei\n",
    "    \"\"\"\n",
    "    f_He = 0.0811 #the number density ratio of helium to hydrogen nuclei, from 21cmFAST-v1.3\n",
    "    n_H0 = 1.91795e-07 #cm^(-3), the intergalactic medium hydrogen number density from 21cmFAST-v1.3\n",
    "    sigma_T = 6.6524e-25 #cm^2, Thomson scattering cross section\n",
    "    c_speed = 29979245800.0 #cm * s^(-1)\n",
    "    \n",
    "    #compute the he number density of free electrons from helium second ionization only and hydrogen nuclei\n",
    "    Y_z = lambda z: (1 + z)**1.5\n",
    "    Delta_y = lambda z, Delta_z: 1.5 * (1 + z)**0.5 * Delta_z\n",
    "    x_e_helium = lambda z, z_ion, Delta_z: \\\n",
    "        f_He / 2 * (1 + np.tanh((Y_z(z_ion) - Y_z(z)) / Delta_y(z_ion, Delta_z))) \n",
    "    #compute the he number density of free electrons from hydrogen ionization only and hydrogen nuclei\n",
    "    HI_func = interp1d(z_history, HI_history, kind = 'cubic')\n",
    "    def x_e_hydrogen(z):\n",
    "        if z < min(z_history): return 1\n",
    "        elif z > max(z_history): return 0\n",
    "        else:\n",
    "            return 1 - HI_func(z)\n",
    "        #+ x_e_helium(z, z_ion_he1, Delta_z_he1) \n",
    "    integrand = lambda z: (x_e_helium(z, z_ion_he2, Delta_z_he2) \\\n",
    "                          + (1+f_He) * x_e_hydrogen(z)) * (1 + z)**2 / (antisym_func.H_z(z) / 3.08567758128e19) #H(z) unit from km/s/Mpc to /s\n",
    "    return n_H0 * sigma_T * c_speed * integrate.quad(integrand, 0, 15, epsrel = 1e-3)[0]\n",
    "\n",
    "def model_constraint(max_speed_solution, tau_solution, zeta_assumed, T_vir_assumed,):\n",
    "    def model_computation(parameters, xtol = 0.0001):\n",
    "        zeta = parameters[0]; T_vir = parameters[1]\n",
    "        eta_z_func, z_history, HI_history, z_dxHdz_history, dxHdz_history, max_speed, turning_redshift \\\n",
    "            = setting_models(zeta, T_vir, 50)\n",
    "        tau_0 = tau(3.5, 0.5, z_history, HI_history)\n",
    "        HI_func = interp1d(z_history, HI_history, kind = 'cubic')\n",
    "        print('max_speed =', max_speed, 'tau =', tau_0, 'HI(z=5.9) =', HI_func(5.9))\n",
    "        return [max_speed - max_speed_solution, tau_0 - tau_solution]\n",
    "    zeta, T_vir = fsolve(model_computation, [zeta_assumed, T_vir_assumed])\n",
    "    eta_z_func, z_history, HI_history, z_dxHdz_history, dxHdz_history, max_speed, turning_redshift \\\n",
    "            = setting_models(zeta, T_vir, 50)\n",
    "    HI_func = interp1d(z_history, HI_history, kind = 'cubic')\n",
    "    if HI_func(5.9) > 0.11:\n",
    "        print(\"the model is constraint by the ending time of reionization\")\n",
    "        def model_computation(parameters, xtol = 0.0001):\n",
    "            zeta = parameters[0]; T_vir = parameters[1]\n",
    "            eta_z_func, z_history, HI_history, z_dxHdz_history, dxHdz_history, max_speed, turning_redshift \\\n",
    "                = setting_models(zeta, T_vir, 50)\n",
    "            tau_0 = tau(3.5, 0.5, z_history, HI_history)\n",
    "            HI_func = interp1d(z_history, HI_history, kind = 'cubic')\n",
    "            print('max_speed =', max_speed, 'tau =', tau_0, 'HI(z=5.9) =', HI_func(5.9))\n",
    "            return [max_speed - max_speed_solution, HI_func(5.9) - 0.11]\n",
    "        zeta, T_vir = fsolve(model_computation, [zeta_assumed, T_vir_assumed])\n",
    "        return zeta, T_vir\n",
    "    return zeta, T_vir"
   ]
  },
  {
   "cell_type": "code",
   "execution_count": 299,
   "metadata": {},
   "outputs": [
    {
     "name": "stdout",
     "output_type": "stream",
     "text": [
      "history comuputation at zeta=21.3 T_vir=8e+04 cost 10.5 seconds\n",
      "max_speed = 0.3872495337755133 tau = 0.05402158298716704 HI(z=5.9) = 0.1030675414359601\n",
      "history comuputation at zeta=21.3 T_vir=8e+04 cost 10.4 seconds\n",
      "max_speed = 0.3872495337755133 tau = 0.05402158298716704 HI(z=5.9) = 0.1030675414359601\n",
      "history comuputation at zeta=21.3 T_vir=8e+04 cost 10.1 seconds\n",
      "max_speed = 0.3872495337755133 tau = 0.05402158298716704 HI(z=5.9) = 0.1030675414359601\n",
      "history comuputation at zeta=21.3 T_vir=8e+04 cost 10.1 seconds\n",
      "max_speed = 0.3872495336893468 tau = 0.05402158323467139 HI(z=5.9) = 0.10306753190926042\n",
      "history comuputation at zeta=21.3 T_vir=8e+04 cost 10.1 seconds\n",
      "max_speed = 0.3872495349576006 tau = 0.05402158277473185 HI(z=5.9) = 0.10306754735394813\n",
      "history comuputation at zeta=0.892 T_vir=4.69e+04 cost 10.9 seconds\n",
      "max_speed = 0.02158643343338078 tau = 0.03602473480005476 HI(z=5.9) = 0.9567134659550769\n",
      "history comuputation at zeta=9.62 T_vir=8.1e+04 cost 9.9 seconds\n",
      "max_speed = 0.24717067826051342 tau = 0.043791063905966016 HI(z=5.9) = 0.581049065553086\n",
      "history comuputation at zeta=21.3 T_vir=8e+04 cost 10.1 seconds\n",
      "max_speed = 0.3872495336893468 tau = 0.05402158323467139 HI(z=5.9) = 0.10306753190926042\n",
      "history comuputation at zeta=21.3 T_vir=8e+04 cost 10.3 seconds\n",
      "max_speed = 0.3872495349576006 tau = 0.05402158277473185 HI(z=5.9) = 0.10306754735394813\n",
      "history comuputation at zeta=0.892 T_vir=4.69e+04 cost  11 seconds\n",
      "max_speed = 0.02158643343338078 tau = 0.03602473480005476 HI(z=5.9) = 0.9567134659550769\n",
      "history comuputation at zeta=9.62 T_vir=8.1e+04 cost 10.4 seconds\n",
      "max_speed = 0.24717067826051342 tau = 0.043791063905966016 HI(z=5.9) = 0.581049065553086\n",
      "history comuputation at zeta= 17 T_vir=8.33e+04 cost 9.65 seconds\n",
      "max_speed = 0.37974443356949916 tau = 0.049973395493650805 HI(z=5.9) = 0.280958926357707\n",
      "history comuputation at zeta=10.7 T_vir=8.74e+04 cost 9.93 seconds\n",
      "max_speed = 0.26862292552764155 tau = 0.044177393105689376 HI(z=5.9) = 0.5556629663042062\n",
      "history comuputation at zeta=15.5 T_vir=8.79e+04 cost 9.86 seconds\n",
      "max_speed = 0.3746147089662847 tau = 0.04802024111419122 HI(z=5.9) = 0.3678460261597188\n",
      "history comuputation at zeta=13.4 T_vir=9.24e+04 cost 10.8 seconds\n",
      "max_speed = 0.32798202018110384 tau = 0.0458519675350709 HI(z=5.9) = 0.4677381003834661\n",
      "history comuputation at zeta=14.9 T_vir=9.03e+04 cost 9.42 seconds\n",
      "max_speed = 0.3630029767315102 tau = 0.04724636665923252 HI(z=5.9) = 0.40213815545512477\n",
      "history comuputation at zeta=14.6 T_vir=9.51e+04 cost 9.7 seconds\n",
      "max_speed = 0.3537159169398121 tau = 0.046553672042111006 HI(z=5.9) = 0.4296240064723777\n",
      "history comuputation at zeta=14.8 T_vir=9.27e+04 cost  10 seconds\n",
      "max_speed = 0.3600797123995507 tau = 0.04695186382427459 HI(z=5.9) = 0.4132021960936435\n",
      "history comuputation at zeta= 15 T_vir=9.75e+04 cost 10.3 seconds\n",
      "max_speed = 0.3596484847531585 tau = 0.04660914319224724 HI(z=5.9) = 0.4237015010707936\n",
      "history comuputation at zeta=15.5 T_vir=1.07e+05 cost  13 seconds\n",
      "max_speed = 0.3600281263642953 tau = 0.04603185744494143 HI(z=5.9) = 0.44089159548243406\n",
      "history comuputation at zeta=16.5 T_vir=1.26e+05 cost 11.5 seconds\n",
      "max_speed = 0.35949402738167374 tau = 0.04505045984163817 HI(z=5.9) = 0.47143296073648544\n",
      "history comuputation at zeta=17.6 T_vir=1.48e+05 cost 11.1 seconds\n",
      "max_speed = 0.36011891786659994 tau = 0.044207397736828594 HI(z=5.9) = 0.49802129154909613\n",
      "history comuputation at zeta=17.8 T_vir=1.53e+05 cost  11 seconds\n",
      "max_speed = 0.35995065538272314 tau = 0.044030140975919244 HI(z=5.9) = 0.5038878134048242\n",
      "history comuputation at zeta=17.9 T_vir=1.54e+05 cost  12 seconds\n",
      "max_speed = 0.3600291206725858 tau = 0.0439992221650587 HI(z=5.9) = 0.5048724539238966\n",
      "history comuputation at zeta=17.9 T_vir=1.54e+05 cost 11.9 seconds\n",
      "max_speed = 0.3600006105289391 tau = 0.044000497622045276 HI(z=5.9) = 0.50484582532216\n",
      "history comuputation at zeta=17.9 T_vir=1.54e+05 cost 12.1 seconds\n",
      "max_speed = 0.3600001368728055 tau = 0.04400012074080477 HI(z=5.9) = 0.5048586344115313\n",
      "history comuputation at zeta=17.9 T_vir=1.54e+05 cost  12 seconds\n",
      "max_speed = 0.3599999996414426 tau = 0.043999999678883274 HI(z=5.9) = 0.5048627406896614\n",
      "history comuputation at zeta=17.9 T_vir=1.54e+05 cost  12 seconds\n",
      "max_speed = 0.3599999999993605 tau = 0.04400000000011183 HI(z=5.9) = 0.5048627297968603\n",
      "history comuputation at zeta=17.9 T_vir=1.54e+05 cost  12 seconds\n",
      "max_speed = 0.36000000000007804 tau = 0.04399999999998323 HI(z=5.9) = 0.5048627298008472\n",
      "history comuputation at zeta=17.9 T_vir=1.54e+05 cost 12.1 seconds\n",
      "the model is constraint by the ending time of reionization\n",
      "history comuputation at zeta=21.3 T_vir=8e+04 cost 10.2 seconds\n",
      "max_speed = 0.3872495337755133 tau = 0.05402158298716704 HI(z=5.9) = 0.1030675414359601\n",
      "history comuputation at zeta=21.3 T_vir=8e+04 cost 10.3 seconds\n",
      "max_speed = 0.3872495337755133 tau = 0.05402158298716704 HI(z=5.9) = 0.1030675414359601\n",
      "history comuputation at zeta=21.3 T_vir=8e+04 cost 10.9 seconds\n",
      "max_speed = 0.3872495337755133 tau = 0.05402158298716704 HI(z=5.9) = 0.1030675414359601\n",
      "history comuputation at zeta=21.3 T_vir=8e+04 cost 10.3 seconds\n",
      "max_speed = 0.3872495336893468 tau = 0.05402158323467139 HI(z=5.9) = 0.10306753190926042\n",
      "history comuputation at zeta=21.3 T_vir=8e+04 cost 10.3 seconds\n",
      "max_speed = 0.3872495349576006 tau = 0.05402158277473185 HI(z=5.9) = 0.10306754735394813\n",
      "history comuputation at zeta=16.3 T_vir=5.12e+04 cost 10.9 seconds\n",
      "max_speed = 0.3548350822233458 tau = 0.0556392115060352 HI(z=5.9) = 0.10982374393316553\n",
      "history comuputation at zeta=17.1 T_vir=5.58e+04 cost 9.91 seconds\n",
      "max_speed = 0.36063671821786825 tau = 0.0552656091337232 HI(z=5.9) = 0.11067041003774228\n",
      "history comuputation at zeta= 17 T_vir=5.52e+04 cost 9.68 seconds\n",
      "max_speed = 0.36013521045821106 tau = 0.055325967567869186 HI(z=5.9) = 0.10981353615662803\n",
      "history comuputation at zeta= 17 T_vir=5.51e+04 cost 10.5 seconds\n",
      "max_speed = 0.35992241032687056 tau = 0.05532685367994593 HI(z=5.9) = 0.11016899806573344\n",
      "history comuputation at zeta= 17 T_vir=5.52e+04 cost 10.2 seconds\n",
      "max_speed = 0.36000407960708897 tau = 0.05532796553661063 HI(z=5.9) = 0.10998885135148326\n",
      "history comuputation at zeta= 17 T_vir=5.51e+04 cost 10.3 seconds\n",
      "max_speed = 0.3599998038553607 tau = 0.05532783345147692 HI(z=5.9) = 0.11000056075462762\n",
      "history comuputation at zeta= 17 T_vir=5.51e+04 cost 10.2 seconds\n",
      "max_speed = 0.3600000021510973 tau = 0.05532784035975258 HI(z=5.9) = 0.10999999404725522\n",
      "history comuputation at zeta= 17 T_vir=5.51e+04 cost 10.3 seconds\n",
      "max_speed = 0.36000000001685223 tau = 0.055327840291813944 HI(z=5.9) = 0.10999999995172778\n",
      "history comuputation at zeta= 17 T_vir=5.51e+04 cost 10.2 seconds\n",
      "max_speed = 0.3600000000020412 tau = 0.055327840291215374 HI(z=5.9) = 0.11000000000049598\n"
     ]
    },
    {
     "data": {
      "text/plain": [
       "(16.968828073944973, 55148.16423374904)"
      ]
     },
     "execution_count": 299,
     "metadata": {},
     "output_type": "execute_result"
    }
   ],
   "source": [
    "model_constraint(0.36, 0.0440, 21.3, 8e4)"
   ]
  },
  {
   "cell_type": "code",
   "execution_count": 294,
   "metadata": {},
   "outputs": [
    {
     "name": "stdout",
     "output_type": "stream",
     "text": [
      "history comuputation at zeta=14.5 T_vir=4.08e+04 cost 10.9 seconds\n",
      "tau = 0.0471835902192016 \n",
      " max_speed = 0.3401117009548917 z_turn =  6.106783919597991\n",
      "x_HI(z=5.9) = 0.11027262628469041\n",
      "x_HI(z=11) = 0.9339611746931163\n"
     ]
    }
   ],
   "source": [
    "zeta_z_func, z_history, HI_history, z_dxHdz_history, dxHdz_history, max_speed, turning_redshift \\\n",
    "= setting_models(14.5 , 4.08e4, 50)\n",
    "print('tau =', tau(3.5, 0.5, z_history, HI_history), '\\n', 'max_speed =',max_speed,'z_turn = ', turning_redshift)\n",
    "HI_func = interp1d(z_history, HI_history, kind = 'cubic'); \n",
    "print('x_HI(z=5.9) =',HI_func(5.9)); print('x_HI(z=11) =',HI_func(11))"
   ]
  },
  {
   "cell_type": "code",
   "execution_count": 309,
   "metadata": {},
   "outputs": [
    {
     "data": {
      "image/png": "[encoded data removed]",
      "text/plain": [
       "<Figure size 1152x432 with 3 Axes>"
      ]
     },
     "metadata": {
      "needs_background": "light"
     },
     "output_type": "display_data"
    }
   ],
   "source": [
    "#plot the reionization history of group 2\n",
    "zeta_z_func, z_history, HI_history, z_dxHdz_history, dxHdz_history, max_speed, turning_redshift = \\\n",
    "[0,0,0], [0,0,0], [0,0,0], [0,0,0], [0,0,0], [0,0,0], [0,0,0]\n",
    "zeta_array = [16.97]; T_vir_array = [5.51]\n",
    "tau_array = [0.055]\n",
    "for i in range(1):\n",
    "    zeta = zeta_array[i]; T_vir = T_vir_array[i]\n",
    "    zeta_z_func[i], z_history[i], HI_history[i], z_dxHdz_history[i], dxHdz_history[i], \\\n",
    "        max_speed[i], turning_redshift[i] = setting_models(zeta, T_vir * 1e4, 50)\n",
    "\n",
    "plt.figure(figsize=(16,6))\n",
    "FONTSIZE = 24\n",
    "ax1 = plt.subplot(221, position=[0,1,0.46,0.5])\n",
    "max_dxHdz_array = [0.33, 0.36, 0.39, 0.42]\n",
    "colorlist=['#1CBFC0', '#634CBC', '#DA4267', '#F87D31']; stylelist = ['-', '--', '-.']\n",
    "ax1.tick_params(direction='in',length=3)\n",
    "for i in range(1):\n",
    "    ax1.plot(z_history[i], HI_history[i], color = colorlist[i], lw=1, label=r'$\\tau = %4.4g $'%(tau_array[i]))\n",
    "ax1.legend(fontsize=18, loc = 2)\n",
    "ax1.set_ylabel(r'$\\bar{x}_{\\mathrm{HI}}$',fontsize=FONTSIZE)\n",
    "ax1.set_ylim(0,1)\n",
    "ax1.set_xlim(5.5,9)\n",
    "ax1.set_xticks([6,7,8,9,10,11])\n",
    "ax1.set_xticklabels([])\n",
    "ax1.axvline(x=5.9, lw = 1, color='grey', ls = '--')\n",
    "ax1.axhline(y=0.11, lw = 1, color='grey', ls = '--')\n",
    "\n",
    "ax2 = plt.subplot(223, position=[0,0.5,0.46,0.5])\n",
    "for i in range(1):\n",
    "    ax2.plot(z_dxHdz_history[i], dxHdz_history[i], color = colorlist[i], lw=1)\n",
    "ax2.set_ylim(0.0,0.46); ax2.set_xlim(5.8,11.2)\n",
    "ax2.set_ylabel(r'd$\\bar{x}_{\\mathrm{HI}}$/dz',fontsize=FONTSIZE)\n",
    "ax2.set_xlabel('z',fontsize=FONTSIZE)\n",
    "ax2.tick_params(direction='in',length=3)\n",
    "ax2.set_xticks([6,7,8,9,10,11])\n",
    "ax2.set_xticklabels(['6','7','8','9','10','11'])\n",
    "ax2.set_xlim(5.5,9)\n",
    "\n",
    "ax3 = plt.subplot(122, position=[0.54,0.5,0.46,1])\n",
    "lwlist = [1.3, 0.8, 0.3]\n",
    "for i in range(1):\n",
    "    ax3.plot(HI_history[i][:-1], dxHdz_history[i], color = colorlist[i], lw=lwlist[i])\n",
    "ax3.set_ylabel(r'd$\\bar{x}_{\\mathrm{HI}}$/dz',fontsize=FONTSIZE)\n",
    "ax3.set_xlabel(r'$\\bar{x}_\\mathrm{HI}$',fontsize=FONTSIZE)\n",
    "ax3.tick_params(direction='in',length=3)\n",
    "#ax3.text(0.6, 0.3, 'group 2', fontsize = 25)\n",
    "plt.savefig('../figures/history_groups_20230222.png', bbox_inches = 'tight', dpi=400)"
   ]
  },
  {
   "cell_type": "code",
   "execution_count": null,
   "metadata": {},
   "outputs": [],
   "source": []
  }
 ],
 "metadata": {
  "kernelspec": {
   "display_name": "Python 3",
   "language": "python",
   "name": "python3"
  },
  "language_info": {
   "codemirror_mode": {
    "name": "ipython",
    "version": 3
   },
   "file_extension": ".py",
   "mimetype": "text/x-python",
   "name": "python",
   "nbconvert_exporter": "python",
   "pygments_lexer": "ipython3",
   "version": "3.8.5"
  }
 },
 "nbformat": 4,
 "nbformat_minor": 4
}
