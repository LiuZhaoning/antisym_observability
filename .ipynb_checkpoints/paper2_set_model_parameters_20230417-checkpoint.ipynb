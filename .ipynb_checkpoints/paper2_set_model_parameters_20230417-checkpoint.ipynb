{
 "cells": [
  {
   "cell_type": "code",
   "execution_count": null,
   "metadata": {},
   "outputs": [],
   "source": [
    "#We update the constraint made about the reionizatoin duration and its redshift"
   ]
  },
  {
   "cell_type": "code",
   "execution_count": 1,
   "metadata": {},
   "outputs": [],
   "source": [
    "import numpy as np\n",
    "import matplotlib \n",
    "from matplotlib import pyplot as plt\n",
    "import time\n",
    "import os\n",
    "from scipy.interpolate import interp1d, interp2d\n",
    "from scipy import integrate\n",
    "from scipy.optimize import fsolve\n",
    "from scipy.optimize import curve_fit\n",
    "from scipy.stats import multivariate_normal\n",
    "\n",
    "import antisym_func\n",
    "import error_bar #Tan\n",
    "\n",
    "plt.rcParams['xtick.direction'] = 'in'\n",
    "plt.rcParams['ytick.direction'] = 'in'"
   ]
  },
  {
   "cell_type": "code",
   "execution_count": 33,
   "metadata": {},
   "outputs": [],
   "source": [
    "def tau(z_ion_1, Delta_z_1, z_ion_He2, Delta_z_He2):\n",
    "    \"\"\"\n",
    "    compute the optical depth of elctron scattering (eqn 85 in Planck 2018:VI)\n",
    "    TANH model (eqn 1 in Millea & Bouchet 2018)\n",
    "    assume that the first ionization of Helium is in the same speed of Hydrogen\n",
    "    x_e : the number density ratio of free electrons and hydrogen nuclei\n",
    "    -----------\n",
    "    Parameters:\n",
    "    -----------\n",
    "    z_ion_1 : the redshift of the first ionization, presumebly 7\n",
    "    Delta_z_1 : the duaration of the first ionization, roughly 0.5\n",
    "    z_ion_He2 : the redshift of the helium second ionization, presumebly 3.5\n",
    "    Delta_z_He2 : the duaration of the helium second ionization, roughly 0.5\n",
    "    --------\n",
    "    Returns:\n",
    "    --------\n",
    "    tau : the optical depth of free electrons\n",
    "    \"\"\"\n",
    "    f_He = 0.0811 #the number density ratio of helium to hydrogen nuclei, from 21cmFAST-v1.3\n",
    "    n_H0 = 1.91795e-07 #cm^(-3), from 21cmFAST-v1.3\n",
    "    sigma_T = 6.6524e-25 #cm^2, Thomson scattering cross section\n",
    "    c_speed = 29979245800.0 #cm * s^(-1)\n",
    "    \n",
    "    #compute the he fraction of free electrons compared to neutral hydrogens\n",
    "    Y_z = lambda z: (1 + z)**1.5\n",
    "    Delta_y = lambda z, Delta_z: 1.5 * (1 + z)**0.5 * Delta_z\n",
    "    x_e = lambda z, z_ion, Delta_z: \\\n",
    "        0.5 * (1 + np.tanh((Y_z(z_ion) - Y_z(z)) / Delta_y(z_ion, Delta_z)))\n",
    "    \n",
    "    #the total free elctrons, contributed both from hydrogen and helium\n",
    "    x_e_total = lambda z: (1 + f_He) * x_e(z, z_ion_1, Delta_z_1) + f_He * x_e(z, z_ion_He2, Delta_z_He2)\n",
    "    \n",
    "    integrand = lambda z: x_e_total(z) * (1 + z)**2 / (antisym_func.H_z(z) / 3.08567758128e19) #H(z) unit from km/s/Mpc to /s\n",
    "    return n_H0 * sigma_T * c_speed * integrate.quad(integrand, 0, 50, epsrel = 1e-3)[0]\n",
    "\n",
    "\n",
    "def model_constraint(tau_expected, Delta_z_expected):\n",
    "    \"\"\"\n",
    "    get the middle redshift of reionization and with the tau and Delta_z known\n",
    "    Based on TANH model (eqn 1 in Millea & Bouchet 2018)\n",
    "    -----------\n",
    "    Parameters:\n",
    "    -----------\n",
    "    tau_expected : the expected optical depth of free electrons, 0.0519 by Planck 2018\n",
    "    Delta_z_expected : the expected duration of reionization, around 0.5\n",
    "    --------\n",
    "    Returns:\n",
    "    --------\n",
    "    tau : the optical depth of free electrons\n",
    "    \"\"\"\n",
    "    def model_computation(z_ion_1, xtol = 0.0001):\n",
    "        tau_0 = tau(z_ion_1, Delta_z_expected, 3.5, 0.5)\n",
    "        return [tau_0 -  tau_expected]\n",
    "    z_ion = fsolve(model_computation, [7])\n",
    "    return z_ion"
   ]
  },
  {
   "cell_type": "code",
   "execution_count": 144,
   "metadata": {},
   "outputs": [
    {
     "data": {
      "text/plain": [
       "Text(6.1, 2.15, 'Spectra of high-z \\nquasars, galaxies, and \\ngamma ray bursts')"
      ]
     },
     "execution_count": 144,
     "metadata": {},
     "output_type": "execute_result"
    },
    {
     "data": {
      "image/png": "[encoded data removed]",
      "text/plain": [
       "<Figure size 432x288 with 1 Axes>"
      ]
     },
     "metadata": {
      "needs_background": "light"
     },
     "output_type": "display_data"
    }
   ],
   "source": [
    "#plot the updated reionization redshift and duration constraint\n",
    "fig, axs = plt.subplots(1, 1, figsize=(6, 4))\n",
    "axs.set_ylim(0.01,3); axs.set_xlim(6,8.4)\n",
    "\n",
    "#compute the reionization redshift from the tau (1-sigma) of Planck 2018\n",
    "z_ion_late, z_ion, z_ion_early =  model_constraint(0.0519 - 0.0079, 0.5)[0], model_constraint(0.0519, 0.5)[0], model_constraint(0.0519 + 0.0030, 0.5)[0]\n",
    "x1 = np.linspace(5, z_ion_late, 100)\n",
    "x2 = np.linspace(z_ion_early, 9, 100) \n",
    "y_low, y_upper = [0]*100, [3]*100\n",
    "axs.fill_between(x1, y_low, y_upper, color = '#fdae61', alpha = 0.3)\n",
    "axs.fill_between(x2, y_low, y_upper, color = '#fdae61', alpha = 0.3)\n",
    "axs.text(7.7, 2.0, 'Planck 1$\\sigma$ \\n (2018)')\n",
    "axs.axvline(x = z_ion, color = '#fdae61', lw = 1.2, ls = '--')\n",
    "#axs.annotate('Planck (2018)', xy=(z_ion, 2.1), xytext=(7.4, 2.3), arrowprops=dict(facecolor='black', arrowstyle='->'))\n",
    "\n",
    "#plot the constraint of the reionization duration Delta_z = z(x_H = 0.25) - z(x_H = 0.75)\n",
    "# Reichardt et al. (2021)\n",
    "Delta_z_low, Delta_z, Delta_z_upper = 1.1 - 0.7, 1.1, 1.1 + 1.6\n",
    "x = np.linspace(5, 10, 100)\n",
    "y_low, y_upper = [Delta_z_low] * 100, [Delta_z_upper] * 100\n",
    "axs.fill_between(x, [0] * 100, y_low, color = '#abd9e9', alpha = 0.4)\n",
    "axs.fill_between(x, y_upper, [3] * 100, color = '#abd9e9', alpha = 0.4)\n",
    "axs.axhline(y = Delta_z, color = '#abd9e9', lw = 1.2, ls = '--')\n",
    "axs.text(6.7, 0.1, 'SPTPol $1\\sigma$ \\n (2021)')\n",
    "#axs.annotate('SPTPol (2021)', xy=(6.3, Delta_z), xytext=(6., 1.4), arrowprops=dict(facecolor='black', arrowstyle='->'))\n",
    "\n",
    "# conservative generic upper limit of the form D < 2(z_r - 6) to represent constraints from\n",
    "# the spectra of high-z quasars, galaxies, and gamma-ray bursts (Bouwens et al. 2015)\n",
    "x = np.linspace(6, 8, 100)\n",
    "y = 2 * (x - 6)\n",
    "y_upper = [3] * 100\n",
    "axs.fill_between(x, y, y_upper, hatch='\\\\\\\\', alpha = 0)\n",
    "#textbox = matplotlib.patches.FancyBboxPatch((6.2, 2.0), 0.2, 0.2, boxstyle='round,pad=0.1', edgecolor='black', facecolor='white')\n",
    "#axs.add_patch(textbox)\n",
    "axs.text(6.1, 2.15, 'Spectra of high-z \\nquasars, galaxies, and \\ngamma ray bursts', bbox = {\"boxstyle\" : \"square\", \"color\" : \"white\", })"
   ]
  },
  {
   "cell_type": "code",
   "execution_count": 91,
   "metadata": {},
   "outputs": [
    {
     "data": {
      "text/plain": [
       "(array([1, 2, 3]), array([0, 2, 4]))"
      ]
     },
     "execution_count": 91,
     "metadata": {},
     "output_type": "execute_result"
    }
   ],
   "source": [
    "# set models within the constraint for further analysis\n"
   ]
  },
  {
   "cell_type": "code",
   "execution_count": 145,
   "metadata": {},
   "outputs": [],
   "source": [
    "nu_21 = 1420.405752\n",
    "def A_e_21(z):\n",
    "\t'''\n",
    "\tEffective area of 21-cm observation. \n",
    "\tUnit: m^2\n",
    "\t'''\n",
    "\treturn 256.*1.6*160.**2*(1.+z)**2/nu_21**2"
   ]
  },
  {
   "cell_type": "code",
   "execution_count": 146,
   "metadata": {},
   "outputs": [
    {
     "data": {
      "text/plain": [
       "390.6728795117158"
      ]
     },
     "execution_count": 146,
     "metadata": {},
     "output_type": "execute_result"
    }
   ],
   "source": [
    "A_e_21(7.67)"
   ]
  },
  {
   "cell_type": "code",
   "execution_count": 149,
   "metadata": {},
   "outputs": [
    {
     "data": {
      "text/plain": [
       "127.57499999999999"
      ]
     },
     "execution_count": 149,
     "metadata": {},
     "output_type": "execute_result"
    }
   ],
   "source": [
    "13.5**2*0.7"
   ]
  },
  {
   "cell_type": "code",
   "execution_count": null,
   "metadata": {},
   "outputs": [],
   "source": []
  }
 ],
 "metadata": {
  "kernelspec": {
   "display_name": "Python 3",
   "language": "python",
   "name": "python3"
  },
  "language_info": {
   "codemirror_mode": {
    "name": "ipython",
    "version": 3
   },
   "file_extension": ".py",
   "mimetype": "text/x-python",
   "name": "python",
   "nbconvert_exporter": "python",
   "pygments_lexer": "ipython3",
   "version": "3.8.5"
  }
 },
 "nbformat": 4,
 "nbformat_minor": 4
}
