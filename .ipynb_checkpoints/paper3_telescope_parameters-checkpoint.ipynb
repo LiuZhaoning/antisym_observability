{
 "cells": [
  {
   "cell_type": "code",
   "execution_count": 3,
   "metadata": {},
   "outputs": [],
   "source": [
    "import numpy as np"
   ]
  },
  {
   "cell_type": "code",
   "execution_count": 4,
   "metadata": {},
   "outputs": [],
   "source": [
    "import matplotlib.pyplot as plt"
   ]
  },
  {
   "cell_type": "markdown",
   "metadata": {},
   "source": [
    "calculating the configuration of ska1-low and ska2-low\n",
    "the stations are distributed as a Gaussian function, the sigma is appropriately 880m;"
   ]
  },
  {
   "cell_type": "code",
   "execution_count": 67,
   "metadata": {},
   "outputs": [],
   "source": [
    "def core_diameter(num_station, station_diameter):\n",
    "    '''\n",
    "    compute the core size of the SKA2-low, assuming stations following the densest packing--hexagonal packing\n",
    "    ---------------------\n",
    "    INPUT:\n",
    "    num_circle : the number of circles (the number of stations in SKA2-low)\n",
    "    ---------------------\n",
    "    OUTPUT:\n",
    "    core_diameter : the diameter of core area, in which all of the stations can be put in\n",
    "    '''\n",
    "    eta = 0.9069 # the hexagonal packing density, from https://en.wikipedia.org/wiki/Circle_packing\n",
    "    station_area = num_station * (np.pi * station_diameter * station_diameter / 4)\n",
    "    core_area = station_area / eta\n",
    "    core_diameter = 2 * (core_area / np.pi)**0.5\n",
    "    return core_diameter\n",
    "\n",
    "def baseline_computation(d_station, N_stations, r_core):\n",
    "    '''\n",
    "    compute the number density of SKA-low stations along one certain direction\n",
    "    ---------------------\n",
    "    INPUT:\n",
    "    d_station : the diamter of the stations\n",
    "    N_stations : the number of stations\n",
    "    r_core : m,  the radius of the SKA-low core\n",
    "    ---------------------\n",
    "    OUTPUT:\n",
    "    baseline_length : m, the baseline length\n",
    "    baseline_number_density : the number density corresponding to the baseline along one direcntion\n",
    "    '''\n",
    "    station_density = N_stations/np.pi/r_core**2\n",
    "    Nsides = np.int(2*r_core/d_station)+1\n",
    "    weights_pixel = np.zeros((Nsides+1, Nsides+1))\n",
    "    for i in range(0, Nsides+1):\n",
    "        for j in range(0, Nsides+1):\n",
    "            x_cor, y_cor = (i+0.5), (j+0.5)\n",
    "            if np.sqrt((x_cor-Nsides/2)**2+(y_cor-Nsides/2)**2)*d_station <= r_core:\n",
    "                weights_pixel[i,j] = 1\n",
    "    baseline_length, baseline_number_density = np.arange(1, Nsides+1), np.zeros(Nsides) \n",
    "    for l in baseline_length:\n",
    "        for i in range(0, Nsides+1):\n",
    "            for j in range(0, Nsides+1):\n",
    "                if( j+l <= Nsides ):\n",
    "                    baseline_number_density[l-1] += weights_pixel[i,j]*weights_pixel[i,j+l]*station_density**2*d_station**2\n",
    "    baseline_length *= d_station\n",
    "    #baseline_number_density*np.pi*r_core**2\n",
    "    return baseline_length, baseline_number_density\n",
    "\n",
    "def FoV_computation(z, lambda_rest, D):\n",
    "    '''\n",
    "    compute the antenna angular resolution\n",
    "    ---------------------\n",
    "    INPUT:\n",
    "    z : the redshift we are interested\n",
    "    lambda_rest : m, the restframe wavelength\n",
    "    D : n, the diamter of the antenna\n",
    "    ---------------------\n",
    "    OUTPUT:\n",
    "    Omega_beam : radians^2, antenna beam area (single beam FoV)\n",
    "    '''\n",
    "    return np.pi / 4 * (1.3 * lambda_rest * (1+z) / D)**2\n",
    "\n",
    "def angular_resolution(z, lambda_rest, D):\n",
    "    '''\n",
    "    compute the antenna angular resolution\n",
    "    ---------------------\n",
    "    INPUT:\n",
    "    z : the redshift we are interested\n",
    "    lambda_rest : m, the restframe wavelength\n",
    "    D : n, the diamter of the antenna\n",
    "    ---------------------\n",
    "    OUTPUT:\n",
    "    theta_min : radians, the angular resolution\n",
    "    '''\n",
    "    return 1.22 * lambda_rest * (1 + z) / D * (180 * 60 / np.pi)\n",
    "\n",
    "def effective_area_21(z, D):\n",
    "    '''\n",
    "    compute the effective area of a SKA-low station\n",
    "    ---------------------\n",
    "    INPUT:\n",
    "    z : the redshift we are interested\n",
    "    D : m, the diamter of the antenna\n",
    "    ---------------------\n",
    "    OUTPUT:\n",
    "    A_e : m^2, the effective area of a SKA-low station\n",
    "    '''\n",
    "    nu = 1420.405752 / (1 + z) #Mhz\n",
    "    A_e = np.pi * (D / 2)**2 * (94 / nu)**2\n",
    "    return A_e\n",
    "\n",
    "def bandwidth_computation(z, Delta_D):\n",
    "    '''\n",
    "    compute the bandwidth of the correspondent survey LoS length at redshift z\n",
    "    ---------------------\n",
    "    INPUT:\n",
    "    z : the redshift we are interested\n",
    "    Delta_D : Mpc, the survey depth along the LoS direction\n",
    "    ---------------------\n",
    "    OUTPUT:\n",
    "    B : Mhz, the bandwidth of the observation\n",
    "    '''\n",
    "    "
   ]
  },
  {
   "cell_type": "code",
   "execution_count": 70,
   "metadata": {},
   "outputs": [
    {
     "data": {
      "text/plain": [
       "373.3585765367831"
      ]
     },
     "execution_count": 70,
     "metadata": {},
     "output_type": "execute_result"
    }
   ],
   "source": [
    "effective_area_21(7.67, 38)"
   ]
  },
  {
   "cell_type": "code",
   "execution_count": 69,
   "metadata": {},
   "outputs": [
    {
     "data": {
      "text/plain": [
       "373.3585765367831"
      ]
     },
     "execution_count": 69,
     "metadata": {},
     "output_type": "execute_result"
    }
   ],
   "source": [
    "effective_area_21(7.67, 38)"
   ]
  },
  {
   "cell_type": "code",
   "execution_count": 40,
   "metadata": {},
   "outputs": [],
   "source": [
    "#parameters for SKA-low\n",
    "d_station_low = 38 # unit m\n",
    "N_antenna_low = 256 #number of antennas in a SKA-low station\n",
    "N_stations_low1 = 224; N_stations_low2 = 4 * N_stations_low1 #number of SKA1-low and SKA2-low stations\n",
    "eta = 0.9069 #hexgonal packing density\n",
    "r_core_low1 = 500; r_core_low2 = 0.5 * d_station_low * (N_stations_low2 / eta)**0.5 # unit m"
   ]
  },
  {
   "cell_type": "code",
   "execution_count": 25,
   "metadata": {},
   "outputs": [],
   "source": [
    "Omega_FoV = 11.79 * (np.pi / 180)**2 #radians\n",
    "Omega_35 = (1.22 * (lambda_767 / 35) ) **2\n",
    "lambda_767 = 0.2110611405 * (1 + 7.67)\n",
    "A_e_antenna = lambda_767**2 / Omega_FoV"
   ]
  },
  {
   "cell_type": "code",
   "execution_count": 26,
   "metadata": {},
   "outputs": [
    {
     "data": {
      "text/plain": [
       "932.3655445418788"
      ]
     },
     "execution_count": 26,
     "metadata": {},
     "output_type": "execute_result"
    }
   ],
   "source": [
    "A_e_antenna"
   ]
  },
  {
   "cell_type": "code",
   "execution_count": 28,
   "metadata": {},
   "outputs": [
    {
     "data": {
      "text/plain": [
       "28.114040332861254"
      ]
     },
     "execution_count": 28,
     "metadata": {},
     "output_type": "execute_result"
    }
   ],
   "source": [
    "lambda_767 **2 / 391 * (180 / np.pi)**2"
   ]
  },
  {
   "cell_type": "code",
   "execution_count": 34,
   "metadata": {},
   "outputs": [
    {
     "data": {
      "text/plain": [
       "12.624514362568982"
      ]
     },
     "execution_count": 34,
     "metadata": {},
     "output_type": "execute_result"
    }
   ],
   "source": [
    "(1.22 * (lambda_767 / 36) ) **2 * (180 / np.pi)**2"
   ]
  },
  {
   "cell_type": "code",
   "execution_count": 36,
   "metadata": {},
   "outputs": [
    {
     "data": {
      "text/plain": [
       "962.1127501618741"
      ]
     },
     "execution_count": 36,
     "metadata": {},
     "output_type": "execute_result"
    }
   ],
   "source": [
    "np.pi * (35/2)**2 "
   ]
  },
  {
   "cell_type": "code",
   "execution_count": 38,
   "metadata": {},
   "outputs": [
    {
     "data": {
      "text/plain": [
       "123.70105263157893"
      ]
     },
     "execution_count": 38,
     "metadata": {},
     "output_type": "execute_result"
    }
   ],
   "source": [
    "33576 / 190 * 0.7"
   ]
  },
  {
   "cell_type": "code",
   "execution_count": null,
   "metadata": {},
   "outputs": [],
   "source": []
  }
 ],
 "metadata": {
  "kernelspec": {
   "display_name": "Python 3",
   "language": "python",
   "name": "python3"
  },
  "language_info": {
   "codemirror_mode": {
    "name": "ipython",
    "version": 3
   },
   "file_extension": ".py",
   "mimetype": "text/x-python",
   "name": "python",
   "nbconvert_exporter": "python",
   "pygments_lexer": "ipython3",
   "version": "3.8.5"
  }
 },
 "nbformat": 4,
 "nbformat_minor": 2
}
