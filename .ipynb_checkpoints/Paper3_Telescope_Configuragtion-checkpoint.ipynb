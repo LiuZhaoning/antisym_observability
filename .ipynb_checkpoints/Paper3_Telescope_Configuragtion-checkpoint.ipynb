{
 "cells": [
  {
   "cell_type": "code",
   "execution_count": 3,
   "metadata": {},
   "outputs": [],
   "source": [
    "import numpy as np"
   ]
  },
  {
   "cell_type": "code",
   "execution_count": 4,
   "metadata": {},
   "outputs": [],
   "source": [
    "import matplotlib.pyplot as plt"
   ]
  },
  {
   "cell_type": "markdown",
   "metadata": {},
   "source": [
    "calculating the configuration of ska1-low and ska2-low\n",
    "For ska1-low, there're totally 250000 log-periodic dipoles;\n",
    "911 stations, whose diameter is 35m: 866 in the core and 45 in the arm(ignored);\n",
    "the stations are distributed as a Gaussian function, the sigma is appropriately 880m;\n",
    "each station has 289 antenna element, and the area of per antenna is 2.25m**2;\n",
    "the field of view is pi/4*(1.3\\lambda/d_station)**2;\n",
    "the effective collecting area is proportional to lambda**2, \n",
    "for instance, 0.85m**2 for 220MHz and 1.6m**2 for 160MHz.\n",
    "\n",
    "ska2-low has 4 times as much sensitivity as ska1-low; therefore, we assume ska2-low has 4 times \n",
    "as many antennas as ska1-low while keeping the area the same size"
   ]
  },
  {
   "cell_type": "code",
   "execution_count": 4,
   "metadata": {},
   "outputs": [],
   "source": [
    "r_core = 500\n",
    "# unit m\n",
    "d_station = 35\n",
    "# unit m\n",
    "N_stations = 224"
   ]
  },
  {
   "cell_type": "code",
   "execution_count": 5,
   "metadata": {},
   "outputs": [],
   "source": [
    "station_density = N_stations/np.pi/r_core**2\n",
    "Nsides = np.int(2*r_core/d_station)+1"
   ]
  },
  {
   "cell_type": "code",
   "execution_count": 14,
   "metadata": {},
   "outputs": [],
   "source": [
    "weights_pixel = np.zeros((Nsides+1, Nsides+1))\n",
    "for i in range(0, Nsides+1):\n",
    "    for j in range(0, Nsides+1):\n",
    "        x_cor, y_cor = (i+0.5), (j+0.5)\n",
    "        if np.sqrt((x_cor-Nsides/2)**2+(y_cor-Nsides/2)**2)*d_station <= r_core:\n",
    "            weights_pixel[i,j] = 1\n",
    "baseline_length, baseline_number_density = np.arange(1, Nsides+1), np.zeros(Nsides) \n",
    "for l in baseline_length:\n",
    "    for i in range(0, Nsides+1):\n",
    "        for j in range(0, Nsides+1):\n",
    "            if( j+l <= Nsides ):\n",
    "                baseline_number_density[l-1] += weights_pixel[i,j]*weights_pixel[i,j+l]*station_density**2*d_station**2"
   ]
  },
  {
   "cell_type": "code",
   "execution_count": 20,
   "metadata": {},
   "outputs": [
    {
     "data": {
      "text/plain": [
       "array([  35,   70,  105,  140,  175,  210,  245,  280,  315,  350,  385,\n",
       "        420,  455,  490,  525,  560,  595,  630,  665,  700,  735,  770,\n",
       "        805,  840,  875,  910,  945,  980, 1015])"
      ]
     },
     "execution_count": 20,
     "metadata": {},
     "output_type": "execute_result"
    }
   ],
   "source": [
    "baseline_length*d_station"
   ]
  },
  {
   "cell_type": "code",
   "execution_count": 21,
   "metadata": {},
   "outputs": [
    {
     "data": {
      "text/plain": [
       "array([0.0609823 , 0.05809261, 0.05520293, 0.05231325, 0.04942356,\n",
       "       0.04673317, 0.04404277, 0.04135238, 0.03866198, 0.03597158,\n",
       "       0.03328119, 0.03079008, 0.02829897, 0.02580787, 0.02331676,\n",
       "       0.02102494, 0.01873312, 0.01644131, 0.01414949, 0.01205696,\n",
       "       0.00996443, 0.00807119, 0.00617795, 0.00468328, 0.00318862,\n",
       "       0.00209253, 0.00099644, 0.00049822, 0.        ])"
      ]
     },
     "execution_count": 21,
     "metadata": {},
     "output_type": "execute_result"
    }
   ],
   "source": [
    "baseline_number_density"
   ]
  },
  {
   "cell_type": "code",
   "execution_count": 26,
   "metadata": {},
   "outputs": [
    {
     "data": {
      "text/plain": [
       "0.3493769310753287"
      ]
     },
     "execution_count": 26,
     "metadata": {},
     "output_type": "execute_result"
    }
   ],
   "source": [
    "station_density*d_station**2"
   ]
  },
  {
   "cell_type": "code",
   "execution_count": 23,
   "metadata": {},
   "outputs": [
    {
     "data": {
      "text/plain": [
       "array([47895.38472725, 45625.83218299, 43356.27963872, 41086.72709446,\n",
       "       38817.17455019, 36704.14287105, 34591.11119191, 32478.07951276,\n",
       "       30365.04783362, 28252.01615448, 26138.98447533, 24182.47366131,\n",
       "       22225.96284729, 20269.45203327, 18312.94121924, 16512.95127034,\n",
       "       14712.96132144, 12912.97137254, 11112.98142364,  9469.51233987,\n",
       "        7826.04325609,  6339.09503743,  4852.14681877,  3678.24033036,\n",
       "        2504.33384195,  1643.46908378,   782.60432561,   391.3021628 ,\n",
       "           0.        ])"
      ]
     },
     "execution_count": 23,
     "metadata": {},
     "output_type": "execute_result"
    }
   ],
   "source": [
    "baseline_number_density*np.pi*r_core**2"
   ]
  },
  {
   "cell_type": "code",
   "execution_count": 29,
   "metadata": {},
   "outputs": [
    {
     "data": {
      "text/plain": [
       "<matplotlib.image.AxesImage at 0x1143fb250>"
      ]
     },
     "execution_count": 29,
     "metadata": {},
     "output_type": "execute_result"
    },
    {
     "data": {
      "image/png": "[encoded data removed]",
      "text/plain": [
       "<Figure size 432x288 with 1 Axes>"
      ]
     },
     "metadata": {
      "needs_background": "light"
     },
     "output_type": "display_data"
    }
   ],
   "source": [
    "plt.imshow(weights_pixel)"
   ]
  },
  {
   "cell_type": "code",
   "execution_count": 18,
   "metadata": {},
   "outputs": [
    {
     "data": {
      "text/plain": [
       "[<matplotlib.lines.Line2D at 0x113f2a990>]"
      ]
     },
     "execution_count": 18,
     "metadata": {},
     "output_type": "execute_result"
    },
    {
     "data": {
      "image/png": "[encoded data removed]",
      "text/plain": [
       "<Figure size 432x288 with 1 Axes>"
      ]
     },
     "metadata": {
      "needs_background": "light"
     },
     "output_type": "display_data"
    }
   ],
   "source": [
    "plt.plot(baseline_length, baseline_number_density)"
   ]
  },
  {
   "cell_type": "code",
   "execution_count": 12,
   "metadata": {},
   "outputs": [
    {
     "data": {
      "text/plain": [
       "(550.0628979963315, 1100.125795992663)"
      ]
     },
     "execution_count": 12,
     "metadata": {},
     "output_type": "execute_result"
    }
   ],
   "source": [
    "#compute the smallest area in which the SKA2-low stations can fit in\n",
    "#the densest circle packing is hexagonal packing\n",
    "def core_diameter(num_circle, circle_diameter):\n",
    "    '''\n",
    "    INPUT:\n",
    "    num_circle : the number of circles (the number of stations in SKA2-low)\n",
    "    ---------------------\n",
    "    OUTPUT:\n",
    "    core_diameter : the diameter of core area, in which all of the circles can be put in\n",
    "    '''\n",
    "    eta = 0.9069 # the hexagonal packing density, from https://en.wikipedia.org/wiki/Circle_packing\n",
    "    circles_area = num_circle * (np.pi * circle_diameter * circle_diameter / 4)\n",
    "    core_area = circles_area / eta\n",
    "    core_diameter = 2 * (core_area / np.pi)**0.5\n",
    "    return core_diameter\n",
    "\n",
    "core_diameter(224, 35), core_diameter(224 * 4, 35)"
   ]
  },
  {
   "cell_type": "code",
   "execution_count": 25,
   "metadata": {},
   "outputs": [],
   "source": [
    "Omega_FoV = 11.79 * (np.pi / 180)**2 #radians\n",
    "Omega_35 = (1.22 * (lambda_767 / 35) ) **2\n",
    "lambda_767 = 0.2110611405 * (1 + 7.67)\n",
    "A_e_antenna = lambda_767**2 / Omega_FoV"
   ]
  },
  {
   "cell_type": "code",
   "execution_count": 26,
   "metadata": {},
   "outputs": [
    {
     "data": {
      "text/plain": [
       "932.3655445418788"
      ]
     },
     "execution_count": 26,
     "metadata": {},
     "output_type": "execute_result"
    }
   ],
   "source": [
    "A_e_antenna"
   ]
  },
  {
   "cell_type": "code",
   "execution_count": 28,
   "metadata": {},
   "outputs": [
    {
     "data": {
      "text/plain": [
       "28.114040332861254"
      ]
     },
     "execution_count": 28,
     "metadata": {},
     "output_type": "execute_result"
    }
   ],
   "source": [
    "lambda_767 **2 / 391 * (180 / np.pi)**2"
   ]
  },
  {
   "cell_type": "code",
   "execution_count": 34,
   "metadata": {},
   "outputs": [
    {
     "data": {
      "text/plain": [
       "12.624514362568982"
      ]
     },
     "execution_count": 34,
     "metadata": {},
     "output_type": "execute_result"
    }
   ],
   "source": [
    "(1.22 * (lambda_767 / 36) ) **2 * (180 / np.pi)**2"
   ]
  },
  {
   "cell_type": "code",
   "execution_count": 36,
   "metadata": {},
   "outputs": [
    {
     "data": {
      "text/plain": [
       "962.1127501618741"
      ]
     },
     "execution_count": 36,
     "metadata": {},
     "output_type": "execute_result"
    }
   ],
   "source": [
    "np.pi * (35/2)**2 "
   ]
  },
  {
   "cell_type": "code",
   "execution_count": 38,
   "metadata": {},
   "outputs": [
    {
     "data": {
      "text/plain": [
       "123.70105263157893"
      ]
     },
     "execution_count": 38,
     "metadata": {},
     "output_type": "execute_result"
    }
   ],
   "source": [
    "33576 / 190 * 0.7"
   ]
  },
  {
   "cell_type": "code",
   "execution_count": null,
   "metadata": {},
   "outputs": [],
   "source": []
  }
 ],
 "metadata": {
  "kernelspec": {
   "display_name": "Python 3",
   "language": "python",
   "name": "python3"
  },
  "language_info": {
   "codemirror_mode": {
    "name": "ipython",
    "version": 3
   },
   "file_extension": ".py",
   "mimetype": "text/x-python",
   "name": "python",
   "nbconvert_exporter": "python",
   "pygments_lexer": "ipython3",
   "version": "3.8.5"
  }
 },
 "nbformat": 4,
 "nbformat_minor": 2
}
