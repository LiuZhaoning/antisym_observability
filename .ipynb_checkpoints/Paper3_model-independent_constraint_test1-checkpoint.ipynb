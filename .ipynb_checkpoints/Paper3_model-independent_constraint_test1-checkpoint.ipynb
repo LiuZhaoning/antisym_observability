{
 "cells": [
  {
   "cell_type": "code",
   "execution_count": 204,
   "metadata": {},
   "outputs": [
    {
     "data": {
      "text/plain": [
       "<module 'error' from '/Users/liuzhaoning/Desktop/Today/antisym_observability/pycode/error.py'>"
      ]
     },
     "execution_count": 204,
     "metadata": {},
     "output_type": "execute_result"
    }
   ],
   "source": [
    "#we constrain the reionization speed \"model-independe\"\n",
    "\n",
    "import numpy as np\n",
    "import matplotlib \n",
    "from matplotlib import pyplot as plt\n",
    "import time\n",
    "import os\n",
    "from scipy.interpolate import interp1d, interp2d\n",
    "from scipy import integrate\n",
    "from scipy.optimize import fsolve\n",
    "\n",
    "import antisym_func\n",
    "import error_bar #Tan\n",
    "import error #Zhou\n",
    "\n",
    "plt.rcParams['xtick.direction'] = 'in'\n",
    "plt.rcParams['ytick.direction'] = 'in'\n",
    "from importlib import reload\n",
    "reload(error_bar); reload(error)"
   ]
  },
  {
   "cell_type": "code",
   "execution_count": 162,
   "metadata": {},
   "outputs": [],
   "source": [
    "hlittle = (0.678)\n",
    "Ho = hlittle*3.2407e-18\n",
    "OMb  = (0.0492) \n",
    "G = (6.67259e-8)\n",
    "CMperMPC = (3.086e24)\n",
    "Msun = (1.989e33)\n",
    "Y_He = (0.245)\n",
    "m_p = (1.6726231e-24)\n",
    "RHOcrit = ( (3.0*Ho*Ho / (8.0*np.pi*G)) * (CMperMPC*CMperMPC*CMperMPC)/Msun)\n",
    "RHOcrit_cgs = (3.0*Ho*Ho / (8.0*np.pi*G))\n",
    "No  = (RHOcrit_cgs*OMb*(1-Y_He)/m_p)\n",
    "He_No = (RHOcrit_cgs*OMb*Y_He/(4.0*m_p))\n",
    "f_He = (He_No/(No)) "
   ]
  },
  {
   "cell_type": "code",
   "execution_count": 163,
   "metadata": {},
   "outputs": [
    {
     "data": {
      "text/plain": [
       "(1.9179530190806878e-07, 0.08112582781456953)"
      ]
     },
     "execution_count": 163,
     "metadata": {},
     "output_type": "execute_result"
    }
   ],
   "source": [
    "OMb*hlittle*hlittle"
   ]
  },
  {
   "cell_type": "code",
   "execution_count": 282,
   "metadata": {},
   "outputs": [],
   "source": [
    "def setting_models(zeta, T_vir, R_mfp):\n",
    "    \"\"\"\n",
    "    compute set the reionization model and gain its history\n",
    "    -----------\n",
    "    Parameters:\n",
    "    -----------\n",
    "    zeta : the ionizating efficiency\n",
    "    T_vir : K, the virial temperature\n",
    "    R_mfp : Mpc, the maximum radius of ionized bubbles\n",
    "    --------\n",
    "    Returns:\n",
    "    --------\n",
    "    zeta_z_func : the normalized zeta with respect to the redshift\n",
    "    z_history, HI_history: the neutral fraction with respect to the redshift\n",
    "    z_dxHdz_history, dxHdz_history : the reionization speed dx_HI/dz with respect to the redshift \n",
    "    max_speed : the maximum reionization speed\n",
    "    turning_redshift : the redshift when the reionization speed reaches its maximum\n",
    "    \"\"\"\n",
    "    tick = time.time()\n",
    "    M_max = antisym_func.RtoM(R_mfp)\n",
    "    mu = 1.22 if T_vir < 9.99999e3 else 0.6\n",
    "    NUM = 60; z_zeta_interp_array = np.linspace(5.5, 16, NUM); zeta_z_interp_array = []\n",
    "    for i in range(NUM):\n",
    "        zeta_z_interp_array.append(antisym_func.zeta_z(z_zeta_interp_array[i], zeta, T_vir, mu))\n",
    "    zeta_z_func = interp1d(z_zeta_interp_array, zeta_z_interp_array, kind = 'cubic')\n",
    "    z_history = np.linspace(5.5, 16, 200); HI_history = [];\n",
    "    for z in z_history:\n",
    "        HI_history.append(1 - antisym_func.bar_Q(z, M_max, zeta_z_func, T_vir, mu, antisym_func.PARA_z(z, M_max, zeta_z_func, T_vir, mu)))\n",
    "    [z_dxHdz_history, dxHdz_history] = antisym_func.dxH_dz_cal(z_history, HI_history)\n",
    "    max_speed = max(dxHdz_history)\n",
    "    turning_redshift = z_dxHdz_history[dxHdz_history.index(max_speed)]  \n",
    "    print('history comuputation at zeta=%3.3g T_vir=%3.3g cost %3.3g seconds'%(zeta, T_vir, time.time() - tick))\n",
    "    return zeta_z_func, z_history, HI_history, z_dxHdz_history, dxHdz_history, max_speed, turning_redshift\n",
    "\n",
    "def tau(z_ion_he2, Delta_z_he2, z_history, HI_history):\n",
    "    \"\"\"\n",
    "    compute the optical depth of elctron scattering (eqn 85 in Planck 2018:VI)\n",
    "    -----------\n",
    "    Parameters:\n",
    "    -----------\n",
    "    z : redshift we are interested in\n",
    "    z_ion1, z_ion2 : the first and second helium reionization redshift, presumebly 3.5 and 7\n",
    "    Delta_z1, Delta_z2 : the duaration of the helium reionization period, roughly 0.5\n",
    "    z_history, HI_history: the neutral fraction with respect to the redshift\n",
    "    --------\n",
    "    Returns:\n",
    "    --------\n",
    "    x_e : the number density ratio of free electrons and hydrogen nuclei\n",
    "    \"\"\"\n",
    "    f_He = 0.0811 #the number density ratio of helium to hydrogen nuclei, from 21cmFAST-v1.3\n",
    "    #n_H0 = 1.91795e-07 #cm^(-3), from 21cmFAST-v1.3\n",
    "    n_H0 = 1.6e-07 #cm^(-3), the intergalactic medium hydrogen number density from https://ned.ipac.caltech.edu/level5/Madau6/Madau1_1.html\n",
    "    sigma_T = 6.6524e-25 #cm^2, Thomson scattering cross section\n",
    "    c_speed = 29979245800.0 #cm * s^(-1)\n",
    "    \n",
    "    #compute the he number density of free electrons from helium second ionization only and hydrogen nuclei\n",
    "    Y_z = lambda z: (1 + z)**1.5\n",
    "    Delta_y = lambda z, Delta_z: 1.5 * (1 + z)**0.5 * Delta_z\n",
    "    x_e_helium = lambda z, z_ion, Delta_z: \\\n",
    "        f_He / 2 * (1 + np.tanh((Y_z(z_ion) - Y_z(z)) / Delta_y(z_ion, Delta_z))) \n",
    "    #compute the he number density of free electrons from hydrogen ionization only and hydrogen nuclei\n",
    "    HI_func = interp1d(z_history, HI_history, kind = 'cubic')\n",
    "    def x_e_hydrogen(z):\n",
    "        if z < min(z_history): return 1\n",
    "        elif z > max(z_history): return 0\n",
    "        else:\n",
    "            return 1 - HI_func(z)\n",
    "        #+ x_e_helium(z, z_ion_he1, Delta_z_he1) \n",
    "    integrand = lambda z: (x_e_helium(z, z_ion_he2, Delta_z_he2) \\\n",
    "                          + (1+f_He) * x_e_hydrogen(z)) * (1 + z)**2 / (antisym_func.H_z(z) / 3.08567758128e19) #H(z) unit from km/s/Mpc to /s\n",
    "    return n_H0 * sigma_T * c_speed * integrate.quad(integrand, 0, 15, epsrel = 1e-3)[0]\n",
    "\n",
    "def model_constraint(max_speed_solution, tau_solution, zeta_assumed, T_vir_assumed,):\n",
    "    def model_computation(parameters, xtol = 0.0001):\n",
    "        zeta = parameters[0]; T_vir = parameters[1]\n",
    "        eta_z_func, z_history, HI_history, z_dxHdz_history, dxHdz_history, max_speed, turning_redshift \\\n",
    "            = setting_models(zeta, T_vir, 50)\n",
    "        HI_func = interp1d(z_history, HI_history, kind = 'cubic')\n",
    "        print('max_speed =', max_speed, 'tau =', tau_0)\n",
    "        return [max_speed - max_speed_solution, tau_0 - tau_solution]\n",
    "    return zeta, T_vir"
   ]
  },
  {
   "cell_type": "code",
   "execution_count": 280,
   "metadata": {},
   "outputs": [
    {
     "name": "stdout",
     "output_type": "stream",
     "text": [
      "history comuputation at zeta=21.3 T_vir=4.55e+04 cost 11.7 seconds\n",
      "max_speed = 0.3610148469072983 tau = 0.05206377272392308\n",
      "history comuputation at zeta=21.3 T_vir=4.55e+04 cost 11.4 seconds\n",
      "max_speed = 0.3610148469072983 tau = 0.05206377272392308\n",
      "history comuputation at zeta=21.3 T_vir=4.55e+04 cost 11.1 seconds\n",
      "max_speed = 0.3610148469072983 tau = 0.05206377272392308\n",
      "history comuputation at zeta=21.3 T_vir=4.55e+04 cost 11.2 seconds\n",
      "max_speed = 0.3610148473240668 tau = 0.052063772962460175\n",
      "history comuputation at zeta=21.3 T_vir=4.55e+04 cost 11.6 seconds\n",
      "max_speed = 0.361014847682254 tau = 0.05206377253305962\n",
      "history comuputation at zeta=20.9 T_vir=4.51e+04 cost 11.3 seconds\n",
      "max_speed = 0.3595818725336284 tau = 0.0518973268949805\n",
      "history comuputation at zeta= 21 T_vir=4.52e+04 cost 11.5 seconds\n",
      "max_speed = 0.36001224021493994 tau = 0.05190003099407966\n",
      "history comuputation at zeta= 21 T_vir=4.52e+04 cost 11.7 seconds\n",
      "max_speed = 0.36000105696931944 tau = 0.051900002609614984\n",
      "history comuputation at zeta= 21 T_vir=4.52e+04 cost 10.9 seconds\n",
      "max_speed = 0.36000011898083883 tau = 0.05189999997329316\n",
      "history comuputation at zeta= 21 T_vir=4.52e+04 cost 10.9 seconds\n",
      "max_speed = 0.36000000092997636 tau = 0.051900000004147115\n",
      "history comuputation at zeta= 21 T_vir=4.52e+04 cost 11.4 seconds\n",
      "max_speed = 0.3599999999900605 tau = 0.05189999999994964\n",
      "history comuputation at zeta= 21 T_vir=4.52e+04 cost 12.2 seconds\n",
      "max_speed = 0.35999999999661486 tau = 0.0519000000000044\n",
      "history comuputation at zeta= 21 T_vir=4.52e+04 cost 10.9 seconds\n",
      "max_speed = 0.36000000000072213 tau = 0.05189999999999589\n",
      "history comuputation at zeta= 21 T_vir=4.52e+04 cost 11.3 seconds\n"
     ]
    },
    {
     "data": {
      "text/plain": [
       "(20.98340348887699, 45229.77236884777)"
      ]
     },
     "execution_count": 280,
     "metadata": {},
     "output_type": "execute_result"
    }
   ],
   "source": [
    "model_constraint(0.36, 0.0519, 21.3, 4.55e4)"
   ]
  },
  {
   "cell_type": "code",
   "execution_count": 197,
   "metadata": {},
   "outputs": [
    {
     "data": {
      "text/plain": [
       "0.062409786940802535"
      ]
     },
     "execution_count": 197,
     "metadata": {},
     "output_type": "execute_result"
    }
   ],
   "source": [
    "tau(3.5, 0.5, z_history, HI_history)"
   ]
  },
  {
   "cell_type": "code",
   "execution_count": 283,
   "metadata": {},
   "outputs": [
    {
     "name": "stdout",
     "output_type": "stream",
     "text": [
      "history comuputation at zeta=21.3 T_vir=4.55e+04 cost 11.1 seconds\n",
      "tau = 0.05206377272392308 \n",
      " max_speed = 0.3610148469072983 z_turn =  6.8454773869346734\n",
      "x_HI(z=5.9) = 0.002030185132394465\n",
      "x_HI(z=11) = 0.9157179749585924\n"
     ]
    }
   ],
   "source": [
    "zeta_z_func, z_history, HI_history, z_dxHdz_history, dxHdz_history, max_speed, turning_redshift \\\n",
    "= setting_models(21.3 , 4.55e4, 50)\n",
    "print('tau =', tau(3.5, 0.5, z_history, HI_history), '\\n', 'max_speed =',max_speed,'z_turn = ', turning_redshift)\n",
    "HI_func = interp1d(z_history, HI_history, kind = 'cubic'); \n",
    "print('x_HI(z=5.9) =',HI_func(5.9)); print('x_HI(z=11) =',HI_func(11))"
   ]
  },
  {
   "cell_type": "code",
   "execution_count": 290,
   "metadata": {},
   "outputs": [
    {
     "data": {
      "text/plain": [
       "array([2.1477879])"
      ]
     },
     "execution_count": 290,
     "metadata": {},
     "output_type": "execute_result"
    }
   ],
   "source": [
    "fsolve(lambda z:HI_func(z) - 0.75, [7]) - fsolve(lambda z:HI_func(z) - 0.25, [7])"
   ]
  },
  {
   "cell_type": "code",
   "execution_count": 287,
   "metadata": {},
   "outputs": [
    {
     "ename": "KeyboardInterrupt",
     "evalue": "",
     "output_type": "error",
     "traceback": [
      "\u001b[0;31m---------------------------------------------------------------------------\u001b[0m",
      "\u001b[0;31mKeyboardInterrupt\u001b[0m                         Traceback (most recent call last)",
      "\u001b[0;32m<ipython-input-287-31ea17bd27e2>\u001b[0m in \u001b[0;36m<module>\u001b[0;34m\u001b[0m\n\u001b[1;32m      7\u001b[0m     \u001b[0mzeta\u001b[0m \u001b[0;34m=\u001b[0m \u001b[0mzeta_array\u001b[0m\u001b[0;34m[\u001b[0m\u001b[0mi\u001b[0m\u001b[0;34m]\u001b[0m\u001b[0;34m;\u001b[0m \u001b[0mT_vir\u001b[0m \u001b[0;34m=\u001b[0m \u001b[0mT_vir_array\u001b[0m\u001b[0;34m[\u001b[0m\u001b[0mi\u001b[0m\u001b[0;34m]\u001b[0m\u001b[0;34m\u001b[0m\u001b[0;34m\u001b[0m\u001b[0m\n\u001b[1;32m      8\u001b[0m     \u001b[0mzeta_z_func\u001b[0m\u001b[0;34m[\u001b[0m\u001b[0mi\u001b[0m\u001b[0;34m]\u001b[0m\u001b[0;34m,\u001b[0m \u001b[0mz_history\u001b[0m\u001b[0;34m[\u001b[0m\u001b[0mi\u001b[0m\u001b[0;34m]\u001b[0m\u001b[0;34m,\u001b[0m \u001b[0mHI_history\u001b[0m\u001b[0;34m[\u001b[0m\u001b[0mi\u001b[0m\u001b[0;34m]\u001b[0m\u001b[0;34m,\u001b[0m \u001b[0mz_dxHdz_history\u001b[0m\u001b[0;34m[\u001b[0m\u001b[0mi\u001b[0m\u001b[0;34m]\u001b[0m\u001b[0;34m,\u001b[0m \u001b[0mdxHdz_history\u001b[0m\u001b[0;34m[\u001b[0m\u001b[0mi\u001b[0m\u001b[0;34m]\u001b[0m\u001b[0;34m,\u001b[0m\u001b[0;31m \u001b[0m\u001b[0;31m\\\u001b[0m\u001b[0;34m\u001b[0m\u001b[0;34m\u001b[0m\u001b[0m\n\u001b[0;32m----> 9\u001b[0;31m         \u001b[0mmax_speed\u001b[0m\u001b[0;34m[\u001b[0m\u001b[0mi\u001b[0m\u001b[0;34m]\u001b[0m\u001b[0;34m,\u001b[0m \u001b[0mturning_redshift\u001b[0m\u001b[0;34m[\u001b[0m\u001b[0mi\u001b[0m\u001b[0;34m]\u001b[0m \u001b[0;34m=\u001b[0m \u001b[0msetting_models\u001b[0m\u001b[0;34m(\u001b[0m\u001b[0mzeta\u001b[0m\u001b[0;34m,\u001b[0m \u001b[0mT_vir\u001b[0m \u001b[0;34m*\u001b[0m \u001b[0;36m1e4\u001b[0m\u001b[0;34m,\u001b[0m \u001b[0;36m50\u001b[0m\u001b[0;34m)\u001b[0m\u001b[0;34m\u001b[0m\u001b[0;34m\u001b[0m\u001b[0m\n\u001b[0m\u001b[1;32m     10\u001b[0m \u001b[0;34m\u001b[0m\u001b[0m\n\u001b[1;32m     11\u001b[0m \u001b[0mplt\u001b[0m\u001b[0;34m.\u001b[0m\u001b[0mfigure\u001b[0m\u001b[0;34m(\u001b[0m\u001b[0mfigsize\u001b[0m\u001b[0;34m=\u001b[0m\u001b[0;34m(\u001b[0m\u001b[0;36m16\u001b[0m\u001b[0;34m,\u001b[0m\u001b[0;36m6\u001b[0m\u001b[0;34m)\u001b[0m\u001b[0;34m)\u001b[0m\u001b[0;34m\u001b[0m\u001b[0;34m\u001b[0m\u001b[0m\n",
      "\u001b[0;32m<ipython-input-282-16c57e1ec2b0>\u001b[0m in \u001b[0;36msetting_models\u001b[0;34m(zeta, T_vir, R_mfp)\u001b[0m\n\u001b[1;32m     22\u001b[0m     \u001b[0mNUM\u001b[0m \u001b[0;34m=\u001b[0m \u001b[0;36m60\u001b[0m\u001b[0;34m;\u001b[0m \u001b[0mz_zeta_interp_array\u001b[0m \u001b[0;34m=\u001b[0m \u001b[0mnp\u001b[0m\u001b[0;34m.\u001b[0m\u001b[0mlinspace\u001b[0m\u001b[0;34m(\u001b[0m\u001b[0;36m5.5\u001b[0m\u001b[0;34m,\u001b[0m \u001b[0;36m16\u001b[0m\u001b[0;34m,\u001b[0m \u001b[0mNUM\u001b[0m\u001b[0;34m)\u001b[0m\u001b[0;34m;\u001b[0m \u001b[0mzeta_z_interp_array\u001b[0m \u001b[0;34m=\u001b[0m \u001b[0;34m[\u001b[0m\u001b[0;34m]\u001b[0m\u001b[0;34m\u001b[0m\u001b[0;34m\u001b[0m\u001b[0m\n\u001b[1;32m     23\u001b[0m     \u001b[0;32mfor\u001b[0m \u001b[0mi\u001b[0m \u001b[0;32min\u001b[0m \u001b[0mrange\u001b[0m\u001b[0;34m(\u001b[0m\u001b[0mNUM\u001b[0m\u001b[0;34m)\u001b[0m\u001b[0;34m:\u001b[0m\u001b[0;34m\u001b[0m\u001b[0;34m\u001b[0m\u001b[0m\n\u001b[0;32m---> 24\u001b[0;31m         \u001b[0mzeta_z_interp_array\u001b[0m\u001b[0;34m.\u001b[0m\u001b[0mappend\u001b[0m\u001b[0;34m(\u001b[0m\u001b[0mantisym_func\u001b[0m\u001b[0;34m.\u001b[0m\u001b[0mzeta_z\u001b[0m\u001b[0;34m(\u001b[0m\u001b[0mz_zeta_interp_array\u001b[0m\u001b[0;34m[\u001b[0m\u001b[0mi\u001b[0m\u001b[0;34m]\u001b[0m\u001b[0;34m,\u001b[0m \u001b[0mzeta\u001b[0m\u001b[0;34m,\u001b[0m \u001b[0mT_vir\u001b[0m\u001b[0;34m,\u001b[0m \u001b[0mmu\u001b[0m\u001b[0;34m)\u001b[0m\u001b[0;34m)\u001b[0m\u001b[0;34m\u001b[0m\u001b[0;34m\u001b[0m\u001b[0m\n\u001b[0m\u001b[1;32m     25\u001b[0m     \u001b[0mzeta_z_func\u001b[0m \u001b[0;34m=\u001b[0m \u001b[0minterp1d\u001b[0m\u001b[0;34m(\u001b[0m\u001b[0mz_zeta_interp_array\u001b[0m\u001b[0;34m,\u001b[0m \u001b[0mzeta_z_interp_array\u001b[0m\u001b[0;34m,\u001b[0m \u001b[0mkind\u001b[0m \u001b[0;34m=\u001b[0m \u001b[0;34m'cubic'\u001b[0m\u001b[0;34m)\u001b[0m\u001b[0;34m\u001b[0m\u001b[0;34m\u001b[0m\u001b[0m\n\u001b[1;32m     26\u001b[0m     \u001b[0mz_history\u001b[0m \u001b[0;34m=\u001b[0m \u001b[0mnp\u001b[0m\u001b[0;34m.\u001b[0m\u001b[0mlinspace\u001b[0m\u001b[0;34m(\u001b[0m\u001b[0;36m5.5\u001b[0m\u001b[0;34m,\u001b[0m \u001b[0;36m16\u001b[0m\u001b[0;34m,\u001b[0m \u001b[0;36m200\u001b[0m\u001b[0;34m)\u001b[0m\u001b[0;34m;\u001b[0m \u001b[0mHI_history\u001b[0m \u001b[0;34m=\u001b[0m \u001b[0;34m[\u001b[0m\u001b[0;34m]\u001b[0m\u001b[0;34m;\u001b[0m\u001b[0;34m\u001b[0m\u001b[0;34m\u001b[0m\u001b[0m\n",
      "\u001b[0;32m~/Desktop/Today/antisym_observability/pycode/antisym_func.py\u001b[0m in \u001b[0;36mzeta_z\u001b[0;34m(z, zeta, T_vir, mu)\u001b[0m\n\u001b[1;32m    298\u001b[0m \u001b[0;31m#since the value in 21cmFAST was normalized to f_coll_st, we consider zeta(z) = zeta * f_coll_st / f_coll\u001b[0m\u001b[0;34m\u001b[0m\u001b[0;34m\u001b[0m\u001b[0;34m\u001b[0m\u001b[0m\n\u001b[1;32m    299\u001b[0m \u001b[0;32mdef\u001b[0m \u001b[0mzeta_z\u001b[0m\u001b[0;34m(\u001b[0m\u001b[0mz\u001b[0m\u001b[0;34m,\u001b[0m \u001b[0mzeta\u001b[0m\u001b[0;34m,\u001b[0m \u001b[0mT_vir\u001b[0m\u001b[0;34m,\u001b[0m \u001b[0mmu\u001b[0m\u001b[0;34m)\u001b[0m\u001b[0;34m:\u001b[0m\u001b[0;34m\u001b[0m\u001b[0;34m\u001b[0m\u001b[0m\n\u001b[0;32m--> 300\u001b[0;31m     \u001b[0;32mreturn\u001b[0m \u001b[0mzeta\u001b[0m \u001b[0;34m*\u001b[0m \u001b[0mf_coll_st\u001b[0m\u001b[0;34m(\u001b[0m\u001b[0mz\u001b[0m\u001b[0;34m,\u001b[0m\u001b[0mT_vir\u001b[0m\u001b[0;34m,\u001b[0m \u001b[0mmu\u001b[0m\u001b[0;34m)\u001b[0m \u001b[0;34m/\u001b[0m \u001b[0mf_coll\u001b[0m\u001b[0;34m(\u001b[0m\u001b[0mz\u001b[0m\u001b[0;34m,\u001b[0m \u001b[0mT_vir\u001b[0m\u001b[0;34m,\u001b[0m \u001b[0mmu\u001b[0m\u001b[0;34m)\u001b[0m\u001b[0;34m\u001b[0m\u001b[0;34m\u001b[0m\u001b[0m\n\u001b[0m\u001b[1;32m    301\u001b[0m \u001b[0;34m\u001b[0m\u001b[0m\n\u001b[1;32m    302\u001b[0m \u001b[0;31m#Set the barrier\u001b[0m\u001b[0;34m\u001b[0m\u001b[0;34m\u001b[0m\u001b[0;34m\u001b[0m\u001b[0m\n",
      "\u001b[0;32m~/Desktop/Today/antisym_observability/pycode/antisym_func.py\u001b[0m in \u001b[0;36mf_coll_st\u001b[0;34m(z, T, mu)\u001b[0m\n\u001b[1;32m    273\u001b[0m \u001b[0;32mdef\u001b[0m \u001b[0mf_coll_st\u001b[0m\u001b[0;34m(\u001b[0m\u001b[0mz\u001b[0m\u001b[0;34m,\u001b[0m \u001b[0mT\u001b[0m\u001b[0;34m,\u001b[0m \u001b[0mmu\u001b[0m\u001b[0;34m)\u001b[0m\u001b[0;34m:\u001b[0m\u001b[0;34m\u001b[0m\u001b[0;34m\u001b[0m\u001b[0m\n\u001b[1;32m    274\u001b[0m     \u001b[0mM_min\u001b[0m \u001b[0;34m=\u001b[0m \u001b[0mTtoM\u001b[0m\u001b[0;34m(\u001b[0m\u001b[0mz\u001b[0m\u001b[0;34m,\u001b[0m \u001b[0mT\u001b[0m\u001b[0;34m,\u001b[0m \u001b[0mmu\u001b[0m\u001b[0;34m)\u001b[0m\u001b[0;34m\u001b[0m\u001b[0;34m\u001b[0m\u001b[0m\n\u001b[0;32m--> 275\u001b[0;31m     \u001b[0mf_coll\u001b[0m \u001b[0;34m=\u001b[0m \u001b[0mFgtrM_st\u001b[0m\u001b[0;34m(\u001b[0m\u001b[0mz\u001b[0m\u001b[0;34m,\u001b[0m \u001b[0mM_min\u001b[0m\u001b[0;34m)\u001b[0m\u001b[0;34m\u001b[0m\u001b[0;34m\u001b[0m\u001b[0m\n\u001b[0m\u001b[1;32m    276\u001b[0m     \u001b[0;32mreturn\u001b[0m \u001b[0mf_coll\u001b[0m\u001b[0;34m\u001b[0m\u001b[0;34m\u001b[0m\u001b[0m\n\u001b[1;32m    277\u001b[0m \u001b[0mvec_f_coll_st\u001b[0m \u001b[0;34m=\u001b[0m \u001b[0mnp\u001b[0m\u001b[0;34m.\u001b[0m\u001b[0mvectorize\u001b[0m\u001b[0;34m(\u001b[0m\u001b[0mf_coll_st\u001b[0m\u001b[0;34m)\u001b[0m\u001b[0;34m\u001b[0m\u001b[0;34m\u001b[0m\u001b[0m\n",
      "\u001b[0;32m~/Desktop/Today/antisym_observability/pycode/antisym_func.py\u001b[0m in \u001b[0;36mFgtrM_st\u001b[0;34m(z, M)\u001b[0m\n\u001b[1;32m    267\u001b[0m     \u001b[0mlower_limit\u001b[0m \u001b[0;34m=\u001b[0m \u001b[0mnp\u001b[0m\u001b[0;34m.\u001b[0m\u001b[0mlog\u001b[0m\u001b[0;34m(\u001b[0m\u001b[0mM\u001b[0m\u001b[0;34m)\u001b[0m\u001b[0;34m\u001b[0m\u001b[0;34m\u001b[0m\u001b[0m\n\u001b[1;32m    268\u001b[0m     \u001b[0mupper_limit\u001b[0m \u001b[0;34m=\u001b[0m \u001b[0mnp\u001b[0m\u001b[0;34m.\u001b[0m\u001b[0mlog\u001b[0m\u001b[0;34m(\u001b[0m\u001b[0mmax\u001b[0m\u001b[0;34m(\u001b[0m\u001b[0;36m1e16\u001b[0m\u001b[0;34m,\u001b[0m \u001b[0mM\u001b[0m \u001b[0;34m*\u001b[0m \u001b[0;36m100\u001b[0m\u001b[0;34m)\u001b[0m\u001b[0;34m)\u001b[0m\u001b[0;34m\u001b[0m\u001b[0;34m\u001b[0m\u001b[0m\n\u001b[0;32m--> 269\u001b[0;31m     \u001b[0mresult\u001b[0m \u001b[0;34m=\u001b[0m \u001b[0mintegrate\u001b[0m\u001b[0;34m.\u001b[0m\u001b[0mquad\u001b[0m\u001b[0;34m(\u001b[0m\u001b[0mdFdlnM_st\u001b[0m\u001b[0;34m,\u001b[0m \u001b[0mlower_limit\u001b[0m\u001b[0;34m,\u001b[0m \u001b[0mupper_limit\u001b[0m\u001b[0;34m,\u001b[0m \u001b[0mepsrel\u001b[0m \u001b[0;34m=\u001b[0m \u001b[0;36m1e-3\u001b[0m\u001b[0;34m,\u001b[0m\u001b[0margs\u001b[0m \u001b[0;34m=\u001b[0m \u001b[0;34m(\u001b[0m\u001b[0mz\u001b[0m\u001b[0;34m)\u001b[0m\u001b[0;34m)\u001b[0m\u001b[0;34m\u001b[0m\u001b[0;34m\u001b[0m\u001b[0m\n\u001b[0m\u001b[1;32m    270\u001b[0m     \u001b[0;32mreturn\u001b[0m \u001b[0mresult\u001b[0m\u001b[0;34m[\u001b[0m\u001b[0;36m0\u001b[0m\u001b[0;34m]\u001b[0m \u001b[0;34m/\u001b[0m \u001b[0;34m(\u001b[0m\u001b[0mrho_bar\u001b[0m\u001b[0;34m)\u001b[0m\u001b[0;34m\u001b[0m\u001b[0;34m\u001b[0m\u001b[0m\n\u001b[1;32m    271\u001b[0m \u001b[0;34m\u001b[0m\u001b[0m\n",
      "\u001b[0;32m~/opt/anaconda3/lib/python3.8/site-packages/scipy/integrate/quadpack.py\u001b[0m in \u001b[0;36mquad\u001b[0;34m(func, a, b, args, full_output, epsabs, epsrel, limit, points, weight, wvar, wopts, maxp1, limlst)\u001b[0m\n\u001b[1;32m    349\u001b[0m \u001b[0;34m\u001b[0m\u001b[0m\n\u001b[1;32m    350\u001b[0m     \u001b[0;32mif\u001b[0m \u001b[0mweight\u001b[0m \u001b[0;32mis\u001b[0m \u001b[0;32mNone\u001b[0m\u001b[0;34m:\u001b[0m\u001b[0;34m\u001b[0m\u001b[0;34m\u001b[0m\u001b[0m\n\u001b[0;32m--> 351\u001b[0;31m         retval = _quad(func, a, b, args, full_output, epsabs, epsrel, limit,\n\u001b[0m\u001b[1;32m    352\u001b[0m                        points)\n\u001b[1;32m    353\u001b[0m     \u001b[0;32melse\u001b[0m\u001b[0;34m:\u001b[0m\u001b[0;34m\u001b[0m\u001b[0;34m\u001b[0m\u001b[0m\n",
      "\u001b[0;32m~/opt/anaconda3/lib/python3.8/site-packages/scipy/integrate/quadpack.py\u001b[0m in \u001b[0;36m_quad\u001b[0;34m(func, a, b, args, full_output, epsabs, epsrel, limit, points)\u001b[0m\n\u001b[1;32m    461\u001b[0m     \u001b[0;32mif\u001b[0m \u001b[0mpoints\u001b[0m \u001b[0;32mis\u001b[0m \u001b[0;32mNone\u001b[0m\u001b[0;34m:\u001b[0m\u001b[0;34m\u001b[0m\u001b[0;34m\u001b[0m\u001b[0m\n\u001b[1;32m    462\u001b[0m         \u001b[0;32mif\u001b[0m \u001b[0minfbounds\u001b[0m \u001b[0;34m==\u001b[0m \u001b[0;36m0\u001b[0m\u001b[0;34m:\u001b[0m\u001b[0;34m\u001b[0m\u001b[0;34m\u001b[0m\u001b[0m\n\u001b[0;32m--> 463\u001b[0;31m             \u001b[0;32mreturn\u001b[0m \u001b[0m_quadpack\u001b[0m\u001b[0;34m.\u001b[0m\u001b[0m_qagse\u001b[0m\u001b[0;34m(\u001b[0m\u001b[0mfunc\u001b[0m\u001b[0;34m,\u001b[0m\u001b[0ma\u001b[0m\u001b[0;34m,\u001b[0m\u001b[0mb\u001b[0m\u001b[0;34m,\u001b[0m\u001b[0margs\u001b[0m\u001b[0;34m,\u001b[0m\u001b[0mfull_output\u001b[0m\u001b[0;34m,\u001b[0m\u001b[0mepsabs\u001b[0m\u001b[0;34m,\u001b[0m\u001b[0mepsrel\u001b[0m\u001b[0;34m,\u001b[0m\u001b[0mlimit\u001b[0m\u001b[0;34m)\u001b[0m\u001b[0;34m\u001b[0m\u001b[0;34m\u001b[0m\u001b[0m\n\u001b[0m\u001b[1;32m    464\u001b[0m         \u001b[0;32melse\u001b[0m\u001b[0;34m:\u001b[0m\u001b[0;34m\u001b[0m\u001b[0;34m\u001b[0m\u001b[0m\n\u001b[1;32m    465\u001b[0m             \u001b[0;32mreturn\u001b[0m \u001b[0m_quadpack\u001b[0m\u001b[0;34m.\u001b[0m\u001b[0m_qagie\u001b[0m\u001b[0;34m(\u001b[0m\u001b[0mfunc\u001b[0m\u001b[0;34m,\u001b[0m\u001b[0mbound\u001b[0m\u001b[0;34m,\u001b[0m\u001b[0minfbounds\u001b[0m\u001b[0;34m,\u001b[0m\u001b[0margs\u001b[0m\u001b[0;34m,\u001b[0m\u001b[0mfull_output\u001b[0m\u001b[0;34m,\u001b[0m\u001b[0mepsabs\u001b[0m\u001b[0;34m,\u001b[0m\u001b[0mepsrel\u001b[0m\u001b[0;34m,\u001b[0m\u001b[0mlimit\u001b[0m\u001b[0;34m)\u001b[0m\u001b[0;34m\u001b[0m\u001b[0;34m\u001b[0m\u001b[0m\n",
      "\u001b[0;32m~/Desktop/Today/antisym_observability/pycode/antisym_func.py\u001b[0m in \u001b[0;36mdFdlnM_st\u001b[0;34m(lnM, z)\u001b[0m\n\u001b[1;32m    261\u001b[0m \u001b[0;32mdef\u001b[0m \u001b[0mdFdlnM_st\u001b[0m\u001b[0;34m(\u001b[0m\u001b[0mlnM\u001b[0m\u001b[0;34m,\u001b[0m\u001b[0mz\u001b[0m\u001b[0;34m)\u001b[0m\u001b[0;34m:\u001b[0m\u001b[0;34m\u001b[0m\u001b[0;34m\u001b[0m\u001b[0m\n\u001b[1;32m    262\u001b[0m     \u001b[0mM\u001b[0m \u001b[0;34m=\u001b[0m \u001b[0mnp\u001b[0m\u001b[0;34m.\u001b[0m\u001b[0mexp\u001b[0m\u001b[0;34m(\u001b[0m\u001b[0mlnM\u001b[0m\u001b[0;34m)\u001b[0m\u001b[0;34m\u001b[0m\u001b[0;34m\u001b[0m\u001b[0m\n\u001b[0;32m--> 263\u001b[0;31m     \u001b[0mresult\u001b[0m \u001b[0;34m=\u001b[0m \u001b[0mdNdM_st\u001b[0m\u001b[0;34m(\u001b[0m\u001b[0mz\u001b[0m\u001b[0;34m,\u001b[0m \u001b[0mM\u001b[0m\u001b[0;34m)\u001b[0m \u001b[0;34m*\u001b[0m \u001b[0mM\u001b[0m \u001b[0;34m*\u001b[0m \u001b[0mM\u001b[0m\u001b[0;34m\u001b[0m\u001b[0;34m\u001b[0m\u001b[0m\n\u001b[0m\u001b[1;32m    264\u001b[0m     \u001b[0;32mreturn\u001b[0m \u001b[0mresult\u001b[0m\u001b[0;34m\u001b[0m\u001b[0;34m\u001b[0m\u001b[0m\n\u001b[1;32m    265\u001b[0m \u001b[0;34m\u001b[0m\u001b[0m\n",
      "\u001b[0;32m~/Desktop/Today/antisym_observability/pycode/antisym_func.py\u001b[0m in \u001b[0;36mdNdM_st\u001b[0;34m(z, M)\u001b[0m\n\u001b[1;32m    254\u001b[0m \u001b[0;32mdef\u001b[0m \u001b[0mdNdM_st\u001b[0m\u001b[0;34m(\u001b[0m\u001b[0mz\u001b[0m\u001b[0;34m,\u001b[0m \u001b[0mM\u001b[0m\u001b[0;34m)\u001b[0m\u001b[0;34m:\u001b[0m\u001b[0;34m\u001b[0m\u001b[0;34m\u001b[0m\u001b[0m\n\u001b[1;32m    255\u001b[0m     \u001b[0mdicke_growth\u001b[0m \u001b[0;34m=\u001b[0m \u001b[0mdicke\u001b[0m\u001b[0;34m(\u001b[0m\u001b[0mz\u001b[0m\u001b[0;34m)\u001b[0m\u001b[0;34m;\u001b[0m\u001b[0;34m\u001b[0m\u001b[0;34m\u001b[0m\u001b[0m\n\u001b[0;32m--> 256\u001b[0;31m     \u001b[0msigma\u001b[0m \u001b[0;34m=\u001b[0m \u001b[0msigma_z0\u001b[0m\u001b[0;34m(\u001b[0m\u001b[0mM\u001b[0m\u001b[0;34m)\u001b[0m \u001b[0;34m*\u001b[0m \u001b[0mdicke_growth\u001b[0m\u001b[0;34m;\u001b[0m\u001b[0;34m\u001b[0m\u001b[0;34m\u001b[0m\u001b[0m\n\u001b[0m\u001b[1;32m    257\u001b[0m     \u001b[0mdsigmadm\u001b[0m \u001b[0;34m=\u001b[0m \u001b[0mdsigmasqdm_z0\u001b[0m\u001b[0;34m(\u001b[0m\u001b[0mM\u001b[0m\u001b[0;34m)\u001b[0m \u001b[0;34m*\u001b[0m \u001b[0mdicke_growth\u001b[0m\u001b[0;34m*\u001b[0m\u001b[0mdicke_growth\u001b[0m\u001b[0;34m/\u001b[0m\u001b[0;34m(\u001b[0m\u001b[0;36m2.0\u001b[0m\u001b[0;34m*\u001b[0m\u001b[0msigma\u001b[0m\u001b[0;34m)\u001b[0m\u001b[0;34m;\u001b[0m\u001b[0;34m\u001b[0m\u001b[0;34m\u001b[0m\u001b[0m\n\u001b[1;32m    258\u001b[0m     \u001b[0mnuhat\u001b[0m \u001b[0;34m=\u001b[0m \u001b[0;34m(\u001b[0m\u001b[0mSHETH_a\u001b[0m \u001b[0;34m**\u001b[0m \u001b[0;36m0.5\u001b[0m\u001b[0;34m)\u001b[0m \u001b[0;34m*\u001b[0m \u001b[0mdelta_c\u001b[0m \u001b[0;34m/\u001b[0m \u001b[0msigma\u001b[0m\u001b[0;34m;\u001b[0m\u001b[0;34m\u001b[0m\u001b[0;34m\u001b[0m\u001b[0m\n",
      "\u001b[0;32m~/Desktop/Today/antisym_observability/pycode/antisym_func.py\u001b[0m in \u001b[0;36msigma_z0\u001b[0;34m(M)\u001b[0m\n\u001b[1;32m    221\u001b[0m     \u001b[0mlower_limit\u001b[0m \u001b[0;34m=\u001b[0m \u001b[0mkstart\u001b[0m\u001b[0;34m\u001b[0m\u001b[0;34m\u001b[0m\u001b[0m\n\u001b[1;32m    222\u001b[0m     \u001b[0mupper_limit\u001b[0m \u001b[0;34m=\u001b[0m \u001b[0mkend\u001b[0m\u001b[0;34m\u001b[0m\u001b[0;34m\u001b[0m\u001b[0m\n\u001b[0;32m--> 223\u001b[0;31m     \u001b[0mresult\u001b[0m \u001b[0;34m=\u001b[0m \u001b[0mintegrate\u001b[0m\u001b[0;34m.\u001b[0m\u001b[0mquad\u001b[0m\u001b[0;34m(\u001b[0m\u001b[0mdsigma_dk\u001b[0m\u001b[0;34m,\u001b[0m \u001b[0mlower_limit\u001b[0m\u001b[0;34m,\u001b[0m \u001b[0mupper_limit\u001b[0m\u001b[0;34m,\u001b[0m \u001b[0mepsrel\u001b[0m \u001b[0;34m=\u001b[0m \u001b[0;36m1e-5\u001b[0m\u001b[0;34m,\u001b[0m \u001b[0margs\u001b[0m\u001b[0;34m=\u001b[0m\u001b[0;34m(\u001b[0m\u001b[0mR\u001b[0m\u001b[0;34m)\u001b[0m\u001b[0;34m)\u001b[0m\u001b[0;34m\u001b[0m\u001b[0;34m\u001b[0m\u001b[0m\n\u001b[0m\u001b[1;32m    224\u001b[0m     \u001b[0;32mreturn\u001b[0m \u001b[0msigma_norm\u001b[0m \u001b[0;34m*\u001b[0m \u001b[0;34m(\u001b[0m\u001b[0mresult\u001b[0m\u001b[0;34m[\u001b[0m\u001b[0;36m0\u001b[0m\u001b[0;34m]\u001b[0m \u001b[0;34m**\u001b[0m \u001b[0;36m0.5\u001b[0m\u001b[0;34m)\u001b[0m\u001b[0;34m\u001b[0m\u001b[0;34m\u001b[0m\u001b[0m\n\u001b[1;32m    225\u001b[0m \u001b[0;34m\u001b[0m\u001b[0m\n",
      "\u001b[0;32m~/opt/anaconda3/lib/python3.8/site-packages/scipy/integrate/quadpack.py\u001b[0m in \u001b[0;36mquad\u001b[0;34m(func, a, b, args, full_output, epsabs, epsrel, limit, points, weight, wvar, wopts, maxp1, limlst)\u001b[0m\n\u001b[1;32m    349\u001b[0m \u001b[0;34m\u001b[0m\u001b[0m\n\u001b[1;32m    350\u001b[0m     \u001b[0;32mif\u001b[0m \u001b[0mweight\u001b[0m \u001b[0;32mis\u001b[0m \u001b[0;32mNone\u001b[0m\u001b[0;34m:\u001b[0m\u001b[0;34m\u001b[0m\u001b[0;34m\u001b[0m\u001b[0m\n\u001b[0;32m--> 351\u001b[0;31m         retval = _quad(func, a, b, args, full_output, epsabs, epsrel, limit,\n\u001b[0m\u001b[1;32m    352\u001b[0m                        points)\n\u001b[1;32m    353\u001b[0m     \u001b[0;32melse\u001b[0m\u001b[0;34m:\u001b[0m\u001b[0;34m\u001b[0m\u001b[0;34m\u001b[0m\u001b[0m\n",
      "\u001b[0;32m~/opt/anaconda3/lib/python3.8/site-packages/scipy/integrate/quadpack.py\u001b[0m in \u001b[0;36m_quad\u001b[0;34m(func, a, b, args, full_output, epsabs, epsrel, limit, points)\u001b[0m\n\u001b[1;32m    461\u001b[0m     \u001b[0;32mif\u001b[0m \u001b[0mpoints\u001b[0m \u001b[0;32mis\u001b[0m \u001b[0;32mNone\u001b[0m\u001b[0;34m:\u001b[0m\u001b[0;34m\u001b[0m\u001b[0;34m\u001b[0m\u001b[0m\n\u001b[1;32m    462\u001b[0m         \u001b[0;32mif\u001b[0m \u001b[0minfbounds\u001b[0m \u001b[0;34m==\u001b[0m \u001b[0;36m0\u001b[0m\u001b[0;34m:\u001b[0m\u001b[0;34m\u001b[0m\u001b[0;34m\u001b[0m\u001b[0m\n\u001b[0;32m--> 463\u001b[0;31m             \u001b[0;32mreturn\u001b[0m \u001b[0m_quadpack\u001b[0m\u001b[0;34m.\u001b[0m\u001b[0m_qagse\u001b[0m\u001b[0;34m(\u001b[0m\u001b[0mfunc\u001b[0m\u001b[0;34m,\u001b[0m\u001b[0ma\u001b[0m\u001b[0;34m,\u001b[0m\u001b[0mb\u001b[0m\u001b[0;34m,\u001b[0m\u001b[0margs\u001b[0m\u001b[0;34m,\u001b[0m\u001b[0mfull_output\u001b[0m\u001b[0;34m,\u001b[0m\u001b[0mepsabs\u001b[0m\u001b[0;34m,\u001b[0m\u001b[0mepsrel\u001b[0m\u001b[0;34m,\u001b[0m\u001b[0mlimit\u001b[0m\u001b[0;34m)\u001b[0m\u001b[0;34m\u001b[0m\u001b[0;34m\u001b[0m\u001b[0m\n\u001b[0m\u001b[1;32m    464\u001b[0m         \u001b[0;32melse\u001b[0m\u001b[0;34m:\u001b[0m\u001b[0;34m\u001b[0m\u001b[0;34m\u001b[0m\u001b[0m\n\u001b[1;32m    465\u001b[0m             \u001b[0;32mreturn\u001b[0m \u001b[0m_quadpack\u001b[0m\u001b[0;34m.\u001b[0m\u001b[0m_qagie\u001b[0m\u001b[0;34m(\u001b[0m\u001b[0mfunc\u001b[0m\u001b[0;34m,\u001b[0m\u001b[0mbound\u001b[0m\u001b[0;34m,\u001b[0m\u001b[0minfbounds\u001b[0m\u001b[0;34m,\u001b[0m\u001b[0margs\u001b[0m\u001b[0;34m,\u001b[0m\u001b[0mfull_output\u001b[0m\u001b[0;34m,\u001b[0m\u001b[0mepsabs\u001b[0m\u001b[0;34m,\u001b[0m\u001b[0mepsrel\u001b[0m\u001b[0;34m,\u001b[0m\u001b[0mlimit\u001b[0m\u001b[0;34m)\u001b[0m\u001b[0;34m\u001b[0m\u001b[0;34m\u001b[0m\u001b[0m\n",
      "\u001b[0;32m~/Desktop/Today/antisym_observability/pycode/antisym_func.py\u001b[0m in \u001b[0;36mdsigma_dk\u001b[0;34m(k, R)\u001b[0m\n\u001b[1;32m    124\u001b[0m         \u001b[0mT\u001b[0m \u001b[0;34m*=\u001b[0m \u001b[0mpow\u001b[0m\u001b[0;34m(\u001b[0m\u001b[0;36m1\u001b[0m \u001b[0;34m+\u001b[0m \u001b[0mpow\u001b[0m\u001b[0;34m(\u001b[0m\u001b[0mBODE_e\u001b[0m\u001b[0;34m*\u001b[0m\u001b[0mk\u001b[0m\u001b[0;34m*\u001b[0m\u001b[0mR_CUTOFF\u001b[0m\u001b[0;34m,\u001b[0m \u001b[0;36m2\u001b[0m\u001b[0;34m*\u001b[0m\u001b[0mBODE_v\u001b[0m\u001b[0;34m)\u001b[0m\u001b[0;34m,\u001b[0m \u001b[0;34m-\u001b[0m\u001b[0mBODE_n\u001b[0m\u001b[0;34m/\u001b[0m\u001b[0mBODE_v\u001b[0m\u001b[0;34m)\u001b[0m\u001b[0;34m\u001b[0m\u001b[0;34m\u001b[0m\u001b[0m\n\u001b[1;32m    125\u001b[0m     \u001b[0mp\u001b[0m \u001b[0;34m=\u001b[0m \u001b[0mpow\u001b[0m\u001b[0;34m(\u001b[0m\u001b[0mk\u001b[0m\u001b[0;34m,\u001b[0m \u001b[0mPOWER_INDEX\u001b[0m\u001b[0;34m)\u001b[0m \u001b[0;34m*\u001b[0m \u001b[0mT\u001b[0m \u001b[0;34m*\u001b[0m \u001b[0mT\u001b[0m\u001b[0;34m;\u001b[0m\u001b[0;34m\u001b[0m\u001b[0;34m\u001b[0m\u001b[0m\n\u001b[0;32m--> 126\u001b[0;31m     \u001b[0mkR\u001b[0m \u001b[0;34m=\u001b[0m \u001b[0mk\u001b[0m\u001b[0;34m*\u001b[0m\u001b[0mR\u001b[0m\u001b[0;34m;\u001b[0m\u001b[0;34m\u001b[0m\u001b[0;34m\u001b[0m\u001b[0m\n\u001b[0m\u001b[1;32m    127\u001b[0m     \u001b[0;32mif\u001b[0m \u001b[0;34m(\u001b[0m \u001b[0;34m(\u001b[0m\u001b[0mFILTER\u001b[0m \u001b[0;34m==\u001b[0m \u001b[0;36m0\u001b[0m\u001b[0;34m)\u001b[0m \u001b[0;32mor\u001b[0m \u001b[0;34m(\u001b[0m\u001b[0msigma_norm\u001b[0m \u001b[0;34m<\u001b[0m \u001b[0;36m0\u001b[0m\u001b[0;34m)\u001b[0m \u001b[0;34m)\u001b[0m\u001b[0;34m:\u001b[0m\u001b[0;31m# top hat\u001b[0m\u001b[0;34m\u001b[0m\u001b[0;34m\u001b[0m\u001b[0m\n\u001b[1;32m    128\u001b[0m         \u001b[0;32mif\u001b[0m \u001b[0;34m(\u001b[0m \u001b[0;34m(\u001b[0m\u001b[0mkR\u001b[0m\u001b[0;34m)\u001b[0m \u001b[0;34m<\u001b[0m \u001b[0;36m1.0e-4\u001b[0m \u001b[0;34m)\u001b[0m\u001b[0;34m:\u001b[0m\u001b[0;34m\u001b[0m\u001b[0;34m\u001b[0m\u001b[0m\n",
      "\u001b[0;31mKeyboardInterrupt\u001b[0m: "
     ]
    }
   ],
   "source": [
    "#plot the reionization history of group 2\n",
    "zeta_z_func, z_history, HI_history, z_dxHdz_history, dxHdz_history, max_speed, turning_redshift = \\\n",
    "[0,0,0], [0,0,0], [0,0,0], [0,0,0], [0,0,0], [0,0,0], [0,0,0]\n",
    "zeta_array = [17.1, 21.3, 23.7]; T_vir_array = [5.55, 4.55, 4.05]\n",
    "tau_array = [0.0465, 0.0519, 0.0549]\n",
    "for i in range(3):\n",
    "    zeta = zeta_array[i]; T_vir = T_vir_array[i]\n",
    "    zeta_z_func[i], z_history[i], HI_history[i], z_dxHdz_history[i], dxHdz_history[i], \\\n",
    "        max_speed[i], turning_redshift[i] = setting_models(zeta, T_vir * 1e4, 50)\n",
    "\n",
    "plt.figure(figsize=(16,6))\n",
    "FONTSIZE = 24\n",
    "ax1 = plt.subplot(221, position=[0,1,0.46,0.5])\n",
    "max_dxHdz_array = [0.33, 0.36, 0.39, 0.42]\n",
    "colorlist=['#1CBFC0', '#634CBC', '#DA4267', '#F87D31']; stylelist = ['-', '--', '-.']\n",
    "ax1.tick_params(direction='in',length=3)\n",
    "for i in range(3):\n",
    "    ax1.plot(z_history[i], HI_history[i], color = colorlist[i], lw=1, label=r'$\\tau = %4.4g $'%(tau_array[i]))\n",
    "ax1.legend(fontsize=18, loc = 2)\n",
    "ax1.set_ylabel(r'$\\bar{x}_{\\mathrm{HI}}$',fontsize=FONTSIZE)\n",
    "ax1.set_ylim(0,1)\n",
    "ax1.set_xlim(5.6,9)\n",
    "ax1.set_xticks([6,7,8,9,10,11])\n",
    "ax1.set_xticklabels([])\n",
    "\n",
    "ax2 = plt.subplot(223, position=[0,0.5,0.46,0.5])\n",
    "for i in range(3):\n",
    "    ax2.plot(z_dxHdz_history[i], dxHdz_history[i], color = colorlist[i], lw=1)\n",
    "ax2.set_ylim(0.0,0.46); ax2.set_xlim(5.8,11.2)\n",
    "ax2.set_ylabel(r'd$\\bar{x}_{\\mathrm{HI}}$/dz',fontsize=FONTSIZE)\n",
    "ax2.set_xlabel('z',fontsize=FONTSIZE)\n",
    "ax2.tick_params(direction='in',length=3)\n",
    "ax2.set_xticks([6,7,8,9,10,11])\n",
    "ax2.set_xticklabels(['6','7','8','9','10','11'])\n",
    "ax2.set_xlim(5.6,9)\n",
    "\n",
    "ax3 = plt.subplot(122, position=[0.54,0.5,0.46,1])\n",
    "lwlist = [1.3, 0.8, 0.3]\n",
    "for i in range(3):\n",
    "    ax3.plot(HI_history[i][:-1], dxHdz_history[i], color = colorlist[i], lw=lwlist[i])\n",
    "ax3.set_ylabel(r'd$\\bar{x}_{\\mathrm{HI}}$/dz',fontsize=FONTSIZE)\n",
    "ax3.set_xlabel(r'$\\bar{x}_\\mathrm{HI}$',fontsize=FONTSIZE)\n",
    "ax3.tick_params(direction='in',length=3)\n",
    "ax3.text(0.6, 0.3, 'group 2', fontsize = 25)\n",
    "plt.savefig('../figures/history_groups_20230221.png', bbox_inches = 'tight', dpi=400)"
   ]
  },
  {
   "cell_type": "code",
   "execution_count": null,
   "metadata": {},
   "outputs": [],
   "source": []
  }
 ],
 "metadata": {
  "kernelspec": {
   "display_name": "Python 3",
   "language": "python",
   "name": "python3"
  },
  "language_info": {
   "codemirror_mode": {
    "name": "ipython",
    "version": 3
   },
   "file_extension": ".py",
   "mimetype": "text/x-python",
   "name": "python",
   "nbconvert_exporter": "python",
   "pygments_lexer": "ipython3",
   "version": "3.8.5"
  }
 },
 "nbformat": 4,
 "nbformat_minor": 4
}
