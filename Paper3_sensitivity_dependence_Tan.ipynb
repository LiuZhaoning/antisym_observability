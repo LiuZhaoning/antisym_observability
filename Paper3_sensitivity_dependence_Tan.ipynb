{
 "cells": [
  {
   "cell_type": "code",
   "execution_count": 19,
   "metadata": {},
   "outputs": [],
   "source": [
    "#compute the sensitivity denpendence on the survey area and the observation time\n",
    "import numpy as np\n",
    "import matplotlib \n",
    "from matplotlib import pyplot as plt\n",
    "from scipy.interpolate import interp1d, interp2d\n",
    "import time\n",
    "import os\n",
    "\n",
    "import antisym_func\n",
    "import error_bar #Tan\n",
    "\n",
    "plt.rcParams['xtick.direction'] = 'in'\n",
    "plt.rcParams['ytick.direction'] = 'in'"
   ]
  },
  {
   "cell_type": "code",
   "execution_count": 29,
   "metadata": {},
   "outputs": [],
   "source": [
    "#calculate the Pk_A for certain models at input redshift array\n",
    "def read_model_data(DIR, zeta, T_vir, R_mfp, SMOOTHING_SCALE):\n",
    "    #read in the normalized zeta\n",
    "    DIR_zeta = DIR + '/zeta%05.5g_Tvir%05.5g_Rmfp%05.5g_SMO%03.3g/normalized_zeta.npz'%(zeta, T_vir, R_mfp, SMOOTHING_SCALE)\n",
    "    if os.path.exists(DIR_zeta): \n",
    "        data = np.load(DIR_zeta)\n",
    "        z_zeta_interp_array = data['z']; zeta_z_interp_array = data['zeta_z']\n",
    "        zeta_z_func = interp1d(z_zeta_interp_array, zeta_z_interp_array, kind = 'cubic')\n",
    "    else:\n",
    "        print('file %s not found'%DIR_zeta); sys.exit()\n",
    "        \n",
    "    #read in the history of HI fraction and dx_HI/dz\n",
    "    DIR_history = DIR + '/zeta%05.5g_Tvir%05.5g_Rmfp%05.5g_SMO%03.3g/history.npz'%(zeta, T_vir, R_mfp, SMOOTHING_SCALE)\n",
    "    if os.path.exists(DIR_history):\n",
    "        data = np.load(DIR_history)\n",
    "        z_array_history = list(data['z_array_history']); HI_history = list(data['HI_history'])\n",
    "        z_dxHdz_history = list(data['z_dxHdz_history']); dxHdz_history = list(data['dxHdz_history'])\n",
    "    else:\n",
    "        print('file %s not found'%DIR_history); sys.exit()\n",
    "    \n",
    "    #read in the average density of the neutral region\n",
    "    DIR_rhoHI = DIR + '/zeta%05.5g_Tvir%05.5g_Rmfp%05.5g_SMO%03.3g/rhoHI_over_rho0.npz'%(zeta, T_vir, R_mfp, SMOOTHING_SCALE)\n",
    "    if os.path.exists(DIR_rhoHI):\n",
    "        data = np.load(DIR_rhoHI)\n",
    "        z_array_HIrho = list(data['z_array_HIrho']); rhoHI_over_rho0_array = list(data['rhoHI_over_rho0_array'])\n",
    "        HIrho_over_rho0_interp = interp1d(z_array_HIrho, rhoHI_over_rho0_array, kind = 'cubic')\n",
    "    else:\n",
    "        print('file %s not found'%DIR_rhoHI); sys.exit()\n",
    "    \n",
    "    #load in the Bubble mass functions\n",
    "    DIR_BMF = DIR + '/zeta%05.5g_Tvir%05.5g_Rmfp%05.5g_SMO%03.3g/BMF_map.npz'%(zeta, T_vir, R_mfp, SMOOTHING_SCALE)\n",
    "    if os.path.exists(DIR_BMF):\n",
    "        data = np.load(DIR_BMF)\n",
    "        z_grid = list(data['z_grid']); m_grid = list(data['m_grid']); BMF_map = list(data['BMF_map'])       \n",
    "        BMF_interp = interp2d(m_grid, z_grid, BMF_map, kind = 'cubic')\n",
    "    else:\n",
    "        print('file %s not found'%DIR_BMF); sys.exit()\n",
    "    \n",
    "    #load in the unsmoothed antisymmetric cross-correlation data\n",
    "    DIR_xiHICO = DIR + '/zeta%05.5g_Tvir%05.5g_Rmfp%05.5g_SMO%03.3g/xi_A_HICO_unsmoothed_map.npz'%(zeta, T_vir, R_mfp, SMOOTHING_SCALE)\n",
    "    if os.path.exists(DIR_xiHICO):\n",
    "        data = np.load(DIR_xiHICO)\n",
    "        z_grid = list(data['z_grid']); r12_grid = list(data['r12_grid']); xi_A_HICO_map = list(data['xi_A_HICO_map'])       \n",
    "        xi_A_HICO_unsmoothed_interp = interp2d(r12_grid, z_grid, xi_A_HICO_map, kind = 'cubic')\n",
    "    else:\n",
    "        print('file %s not found'%DIR_xiHICO); sys.exit()\n",
    "    return zeta_z_func, z_array_history, HI_history, z_dxHdz_history, dxHdz_history, HIrho_over_rho0_interp, \\\n",
    "            BMF_interp, xi_A_HICO_unsmoothed_interp\n",
    "\n",
    "def observation_parameters(z, NUM_PATCH, t_int, SMOOTHING_Pk, MEASUREMENT):\n",
    "    \"\"\"\n",
    "    set the parameters for observation\n",
    "    -----------\n",
    "    Parameters:\n",
    "    -----------\n",
    "    z : redshift\n",
    "    NUM_PATCH : number of observation boxes\n",
    "    t_int : seconds, the observation time for the two lines\n",
    "    MEASUREMENT: 0, 1, 2 for SKA1, SKA2 and SKA2-advanced\n",
    "    \"\"\"\n",
    "    #set the parameters\n",
    "    Tsys_21 = 280. * ( (1. + z) / 7.4 )**(2.3) * 1e6 # muK\n",
    "    Tsys_CO = 25 * 1e6 # muK\n",
    "    D_21 = 35; D_CO = 15 # meter \n",
    "    Omega_beam_21 = (1.22 * error_bar.lambda_21 * (1 + z) / D_21 ) ** 2\n",
    "    Omega_beam_CO = (1.22 * error_bar.lambda_CO * (1 + z) / D_CO ) ** 2 # radians\n",
    "    delta_nu_21 = 5.4e-3; delta_nu_CO = 79.3e-3 #MHz\n",
    "    \n",
    "    #set the Parameters of telescopes\n",
    "    if MEASUREMENT == 0: #parameters of SKA1 \n",
    "        N_feeds_21 = 2 # num of polarizations\n",
    "        N_feeds_CO = 197 * 2 # num of antennas * num of polarizations\n",
    "        L_min_21 = 60; L_max_21 = 1000 #m\n",
    "    elif MEASUREMENT == 1: #parameters of SKA2\n",
    "        N_feeds_21 = 2 * 4 # fourtimes of the antennas than SKA1-low\n",
    "        N_feeds_CO = 1970 * 2 # num of antennas * num of polarizations\n",
    "        L_min_21 = 34; L_max_21 = 1000\n",
    "    elif MEASUREMENT == 2: #parameters of SKA2-advanced\n",
    "        N_feeds_21 = 2 * 4 # fourtimes of the antennas than SKA1-low\n",
    "        N_feeds_CO = 4925 * 2 # num of antennas * num of polarizations\n",
    "        L_min_21 = 34; L_max_21 = 1000\n",
    "    \n",
    "    #SMOOTHING_Pk defines the box size\n",
    "    Omega_patch = (SMOOTHING_Pk * antisym_func.hlittle / error_bar.X(z)) ** 2\n",
    "    Omega_survey = NUM_PATCH * Omega_patch\n",
    "    delta_D = SMOOTHING_Pk * antisym_func.hlittle \n",
    "    return Omega_patch, NUM_PATCH, Tsys_CO, Tsys_21, Omega_beam_CO, Omega_beam_21, delta_nu_CO, \\\n",
    "            delta_nu_21, N_feeds_CO, N_feeds_21, t_int, t_int, delta_D, L_min_21, L_max_21"
   ]
  },
  {
   "cell_type": "code",
   "execution_count": 84,
   "metadata": {},
   "outputs": [],
   "source": [
    "def variance_computation(z_index, z_acc_array, dxHdz_acc_array, kh_array, Pk_A_acc_map, MODEL_PARA, DETECTION_PARA, MEASUREMENT):\n",
    "    \"\"\"\n",
    "    compute the variance and the detection confidence\n",
    "    we compute only when k > 0.14 h/Mpc\n",
    "    -----------\n",
    "    Parameters:\n",
    "    -----------\n",
    "    z_index : an index to indicate the redshift we are interested in the array below\n",
    "    z_acc_array : an array containing redshifts correspondent to the computed dipole\n",
    "    dxHdz_acc_array : an array containing reionization speed dxH/dz correspondent to the computed dipole\n",
    "    Pk_A_acc_map : [dxHdz][kh], a 2-d matrix containing the computed dipole in the acceleration stage\n",
    "    NUM_PATCH : number of observation patches\n",
    "    ---\n",
    "    DETECTION_PARA :\n",
    "    t_int : seconds, detection time\n",
    "    SMOOTHING_Pk : Mpc, box length of each detection box\n",
    "    MEASUREMENT: 0, 1, 2 for SKA1, SKA2 and SKA2-advanced\n",
    "    \"\"\"\n",
    "    tick = time.time()\n",
    "    \n",
    "    NUM_PATCH, t_int, SMOOTHING_Pk = DETECTION_PARA\n",
    "    zeta, T_vir, R_mfp, zeta_z_func, z_HI_ana, HI_ana, z_dxHdz_ana, dxHdz_ana, HIrho_over_rho0_interp, \\\n",
    "        BMF_interp, xi_A_HICO_unsmoothed_interp = MODEL_PARA\n",
    "    M_max = antisym_func.RtoM(R_mfp)\n",
    "    z = z_acc_array[z_index]; dxHdz = dxHdz_acc_array[z_index]\n",
    "    HI_func = interp1d(z_HI_ana, HI_ana, kind = 'cubic')\n",
    "    x_HI = HI_func(z)\n",
    "    #we consider only when k > 0.14 h/Mpc\n",
    "    kh_array = kh_array[3:]\n",
    "    Pk_A_acc = Pk_A_acc_map[z_index][3:]\n",
    "    Pk_A_acc_var = []; S_over_N = []\n",
    "    \n",
    "    #compute the variance of the fiducial condition\n",
    "    r12_limit = 150; r12_grid = np.zeros(100); r12_grid[0:30] = np.linspace(0.1, 5, 30)\n",
    "    r12_grid[30:100] = np.linspace(5, r12_limit, 71)[1:71]\n",
    "    \n",
    "    #set the observation parameters\n",
    "    Omega_patch, NUM_PATCH, Tsys_CO, Tsys_21, Omega_beam_CO, Omega_beam_21, delta_nu_CO, delta_nu_21, Nfeeds_CO, \\\n",
    "        Nfeeds_21, t_int_CO, t_int_21, delta_D, L_min_21, L_max_21 = observation_parameters(z, NUM_PATCH, t_int, SMOOTHING_Pk, MEASUREMENT)\n",
    "    \n",
    "    xi_S_HICO_array = []; xi_auto_21_array = []\n",
    "    for r12 in r12_grid:\n",
    "        xi_S_HICO_array.append(antisym_func.xi_S_HICO(z, r12, zeta_z_func, HIrho_over_rho0_interp, lambda m: BMF_interp(m, z), M_max, T_vir, mu))\n",
    "        xi_auto_21_array.append(antisym_func.xi_auto_21(z, r12, zeta_z_func, HIrho_over_rho0_interp, lambda m: BMF_interp(m, z), M_max, T_vir, mu))    \n",
    "    xi_S_HICO_func = interp1d(r12_grid, xi_S_HICO_array, kind = 'cubic')\n",
    "    xi_auto_21_func = interp1d(r12_grid, xi_auto_21_array, kind = 'cubic')\n",
    "    for kh_index in range(len(kh_array)):\n",
    "        kh = kh_array[kh_index] # h/Mpc\n",
    "        delta_kh = kh*0.1\n",
    "        k = kh * antisym_func.hlittle # /Mpc\n",
    "        P_CO_ana = antisym_func.Pk_auto_CO(z, k, T_vir, mu)\n",
    "        P_21_ana = antisym_func.Pk_S(k, xi_auto_21_func, min(r12_grid), max(r12_grid))\n",
    "        P_sym_ana = antisym_func.Pk_S(k, xi_S_HICO_func, min(r12_grid), max(r12_grid))\n",
    "        Pk_A_acc_var.append(error_bar.VAR_PA_k(kh, delta_kh, z, Omega_patch, NUM_PATCH, Tsys_CO, Tsys_21, \\\n",
    "            Omega_beam_CO, Omega_beam_21, delta_nu_CO, delta_nu_21, Nfeeds_CO, Nfeeds_21, t_int_CO, \\\n",
    "            t_int_21, delta_D, L_min_21, L_max_21, P_CO_ana, P_21_ana, P_sym_ana, Pk_A_acc[kh_index])[0])\n",
    "        S_over_N.append(abs(Pk_A_acc[kh_index]) / Pk_A_acc_var[kh_index])\n",
    "                #print(error_auto_CO_map[-1][-1], error_auto_21_map[-1][-1])\n",
    "        #print('%03.3g, %03.3g, %03.3g, %03.3g, %03.3g, %03.3g, %03.3g'%(z, kh, error_auto_CO_map[-1][-1][0], error_auto_21_map[-1][-1][0], error_PkA_HICO_map[-1][-1][0], error_PkS_HICO_map[-1][-1][0], VAR_PkA_map[-1][-1]))\n",
    "\n",
    "    #compute the confidence\n",
    "    square_sum = np.sum(np.array(S_over_N)**2)\n",
    "    free_degree = len(S_over_N)-1\n",
    "    confidence = error_bar.significance_level(square_sum, free_degree)\n",
    "    kh_min = kh_array[0]; kh_max = kh_array[free_degree]\n",
    "    while free_degree > 1:\n",
    "        square_sum -= S_over_N[free_degree]**2\n",
    "        free_degree -= 1 \n",
    "        temp_confidence = error_bar.significance_level(square_sum, free_degree)\n",
    "        #print(square_sum, free_degree, temp_confidence)\n",
    "        if (temp_confidence > confidence):\n",
    "            confidence = temp_confidence\n",
    "            kh_max = kh_array[free_degree]\n",
    "        #print('%3.3g, %3.3g, %3.3g'%(Pk_A_acc_map_var[i][j][3][4] / Pk_A_acc_map[i][j][3][4] ))\n",
    "    print('the confidence at z = %3.3g, x_HI = %3.3g, dxH/dz = %3.3g (acceleration) is %3.3g'%(z, x_HI, dxHdz, confidence))\n",
    "    print('the conputation cost %3.3g mins'%((time.time() - tick) / 60))\n",
    "    #print('Variance computation at dxH/dz = %3.3g (acceleration) cost %3.3g mins'%(dxHdz, (time.time() - tick) / 60))\n",
    "    return Pk_A_acc, Pk_A_acc_var, S_over_N, kh_min, kh_max, confidence\n"
   ]
  },
  {
   "cell_type": "code",
   "execution_count": 104,
   "metadata": {},
   "outputs": [],
   "source": [
    "#the fiducial parameters\n",
    "zeta = 22.02; T_vir = 4.33e4; R_mfp = 50; SMOOTHING_SCALE = 384; SMOOTHING_Pk = 384\n",
    "mu = 1.22 if T_vir < 9.99999e3 else 0.6\n",
    "M_max = antisym_func.RtoM(R_mfp)\n",
    "\n",
    "#read in the Pk_A_HICO data\n",
    "DIR_read = '/Users/liuzhaoning/Desktop/Today/antisym_observability/data/antisym_observability/data_model_independent_constraint_test/Pk_A_group_class/'\n",
    "\n",
    "kh_array = np.logspace(np.log10(0.1),np.log10(0.6), 16)\n",
    "k_array = kh_array * antisym_func.hlittle\n",
    "\n",
    "data = np.load(DIR_read + 'zeta%05.5g_Tvir%05.5g_Rmfp%05.5g_SMO%03.3g/Pk_A_acc_array.npz'%(zeta, T_vir, R_mfp, SMOOTHING_Pk))\n",
    "z_acc_array = list(data['z_xi_acc_smoothed_array']); dxHdz_acc_array = list(data['dxHdz_xi_acc_smoothed_array'])\n",
    "Pk_A_acc_map = list(data['Pk_A_acc_map'])\n",
    "\n",
    "#read in the history, the real space cross-correlation data\n",
    "DIR = '/Users/liuzhaoning/Desktop/Today/antisym_observability/data/antisym_observability/data_model_independent_constraint_test/xi_A_HICO'\n",
    "zeta_z_func, z_HI_ana, HI_ana, z_dxHdz_ana, dxHdz_ana, HIrho_over_rho0_interp, BMF_interp, \\\n",
    "    xi_A_HICO_unsmoothed_interp = read_model_data(DIR, zeta, T_vir, R_mfp, SMOOTHING_SCALE)\n",
    "HI_func = interp1d(z_HI_ana, HI_ana, kind = 'cubic')\n",
    "\n",
    "#we choose"
   ]
  },
  {
   "cell_type": "code",
   "execution_count": 109,
   "metadata": {},
   "outputs": [
    {
     "data": {
      "image/png": "[encoded data removed]",
      "text/plain": [
       "<Figure size 432x576 with 2 Axes>"
      ]
     },
     "metadata": {
      "needs_background": "light"
     },
     "output_type": "display_data"
    }
   ],
   "source": [
    "#plot the history of\n",
    "fig, axs = plt.subplots(2, 1, sharex=True, figsize=(6,8))\n",
    "fig.subplots_adjust(hspace=0)   \n",
    "axs[0].tick_params(direction='in',length=3)\n",
    "axs[0].plot(z_HI_ana, HI_ana, color = 'black', lw=1, ls='-')\n",
    "axs[0].plot(z_acc_array[6], HI_func(z_acc_array[6]), marker = 'o', color = 'red')\n",
    "axs[0].set_ylabel(r'$\\bar{x}_{\\mathrm{HI}}$',fontsize=18)\n",
    "axs[0].set_ylim(0,1)\n",
    "#axs[0].legend(loc=2,fontsize=15, frameon = False)\n",
    "axs[1].plot(z_dxHdz_ana, dxHdz_ana, color = 'black', lw=1, ls='-')\n",
    "axs[1].plot(z_acc_array[6], dxHdz_acc_array[6], marker = 'o', color = 'red')\n",
    "axs[1].set_ylim(0.0,0.45); axs[1].set_xlim(6,12)\n",
    "axs[1].set_ylabel(r'd$\\bar{x}_{\\mathrm{HI}}$/dz',fontsize=15)\n",
    "axs[1].set_xlabel('z',fontsize=15)\n",
    "axs[1].tick_params(direction='in',length=3)\n",
    "plt.savefig('../figures/history_comparison_confidence_redshift.png', bbox_inches='tight', dpi=200)"
   ]
  },
  {
   "cell_type": "code",
   "execution_count": 101,
   "metadata": {},
   "outputs": [
    {
     "name": "stdout",
     "output_type": "stream",
     "text": [
      "the confidence at z = 7.67, x_HI = 0.42, dxH/dz = 0.285 (acceleration) is 0.451\n",
      "the conputation cost 0.319 mins\n",
      "the confidence at z = 7.67, x_HI = 0.42, dxH/dz = 0.285 (acceleration) is 1.53\n",
      "the conputation cost 0.313 mins\n"
     ]
    },
    {
     "data": {
      "image/png": "[encoded data removed]",
      "text/plain": [
       "<Figure size 432x288 with 1 Axes>"
      ]
     },
     "metadata": {
      "needs_background": "light"
     },
     "output_type": "display_data"
    }
   ],
   "source": [
    "MODEL_PARA = [zeta, T_vir, R_mfp, zeta_z_func, z_HI_ana, HI_ana, z_dxHdz_ana, dxHdz_ana, HIrho_over_rho0_interp, BMF_interp, \\\n",
    "    xi_A_HICO_unsmoothed_interp]\n",
    "\n",
    "DETECTION_PARA = [75, 3000*3600, 384]\n",
    "Pk_A_acc, Pk_A_acc_var_0, S_over_N_0, kh_min_0, kh_max_0, confidence_0 = variance_computation(6, z_acc_array, dxHdz_acc_array, kh_array, Pk_A_acc_map, MODEL_PARA, DETECTION_PARA, 0)\n",
    "DETECTION_PARA = [200, 3000*3600, 384]\n",
    "Pk_A_acc, Pk_A_acc_var_1, S_over_N_1, kh_min_1, kh_max_1, confidence_1 = variance_computation(6, z_acc_array, dxHdz_acc_array, kh_array, Pk_A_acc_map, MODEL_PARA, DETECTION_PARA, 1)\n",
    "\n",
    "#plot the signal and the variance\n",
    "fig, axs = plt.subplots(1, 1, sharex=True, figsize=(6,4))\n",
    "fig.subplots_adjust(hspace=0)\n",
    "axs.loglog(kh_array[3:], Pk_A_acc, color = 'black', label = 'signal')\n",
    "axs.loglog(kh_array[3:], Pk_A_acc_var_0, ls = '--', color = 'blue', label = 'SKA1 (%3.3g$\\sigma$)'%confidence_0)\n",
    "axs.loglog(kh_array[3:], Pk_A_acc_var_1, ls = '--', color = 'green', label = 'SKA2 (%3.3g$\\sigma$)'%confidence_1)\n",
    "#axs.vlines(x=kh_max_array_2[INDEX_Z],ymin = 1e1,ymax = 1e7, color = 'grey', lw=0.8)\n",
    "axs.legend(loc = 3, fontsize = 11)\n",
    "#axs.set_ylim(0.0,0.46); axs.set_xlim(6,11)\n",
    "axs.set_ylabel(r'$P^A\\ [\\mu K^2\\ h^{-3} \\mathrm{Mpc}^3]$',fontsize=14)\n",
    "axs.set_xlabel(r'$k\\ [h\\ Mpc^{-1}]$',fontsize=14)\n",
    "axs.tick_params(direction='in',length=3)\n",
    "axs.set_ylim(3e3, 2e6)\n",
    "axs.set_xticks([0.14, 0.2, 0.3,0.4, 0.6])\n",
    "axs.set_xticklabels(['$0.14$', '$0.2$', '$0.3$', '$0.4$','$0.6$'], fontsize=12)\n",
    "#axs[1].text(8.3, 0.31,'accel.',fontsize=12); axs[1].text(6.7, 0.3, 'decel.', fontsize = 12)\n",
    "plt.savefig('../figures/sensitivity_z6.67_HI0.42_dxHdz0.285.png', bbox_inches='tight', dpi=200)"
   ]
  },
  {
   "cell_type": "code",
   "execution_count": 110,
   "metadata": {},
   "outputs": [
    {
     "name": "stdout",
     "output_type": "stream",
     "text": [
      "the confidence at z = 7.67, x_HI = 0.42, dxH/dz = 0.285 (acceleration) is 0.345\n",
      "the conputation cost 0.325 mins\n",
      "the confidence at z = 7.67, x_HI = 0.42, dxH/dz = 0.285 (acceleration) is 0.468\n",
      "the conputation cost 0.317 mins\n",
      "the confidence at z = 7.67, x_HI = 0.42, dxH/dz = 0.285 (acceleration) is 0.382\n",
      "the conputation cost 0.336 mins\n",
      "the confidence at z = 7.67, x_HI = 0.42, dxH/dz = 0.285 (acceleration) is 0.575\n",
      "the conputation cost 0.335 mins\n",
      "the confidence at z = 7.67, x_HI = 0.42, dxH/dz = 0.285 (acceleration) is 0.412\n",
      "the conputation cost 0.349 mins\n",
      "the confidence at z = 7.67, x_HI = 0.42, dxH/dz = 0.285 (acceleration) is 0.697\n",
      "the conputation cost 0.34 mins\n",
      "the confidence at z = 7.67, x_HI = 0.42, dxH/dz = 0.285 (acceleration) is 0.433\n",
      "the conputation cost 0.366 mins\n",
      "the confidence at z = 7.67, x_HI = 0.42, dxH/dz = 0.285 (acceleration) is 0.865\n",
      "the conputation cost 0.362 mins\n",
      "the confidence at z = 7.67, x_HI = 0.42, dxH/dz = 0.285 (acceleration) is 0.448\n",
      "the conputation cost 0.36 mins\n",
      "the confidence at z = 7.67, x_HI = 0.42, dxH/dz = 0.285 (acceleration) is 1.1\n",
      "the conputation cost 0.35 mins\n",
      "the confidence at z = 7.67, x_HI = 0.42, dxH/dz = 0.285 (acceleration) is 0.455\n",
      "the conputation cost 0.309 mins\n",
      "the confidence at z = 7.67, x_HI = 0.42, dxH/dz = 0.285 (acceleration) is 1.3\n",
      "the conputation cost 0.309 mins\n",
      "the confidence at z = 7.67, x_HI = 0.42, dxH/dz = 0.285 (acceleration) is 0.456\n",
      "the conputation cost 0.312 mins\n",
      "the confidence at z = 7.67, x_HI = 0.42, dxH/dz = 0.285 (acceleration) is 1.43\n",
      "the conputation cost 0.332 mins\n",
      "the confidence at z = 7.67, x_HI = 0.42, dxH/dz = 0.285 (acceleration) is 0.451\n",
      "the conputation cost 0.345 mins\n",
      "the confidence at z = 7.67, x_HI = 0.42, dxH/dz = 0.285 (acceleration) is 1.51\n",
      "the conputation cost 0.34 mins\n",
      "the confidence at z = 7.67, x_HI = 0.42, dxH/dz = 0.285 (acceleration) is 0.439\n",
      "the conputation cost 0.338 mins\n",
      "the confidence at z = 7.67, x_HI = 0.42, dxH/dz = 0.285 (acceleration) is 1.54\n",
      "the conputation cost 0.331 mins\n",
      "the confidence at z = 7.67, x_HI = 0.42, dxH/dz = 0.285 (acceleration) is 0.42\n",
      "the conputation cost 0.327 mins\n",
      "the confidence at z = 7.67, x_HI = 0.42, dxH/dz = 0.285 (acceleration) is 1.53\n",
      "the conputation cost 0.348 mins\n"
     ]
    }
   ],
   "source": [
    "#compute the confidence dependence on the survey area\n",
    "survey_num_array = np.logspace(np.log10(3), np.log10(200), 10)\n",
    "confidence_array_0, confidence_array_1 = np.zeros(10), np.zeros(10)\n",
    "for i in range(len(survey_num_array)):\n",
    "    DETECTION_PARA = [survey_num_array[i], 3000*3600, 384]\n",
    "    Pk_A_acc, Pk_A_acc_var_0, S_over_N_0, kh_min_0, kh_max_0, confidence_array_0[i] = variance_computation(6, z_acc_array, dxHdz_acc_array, kh_array, Pk_A_acc_map, MODEL_PARA, DETECTION_PARA, 0)\n",
    "    Pk_A_acc, Pk_A_acc_var_1, S_over_N_1, kh_min_0, kh_max_0, confidence_array_1[i] = variance_computation(6, z_acc_array, dxHdz_acc_array, kh_array, Pk_A_acc_map, MODEL_PARA, DETECTION_PARA, 1)\n"
   ]
  },
  {
   "cell_type": "code",
   "execution_count": 112,
   "metadata": {},
   "outputs": [
    {
     "data": {
      "image/png": "[encoded data removed]",
      "text/plain": [
       "<Figure size 432x288 with 1 Axes>"
      ]
     },
     "metadata": {
      "needs_background": "light"
     },
     "output_type": "display_data"
    }
   ],
   "source": [
    "#plot the confidence dependence on the survey area\n",
    "fig, axs = plt.subplots(1, 1, sharex=True, figsize=(6,4))\n",
    "fig.subplots_adjust(hspace=0)\n",
    "axs.plot(survey_num_array, confidence_array_0, color = 'blue', marker = '.', label = 'SKA1')\n",
    "axs.plot(survey_num_array, confidence_array_1, color = 'green', marker = '.', label = 'SKA2')\n",
    "#axs.vlines(x=kh_max_array_2[INDEX_Z],ymin = 1e1,ymax = 1e7, color = 'grey', lw=0.8)\n",
    "axs.legend(loc = 2, fontsize = 11)\n",
    "#axs.set_ylim(0.0,0.46); axs.set_xlim(6,11)\n",
    "axs.set_ylabel(r'level of significance',fontsize=14)\n",
    "axs.set_xlabel(r'survey volume / $384^3 \\ \\mathrm{Mpc}^3$',fontsize=14)\n",
    "axs.tick_params(direction='in',length=3)\n",
    "#axs.set_xscale('log')\n",
    "#axs.set_ylim(3e3, 2e6)\n",
    "#axs.set_xticks([0.14, 0.2, 0.3,0.4, 0.6])\n",
    "#axs.set_xticklabels(['$0.14$', '$0.2$', '$0.3$', '$0.4$','$0.6$'], fontsize=12)\n",
    "plt.savefig('../figures/confidence_dependence_surveyarea.png', bbox_inches = 'tight', dpi=400)"
   ]
  },
  {
   "cell_type": "code",
   "execution_count": 95,
   "metadata": {
    "collapsed": true
   },
   "outputs": [
    {
     "name": "stdout",
     "output_type": "stream",
     "text": [
      "the confidence at z = 7.67, x_HI = 0.42, dxH/dz = 0.285 (acceleration) is 0.229\n",
      "the conputation cost 0.325 mins\n",
      "the confidence at z = 7.67, x_HI = 0.42, dxH/dz = 0.285 (acceleration) is 0.798\n",
      "the conputation cost 0.322 mins\n",
      "the confidence at z = 7.67, x_HI = 0.42, dxH/dz = 0.285 (acceleration) is 0.279\n",
      "the conputation cost 0.336 mins\n",
      "the confidence at z = 7.67, x_HI = 0.42, dxH/dz = 0.285 (acceleration) is 0.93\n",
      "the conputation cost 0.319 mins\n",
      "the confidence at z = 7.67, x_HI = 0.42, dxH/dz = 0.285 (acceleration) is 0.337\n",
      "the conputation cost 0.318 mins\n",
      "the confidence at z = 7.67, x_HI = 0.42, dxH/dz = 0.285 (acceleration) is 1.07\n",
      "the conputation cost 0.342 mins\n",
      "the confidence at z = 7.67, x_HI = 0.42, dxH/dz = 0.285 (acceleration) is 0.404\n",
      "the conputation cost 0.328 mins\n",
      "the confidence at z = 7.67, x_HI = 0.42, dxH/dz = 0.285 (acceleration) is 1.31\n",
      "the conputation cost 0.33 mins\n",
      "the confidence at z = 7.67, x_HI = 0.42, dxH/dz = 0.285 (acceleration) is 0.48\n",
      "the conputation cost 0.311 mins\n",
      "the confidence at z = 7.67, x_HI = 0.42, dxH/dz = 0.285 (acceleration) is 1.73\n",
      "the conputation cost 0.312 mins\n",
      "the confidence at z = 7.67, x_HI = 0.42, dxH/dz = 0.285 (acceleration) is 0.566\n",
      "the conputation cost 0.344 mins\n",
      "the confidence at z = 7.67, x_HI = 0.42, dxH/dz = 0.285 (acceleration) is 2.25\n",
      "the conputation cost 0.326 mins\n",
      "the confidence at z = 7.67, x_HI = 0.42, dxH/dz = 0.285 (acceleration) is 0.663\n",
      "the conputation cost 0.333 mins\n",
      "the confidence at z = 7.67, x_HI = 0.42, dxH/dz = 0.285 (acceleration) is 2.83\n",
      "the conputation cost 0.307 mins\n",
      "the confidence at z = 7.67, x_HI = 0.42, dxH/dz = 0.285 (acceleration) is 0.773\n",
      "the conputation cost 0.313 mins\n",
      "the confidence at z = 7.67, x_HI = 0.42, dxH/dz = 0.285 (acceleration) is 3.47\n",
      "the conputation cost 0.319 mins\n",
      "the confidence at z = 7.67, x_HI = 0.42, dxH/dz = 0.285 (acceleration) is 0.896\n",
      "the conputation cost 0.331 mins\n",
      "the confidence at z = 7.67, x_HI = 0.42, dxH/dz = 0.285 (acceleration) is 4.16\n",
      "the conputation cost 0.321 mins\n",
      "the confidence at z = 7.67, x_HI = 0.42, dxH/dz = 0.285 (acceleration) is 1.03\n",
      "the conputation cost 0.31 mins\n",
      "the confidence at z = 7.67, x_HI = 0.42, dxH/dz = 0.285 (acceleration) is 4.88\n",
      "the conputation cost 0.315 mins\n"
     ]
    }
   ],
   "source": [
    "#compute the confidence dependence on the survey area\n",
    "t_int_array = np.logspace(np.log10(1000 * 3600), np.log10(16000 * 3600), 10)\n",
    "confidence_array_0, confidence_array_1 = np.zeros(10), np.zeros(10)\n",
    "for i in range(10):\n",
    "    DETECTION_PARA = [100, t_int_array[i], 384]\n",
    "    Pk_A_acc, Pk_A_acc_var_0, S_over_N_0, kh_min_0, kh_max_0, confidence_array_0[i] = variance_computation(6, z_acc_array, dxHdz_acc_array, kh_array, Pk_A_acc_map, MODEL_PARA, DETECTION_PARA, 0)\n",
    "    Pk_A_acc, Pk_A_acc_var_1, S_over_N_1, kh_min_0, kh_max_0, confidence_array_1[i] = variance_computation(6, z_acc_array, dxHdz_acc_array, kh_array, Pk_A_acc_map, MODEL_PARA, DETECTION_PARA, 1)"
   ]
  },
  {
   "cell_type": "code",
   "execution_count": 99,
   "metadata": {},
   "outputs": [
    {
     "data": {
      "image/png": "[encoded data removed]",
      "text/plain": [
       "<Figure size 432x288 with 1 Axes>"
      ]
     },
     "metadata": {
      "needs_background": "light"
     },
     "output_type": "display_data"
    }
   ],
   "source": [
    "#plot the confidence dependence on the survey area\n",
    "fig, axs = plt.subplots(1, 1, sharex=True, figsize=(6,4))\n",
    "fig.subplots_adjust(hspace=0)\n",
    "axs.plot(t_int_array / 3600, confidence_array_0, color = 'blue', marker = '.', label = 'SKA1')\n",
    "axs.plot(t_int_array / 3600, confidence_array_1, color = 'green', marker = '.', label = 'SKA2')\n",
    "#axs.vlines(x=kh_max_array_2[INDEX_Z],ymin = 1e1,ymax = 1e7, color = 'grey', lw=0.8)\n",
    "axs.legend(loc = 2, fontsize = 11)\n",
    "#axs.set_ylim(0.0,0.46); axs.set_xlim(6,11)\n",
    "axs.set_ylabel(r'level of significance',fontsize=14)\n",
    "axs.set_xlabel(r'$t_\\mathrm{int}$ ($10^3$ hour)',fontsize=14)\n",
    "axs.tick_params(direction='in',length=3)\n",
    "axs.set_xticks([1e3, 5e3, 10e3, 15e3])\n",
    "axs.set_xticklabels(['$1$', '$5$', '$10$', '$15$'], fontsize=12)\n",
    "plt.savefig('../figures/confidence_dependence_Tint.png', bbox_inches = 'tight', dpi=400)"
   ]
  },
  {
   "cell_type": "code",
   "execution_count": null,
   "metadata": {},
   "outputs": [],
   "source": []
  },
  {
   "cell_type": "code",
   "execution_count": null,
   "metadata": {},
   "outputs": [],
   "source": []
  },
  {
   "cell_type": "code",
   "execution_count": 127,
   "metadata": {},
   "outputs": [
    {
     "name": "stdout",
     "output_type": "stream",
     "text": [
      "the confidence at z = 7.67, x_HI = 0.42, dxH/dz = 0.285 (acceleration) is 4.2\n",
      "the conputation cost 0.3 mins\n"
     ]
    },
    {
     "data": {
      "text/plain": [
       "4.196721805029356"
      ]
     },
     "execution_count": 127,
     "metadata": {},
     "output_type": "execute_result"
    }
   ],
   "source": [
    "#test\n",
    "DETECTION_PARA = [800, 16000*3600, 250]\n",
    "Pk_A_acc, Pk_A_acc_var_0, S_over_N_0, kh_min_0, kh_max_0, confidence_array_0 = variance_computation(6, z_acc_array, dxHdz_acc_array, kh_array, Pk_A_acc_map, MODEL_PARA, DETECTION_PARA, 1)\n",
    "confidence_array_0"
   ]
  },
  {
   "cell_type": "code",
   "execution_count": 126,
   "metadata": {},
   "outputs": [
    {
     "name": "stdout",
     "output_type": "stream",
     "text": [
      "the confidence at z = 7.67, x_HI = 0.42, dxH/dz = 0.285 (acceleration) is 4.17\n",
      "the conputation cost 0.303 mins\n"
     ]
    },
    {
     "data": {
      "text/plain": [
       "4.169614373913648"
      ]
     },
     "execution_count": 126,
     "metadata": {},
     "output_type": "execute_result"
    }
   ],
   "source": [
    "#test\n",
    "DETECTION_PARA = [700, 16000*3600, 250]\n",
    "Pk_A_acc, Pk_A_acc_var_0, S_over_N_0, kh_min_0, kh_max_0, confidence_array_0 = variance_computation(6, z_acc_array, dxHdz_acc_array, kh_array, Pk_A_acc_map, MODEL_PARA, DETECTION_PARA, 1)\n",
    "confidence_array_0"
   ]
  },
  {
   "cell_type": "code",
   "execution_count": 125,
   "metadata": {},
   "outputs": [
    {
     "name": "stdout",
     "output_type": "stream",
     "text": [
      "the confidence at z = 7.67, x_HI = 0.42, dxH/dz = 0.285 (acceleration) is 4.13\n",
      "the conputation cost 0.354 mins\n"
     ]
    },
    {
     "data": {
      "text/plain": [
       "4.125651048159582"
      ]
     },
     "execution_count": 125,
     "metadata": {},
     "output_type": "execute_result"
    }
   ],
   "source": [
    "#test\n",
    "DETECTION_PARA = [600, 16000*3600, 250]\n",
    "Pk_A_acc, Pk_A_acc_var_0, S_over_N_0, kh_min_0, kh_max_0, confidence_array_0 = variance_computation(6, z_acc_array, dxHdz_acc_array, kh_array, Pk_A_acc_map, MODEL_PARA, DETECTION_PARA, 1)\n",
    "confidence_array_0"
   ]
  },
  {
   "cell_type": "code",
   "execution_count": null,
   "metadata": {},
   "outputs": [],
   "source": []
  }
 ],
 "metadata": {
  "kernelspec": {
   "display_name": "Python 3",
   "language": "python",
   "name": "python3"
  },
  "language_info": {
   "codemirror_mode": {
    "name": "ipython",
    "version": 3
   },
   "file_extension": ".py",
   "mimetype": "text/x-python",
   "name": "python",
   "nbconvert_exporter": "python",
   "pygments_lexer": "ipython3",
   "version": "3.8.5"
  }
 },
 "nbformat": 4,
 "nbformat_minor": 4
}
