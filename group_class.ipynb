{
 "cells": [
  {
   "cell_type": "code",
   "execution_count": 1,
   "metadata": {},
   "outputs": [],
   "source": [
    "import numpy as np\n",
    "import matplotlib \n",
    "from matplotlib import pyplot as plt\n",
    "from scipy.interpolate import interp1d, interp2d\n",
    "\n",
    "import antisym_func"
   ]
  },
  {
   "cell_type": "code",
   "execution_count": 3,
   "metadata": {},
   "outputs": [],
   "source": [
    "#set the parameters\n",
    "plt.rcParams['xtick.direction'] = 'in'\n",
    "plt.rcParams['ytick.direction'] = 'in'\n",
    "R_mfp = 50 #Mpc\n",
    "M_max = antisym_func.RtoM(R_mfp)\n",
    "mu = 0.6 #since all of T_vir > 1e4\n",
    "SMOOTHING_Pk = 250\n",
    "\n",
    "zeta_array = []; T_vir_array = [];#[z_turning][maximum_speed]\n",
    "zeta_array.append([17.15, 22.3, 28.4, 37.3]); T_vir_array.append([2.71e4, 4.3e4, 6.6e4, 9.5e4])\n",
    "zeta_array.append([20.3, 26.4, 34.6, 45.7]); T_vir_array.append([2.28e4, 3.66e4, 5.6e4, 8.2e4])\n",
    "zeta_array.append([24, 31.6, 42.5, 56.5]); T_vir_array.append([1.9e4, 3.08e4, 4.7e4, 6.9e4])\n",
    "max_dxHdz = [0.33, 0.36, 0.39, 0.42]"
   ]
  },
  {
   "cell_type": "code",
   "execution_count": 17,
   "metadata": {},
   "outputs": [],
   "source": [
    "#read in the Pk_A_HICO data\n",
    "DIR_read = '/Users/liuzhaoning/Desktop/Today/antisym_observability/data/antisym_observability/Pk_A_group_class/'\n",
    "\n",
    "kh_array = np.logspace(np.log10(0.1),np.log10(0.6), 16)\n",
    "k_array = kh_array * antisym_func.hlittle\n",
    "z_acc_array = []; z_dec_array = [] #[z_turning][group][z]\n",
    "dxHdz_acc_array = []; dxHdz_dec_array = [] #[z_turning][group][dxHdz]\n",
    "Pk_A_acc_map = []; Pk_A_dec_map = [] #[z_turning][group][dxHdz/z][kh]\n",
    "for i in range(len(zeta_array)):\n",
    "    z_acc_array.append([]); z_dec_array.append([])\n",
    "    dxHdz_acc_array.append([]); dxHdz_dec_array.append([])\n",
    "    Pk_A_acc_map.append([]); Pk_A_dec_map.append([])\n",
    "    for j in range(len(zeta_array[i])):\n",
    "        zeta = zeta_array[i][j]; T_vir = T_vir_array[i][j]\n",
    "        data = np.load(DIR_read + 'zeta%05.5g_Tvir%05.5g_Rmfp%05.5g_SMO%03.3g/Pk_A_acc_array.npz'%(zeta, T_vir, R_mfp, SMOOTHING_Pk))\n",
    "        z_acc_array[-1].append(list(data['z_xi_acc_smoothed_array'])); dxHdz_acc_array[-1].append(list(data['dxHdz_xi_acc_smoothed_array']))\n",
    "        Pk_A_acc_map[-1].append(list(data['Pk_A_acc_map'])); \n",
    "        data = np.load(DIR_read + 'zeta%05.5g_Tvir%05.5g_Rmfp%05.5g_SMO%03.3g/Pk_A_dec_array.npz'%(zeta, T_vir, R_mfp, SMOOTHING_Pk))\n",
    "        z_dec_array[-1].append(list(data['z_xi_dec_smoothed_array'])); dxHdz_dec_array[-1].append(list(data['dxHdz_xi_dec_smoothed_array'])) \n",
    "        Pk_A_dec_map[-1].append(list(data['Pk_A_dec_map']))"
   ]
  },
  {
   "cell_type": "code",
   "execution_count": 26,
   "metadata": {},
   "outputs": [
    {
     "data": {
      "text/plain": [
       "array([42278.52971883, 53720.26846316, 63133.16213515, 68704.49767028,\n",
       "       69258.55522096, 64888.16182128, 56924.36936342, 47127.22625894,\n",
       "       36979.41796856, 27724.06585313, 20121.39259966, 14125.23132275,\n",
       "        9677.48795662,  6484.26972445,  4278.68264773,  2772.60484157])"
      ]
     },
     "execution_count": 26,
     "metadata": {},
     "output_type": "execute_result"
    }
   ],
   "source": [
    "Pk_A_acc_map[2][3][5]"
   ]
  },
  {
   "cell_type": "code",
   "execution_count": 19,
   "metadata": {},
   "outputs": [
    {
     "name": "stderr",
     "output_type": "stream",
     "text": [
      "No handles with labels found to put in legend.\n"
     ]
    },
    {
     "data": {
      "image/png": "[encoded data removed]",
      "text/plain": [
       "<Figure size 1152x576 with 6 Axes>"
      ]
     },
     "metadata": {
      "needs_background": "light"
     },
     "output_type": "display_data"
    }
   ],
   "source": [
    "#plot the Pk_A_HICO comparison between different groups\n",
    "COMPARISON_INDEX = [1, 3] # group number\n",
    "\n",
    "colorlist=['#845EC2', '#FF6F91', '#FF9671', '#FFC75F']; lslist = ['-', '--', '-.']\n",
    "dxHdz_plot_list = [0.255, 0.315, 0.375]\n",
    "fig, axs = plt.subplots(2, 3, sharey=True, sharex = True, figsize=(16, 8))\n",
    "fig.subplots_adjust(wspace=0, hspace = 0)\n",
    "for i in range(3):\n",
    "    dxHdz_plot = dxHdz_plot_list[i]\n",
    "    for j in range(len(T_vir_array)):\n",
    "        for k in range(len(T_vir_array[j])):\n",
    "            if (k == COMPARISON_INDEX[0] or k == COMPARISON_INDEX[1]):\n",
    "                for m in range(len(dxHdz_acc_array[j][k])):\n",
    "                    if (dxHdz_acc_array[j][k][m] == dxHdz_plot):\n",
    "                        axs[0, i].loglog(kh_array[1:], Pk_A_acc_map[j][k][m][1:], linewidth = 0.6, markersize = 2, marker = 'o', ls = lslist[j], color = colorlist[k])\n",
    "                        if (j == 0):\n",
    "                            axs[0, i].loglog(kh_array[1:], Pk_A_acc_map[j][k][m][1:], linewidth = 0.6, ls = lslist[j], color = colorlist[k], label=r'$dx_\\mathrm{HI}/dz |_\\mathrm{max}=%3.3g$'%max_dxHdz[k])\n",
    "    axs[0, i].text(0.27, 1.5e6, '$dx_\\mathrm{HI} / dz = %3.3g$'%dxHdz_plot, fontsize = 14)\n",
    "    axs[0, i].text(0.28, 3e6, 'Acceleration', fontsize=14)\n",
    "    #axs[i].loglog(np.linspace(0.1, 0.6, 100), PkA_simu_fit_plot, '-', color = 'black', linewidth = 1, label = '21cmFAST')\n",
    "axs[0, 0].set_ylabel(r'$P^A(k)$ ($\\mu K^2\\ h^{-3}$ $Mpc^{3}$)', fontsize = 14)\n",
    "axs[0, 0].set_ylabel(r'$P^A(k)$ ($\\mu K^2\\ h^{-3}$ $Mpc^{3}$)', fontsize = 14)\n",
    "axs[0, 0].set_yticks([1e3, 1e4, 1e5, 1e6, 1e7])\n",
    "axs[0, 0].set_yticklabels(['$-10^{3}$','$-10^{4}$','$-10^{5}$','$-10^{6}$','$-10^{7}$'])\n",
    "axs[0, 0].set_ylim(5e2, 7e6)\n",
    "axs[0, 0].legend(loc=2, fontsize=12)\n",
    "\n",
    "for i in range(3):\n",
    "    dxHdz_plot = dxHdz_plot_list[i]\n",
    "    for j in range(len(T_vir_array)):\n",
    "        for k in range(len(T_vir_array[j])):\n",
    "            if (k == COMPARISON_INDEX[0] or k == COMPARISON_INDEX[1]):\n",
    "                for m in range(len(dxHdz_dec_array[j][k])):\n",
    "                    if (dxHdz_dec_array[j][k][m] == dxHdz_plot):\n",
    "                        axs[1, i].loglog(kh_array[1:], Pk_A_dec_map[j][k][m][1:], markersize = 2, marker = 'o', linewidth = 0.6, ls = lslist[j], color = colorlist[k])\n",
    "                        if (j == 0):\n",
    "                            axs[1, i].loglog(kh_array[1:], Pk_A_dec_map[j][k][m][1:], linewidth = 0.6, ls = lslist[j], color = colorlist[k], label=r'$dx_\\mathrm{HI}/dz |_\\mathrm{max}=%3.3g$'%max_dxHdz[k])\n",
    "    #axs[i].loglog(np.linspace(0.1, 0.6, 100), PkA_simu_fit_plot, '-', color = 'black', linewidth = 1, label = '21cmFAST')\n",
    "    axs[1, i].set_xlabel(r'$k\\ (h\\ Mpc^{-1})$',fontsize = 14)\n",
    "    axs[1, i].set_xticks([0.1,0.2,0.3,0.4,0.5,0.6])\n",
    "    axs[1, i].set_xticklabels(['0.1','0.2','0.3','0.4','0.5','0.6'])\n",
    "    axs[1, i].text(0.27, 1.5e6, '$dx_\\mathrm{HI} / dz = %3.3g$'%dxHdz_plot, fontsize = 14)\n",
    "    axs[1, i].text(0.28, 3e6, 'Deceleration', fontsize=14)\n",
    "    axs[1, i].set_xlim(0.095, 0.68)\n",
    "axs[1, 0].set_ylabel(r'$P^A(k)$ ($\\mu K^2\\ h^{-3}$ $Mpc^{3}$)', fontsize = 14)\n",
    "axs[1, 0].set_ylabel(r'$P^A(k)$ ($\\mu K^2\\ h^{-3}$ $Mpc^{3}$)', fontsize = 14)\n",
    "axs[1, 0].set_yticks([1e3, 1e4, 1e5, 1e6, 1e7])\n",
    "axs[1, 0].set_yticklabels(['$-10^{3}$','$-10^{4}$','$-10^{5}$','$-10^{6}$','$-10^{7}$'])\n",
    "axs[1, 0].set_ylim(5e2, 7e6)\n",
    "axs[1, 0].invert_yaxis()\n",
    "#axs[1, 0].legend(loc=3, fontsize=10)\n",
    "fig.savefig('../figures/Pk_A_HICO_groupclass_compare%d%d_LEN%d.png'%(COMPARISON_INDEX[0], COMPARISON_INDEX[1], SMOOTHING_Pk), bbox_inches='tight', dpi=200)"
   ]
  },
  {
   "cell_type": "code",
   "execution_count": null,
   "metadata": {},
   "outputs": [],
   "source": []
  }
 ],
 "metadata": {
  "kernelspec": {
   "display_name": "Python 3",
   "language": "python",
   "name": "python3"
  },
  "language_info": {
   "codemirror_mode": {
    "name": "ipython",
    "version": 3
   },
   "file_extension": ".py",
   "mimetype": "text/x-python",
   "name": "python",
   "nbconvert_exporter": "python",
   "pygments_lexer": "ipython3",
   "version": "3.8.5"
  }
 },
 "nbformat": 4,
 "nbformat_minor": 4
}
